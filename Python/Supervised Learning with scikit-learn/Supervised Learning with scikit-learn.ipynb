{
  "nbformat": 4,
  "nbformat_minor": 0,
  "metadata": {
    "colab": {
      "name": "Supervised Learning with scikit-learn",
      "provenance": [],
      "authorship_tag": "ABX9TyPEON8shPcud7beum8n0BM5",
      "include_colab_link": true
    },
    "kernelspec": {
      "name": "python3",
      "display_name": "Python 3"
    }
  },
  "cells": [
    {
      "cell_type": "markdown",
      "metadata": {
        "id": "view-in-github",
        "colab_type": "text"
      },
      "source": [
        "<a href=\"https://colab.research.google.com/github/JitendraAlim/Data-Science-Toolkit/blob/master/Python/Supervised%20Learning%20with%20scikit-learn/Supervised%20Learning%20with%20scikit-learn.ipynb\" target=\"_parent\"><img src=\"https://colab.research.google.com/assets/colab-badge.svg\" alt=\"Open In Colab\"/></a>"
      ]
    },
    {
      "cell_type": "markdown",
      "metadata": {
        "id": "vNPphRTLgAkQ",
        "colab_type": "text"
      },
      "source": [
        "# <center>Supervised Learning with SciKit-Learn</center>\n",
        "\n",
        "<center><img src=\"https://assets.datacamp.com/production/course_1939/shields/original/shield_image_course_1939_20200225-1-gfk9h7?1582649232\" alt=\"Supervised Learning with SciKit Learn\" width=\"250px\"></center>\n",
        "\n",
        "***\n",
        "# Which of these is a Classification Problem?\n",
        "Once you decide to leverage supervised machine learning to solve a new problem, you need to identify whether your problem is better suited to classification or regression. This exercise will help you develop your intuition for distinguishing between the two.\n",
        "\n",
        "Provided below are 4 example applications of machine learning. Which of them is a supervised classification problem?\n",
        "\n",
        "* Using labeled financial data to predict whether the value of a stock will go up or go down next week. (**Correct**)\n",
        "* Using labeled housing price data to predict the price of a new house based on various features.\n",
        "* Using unlabeled data to cluster the students of an online education company into different categories based on their learning styles.\n",
        "* Using labeled financial data to predict what the value of a stock will be next week.\n",
        "\n",
        "In this example, there are two discrete, qualitative outcomes: the stock market going up, and the stock market going down. This can be represented using a binary variable, and is an application perfectly suited for classification.\n",
        "\n",
        "***\n",
        "# Numerical EDA\n",
        "In this chapter, you'll be working with a dataset obtained from the [UCI Machine Learning Repository](https://archive.ics.uci.edu/ml/index.php) consisting of votes made by US House of Representatives Congressmen. Your goal will be to predict their party affiliation ('Democrat' or 'Republican') based on how they voted on certain key issues. Here, it's worth noting that we have preprocessed this dataset to deal with missing values. This is so that your focus can be directed towards understanding how to train and evaluate supervised learning models. Once you have mastered these fundamentals, you will be introduced to preprocessing techniques in Chapter 4 and have the chance to apply them there yourself - including on this very same dataset!\n",
        "\n",
        "Before thinking about what supervised learning models you can apply to this, however, you need to perform Exploratory data analysis (EDA) in order to understand the structure of the data. For a refresher on the importance of EDA, check out the first two chapters of Statistical Thinking in Python (Part 1).\n",
        "\n",
        "Get started with your EDA now by exploring this voting records dataset numerically. It has been pre-loaded for you into a DataFrame called `df`. Use pandas' `.head()`, `.info()`, and `.describe()` methods in the IPython Shell to explore the DataFrame, and select the statement below that is **not** true.\n",
        "\n",
        "* The DataFrame has a total of `435` rows and `17` columns.\n",
        "* Except for `party`, all of the columns are of type `int64`.\n",
        "* The first two rows of the DataFrame consist of votes made by Republicans and the next three rows consist of votes made by Democrats.\n",
        "* There are 17 predictor variables, or features, in this DataFrame. (**Correct**)\n",
        "* The target variable in this DataFrame is `'party'`.\n",
        "\n",
        "The number of columns in the DataFrame is not equal to the number of features. One of the columns - `'party'` is the target variable.\n",
        "\n",
        "***\n",
        "# Visual EDA\n",
        "The Numerical EDA you did in the previous exercise gave you some very important information, such as the names and data types of the columns, and the dimensions of the DataFrame. Following this with some visual EDA will give you an even better understanding of the data. In the video, Hugo used the `scatter_matrix()` function on the Iris data for this purpose. However, you may have noticed in the previous exercise that all the features in this dataset are binary; that is, they are either 0 or 1. So a different type of plot would be more useful here, such as Seaborn's `countplot`.\n",
        "\n",
        "Given on below is a `countplot` of the `'education'` bill, generated from the following code:"
      ]
    },
    {
      "cell_type": "code",
      "metadata": {
        "id": "OVq5cqC9s6oR",
        "colab_type": "code",
        "colab": {}
      },
      "source": [
        ""
      ],
      "execution_count": null,
      "outputs": []
    }
  ]
}