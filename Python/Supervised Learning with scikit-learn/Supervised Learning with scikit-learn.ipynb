{
  "nbformat": 4,
  "nbformat_minor": 0,
  "metadata": {
    "colab": {
      "name": "Supervised Learning with scikit-learn",
      "provenance": [],
      "authorship_tag": "ABX9TyNbeSIgyNCSDEnWSzawhaFf",
      "include_colab_link": true
    },
    "kernelspec": {
      "name": "python3",
      "display_name": "Python 3"
    }
  },
  "cells": [
    {
      "cell_type": "markdown",
      "metadata": {
        "id": "view-in-github",
        "colab_type": "text"
      },
      "source": [
        "<a href=\"https://colab.research.google.com/github/JitendraAlim/Data-Science-Toolkit/blob/master/Python/Supervised%20Learning%20with%20scikit-learn/Supervised%20Learning%20with%20scikit-learn.ipynb\" target=\"_parent\"><img src=\"https://colab.research.google.com/assets/colab-badge.svg\" alt=\"Open In Colab\"/></a>"
      ]
    },
    {
      "cell_type": "markdown",
      "metadata": {
        "id": "vNPphRTLgAkQ",
        "colab_type": "text"
      },
      "source": [
        "# <center>Supervised Learning with SciKit-Learn</center>\n",
        "\n",
        "<center><img src=\"https://assets.datacamp.com/production/course_1939/shields/original/shield_image_course_1939_20200225-1-gfk9h7?1582649232\" alt=\"Supervised Learning with SciKit Learn\" width=\"250px\"></center>\n",
        "\n",
        "***\n",
        "# Which of these is a Classification Problem?\n",
        "Once you decide to leverage supervised machine learning to solve a new problem, you need to identify whether your problem is better suited to classification or regression. This exercise will help you develop your intuition for distinguishing between the two.\n",
        "\n",
        "Provided below are 4 example applications of machine learning. Which of them is a supervised classification problem?\n",
        "\n",
        "* Using labeled financial data to predict whether the value of a stock will go up or go down next week. (**Correct**)\n",
        "* Using labeled housing price data to predict the price of a new house based on various features.\n",
        "* Using unlabeled data to cluster the students of an online education company into different categories based on their learning styles.\n",
        "* Using labeled financial data to predict what the value of a stock will be next week.\n",
        "\n",
        "In this example, there are two discrete, qualitative outcomes: the stock market going up, and the stock market going down. This can be represented using a binary variable, and is an application perfectly suited for classification.\n",
        "\n",
        "***\n",
        "# Numerical EDA\n",
        "In this chapter, you'll be working with a dataset obtained from the [UCI Machine Learning Repository](https://archive.ics.uci.edu/ml/index.php) consisting of votes made by US House of Representatives Congressmen. Your goal will be to predict their party affiliation ('Democrat' or 'Republican') based on how they voted on certain key issues. Here, it's worth noting that we have preprocessed this dataset to deal with missing values. This is so that your focus can be directed towards understanding how to train and evaluate supervised learning models. Once you have mastered these fundamentals, you will be introduced to preprocessing techniques in Chapter 4 and have the chance to apply them there yourself - including on this very same dataset!"
      ]
    },
    {
      "cell_type": "markdown",
      "metadata": {
        "id": "OVq5cqC9s6oR",
        "colab_type": "text"
      },
      "source": [
        "# Importing the US Congressional Voting Records (1984) data"
      ]
    },
    {
      "cell_type": "code",
      "metadata": {
        "id": "B2h5E24lhox6",
        "colab_type": "code",
        "colab": {
          "base_uri": "https://localhost:8080/",
          "height": 50
        },
        "outputId": "fa8631b0-de3d-49e5-c724-5b48b4b18d7a"
      },
      "source": [
        "# Importing required modules\n",
        "import pandas as pd\n",
        "import matplotlib.pyplot as plt\n",
        "import numpy as np\n",
        "import seaborn as sns"
      ],
      "execution_count": 4,
      "outputs": [
        {
          "output_type": "stream",
          "text": [
            "/usr/local/lib/python3.6/dist-packages/statsmodels/tools/_testing.py:19: FutureWarning: pandas.util.testing is deprecated. Use the functions in the public API at pandas.testing instead.\n",
            "  import pandas.util.testing as tm\n"
          ],
          "name": "stderr"
        }
      ]
    },
    {
      "cell_type": "code",
      "metadata": {
        "id": "-jJVXGj3h210",
        "colab_type": "code",
        "colab": {
          "base_uri": "https://localhost:8080/",
          "height": 197
        },
        "outputId": "03cec178-e3f4-4050-b4ef-d0e36f58fecb"
      },
      "source": [
        "# Importing the data\n",
        "df = pd.read_csv(\"http://bit.ly/USVotingRecords\")\n",
        "df.head()"
      ],
      "execution_count": 2,
      "outputs": [
        {
          "output_type": "execute_result",
          "data": {
            "text/html": [
              "<div>\n",
              "<style scoped>\n",
              "    .dataframe tbody tr th:only-of-type {\n",
              "        vertical-align: middle;\n",
              "    }\n",
              "\n",
              "    .dataframe tbody tr th {\n",
              "        vertical-align: top;\n",
              "    }\n",
              "\n",
              "    .dataframe thead th {\n",
              "        text-align: right;\n",
              "    }\n",
              "</style>\n",
              "<table border=\"1\" class=\"dataframe\">\n",
              "  <thead>\n",
              "    <tr style=\"text-align: right;\">\n",
              "      <th></th>\n",
              "      <th>party</th>\n",
              "      <th>infants</th>\n",
              "      <th>water</th>\n",
              "      <th>budget</th>\n",
              "      <th>physician</th>\n",
              "      <th>salvador</th>\n",
              "      <th>religious</th>\n",
              "      <th>satellite</th>\n",
              "      <th>aid</th>\n",
              "      <th>missile</th>\n",
              "      <th>immigration</th>\n",
              "      <th>synfuels</th>\n",
              "      <th>education</th>\n",
              "      <th>superfund</th>\n",
              "      <th>crime</th>\n",
              "      <th>duty_free_exports</th>\n",
              "      <th>eaa_rsa</th>\n",
              "    </tr>\n",
              "  </thead>\n",
              "  <tbody>\n",
              "    <tr>\n",
              "      <th>0</th>\n",
              "      <td>republican</td>\n",
              "      <td>0</td>\n",
              "      <td>1</td>\n",
              "      <td>0</td>\n",
              "      <td>1</td>\n",
              "      <td>1</td>\n",
              "      <td>1</td>\n",
              "      <td>0</td>\n",
              "      <td>0</td>\n",
              "      <td>0</td>\n",
              "      <td>1</td>\n",
              "      <td>0</td>\n",
              "      <td>1</td>\n",
              "      <td>1</td>\n",
              "      <td>1</td>\n",
              "      <td>0</td>\n",
              "      <td>1</td>\n",
              "    </tr>\n",
              "    <tr>\n",
              "      <th>1</th>\n",
              "      <td>republican</td>\n",
              "      <td>0</td>\n",
              "      <td>1</td>\n",
              "      <td>0</td>\n",
              "      <td>1</td>\n",
              "      <td>1</td>\n",
              "      <td>1</td>\n",
              "      <td>0</td>\n",
              "      <td>0</td>\n",
              "      <td>0</td>\n",
              "      <td>0</td>\n",
              "      <td>0</td>\n",
              "      <td>1</td>\n",
              "      <td>1</td>\n",
              "      <td>1</td>\n",
              "      <td>0</td>\n",
              "      <td>1</td>\n",
              "    </tr>\n",
              "    <tr>\n",
              "      <th>2</th>\n",
              "      <td>democrat</td>\n",
              "      <td>0</td>\n",
              "      <td>1</td>\n",
              "      <td>1</td>\n",
              "      <td>0</td>\n",
              "      <td>1</td>\n",
              "      <td>1</td>\n",
              "      <td>0</td>\n",
              "      <td>0</td>\n",
              "      <td>0</td>\n",
              "      <td>0</td>\n",
              "      <td>1</td>\n",
              "      <td>0</td>\n",
              "      <td>1</td>\n",
              "      <td>1</td>\n",
              "      <td>0</td>\n",
              "      <td>0</td>\n",
              "    </tr>\n",
              "    <tr>\n",
              "      <th>3</th>\n",
              "      <td>democrat</td>\n",
              "      <td>0</td>\n",
              "      <td>1</td>\n",
              "      <td>1</td>\n",
              "      <td>0</td>\n",
              "      <td>1</td>\n",
              "      <td>1</td>\n",
              "      <td>0</td>\n",
              "      <td>0</td>\n",
              "      <td>0</td>\n",
              "      <td>0</td>\n",
              "      <td>1</td>\n",
              "      <td>0</td>\n",
              "      <td>1</td>\n",
              "      <td>0</td>\n",
              "      <td>0</td>\n",
              "      <td>1</td>\n",
              "    </tr>\n",
              "    <tr>\n",
              "      <th>4</th>\n",
              "      <td>democrat</td>\n",
              "      <td>1</td>\n",
              "      <td>1</td>\n",
              "      <td>1</td>\n",
              "      <td>0</td>\n",
              "      <td>1</td>\n",
              "      <td>1</td>\n",
              "      <td>0</td>\n",
              "      <td>0</td>\n",
              "      <td>0</td>\n",
              "      <td>0</td>\n",
              "      <td>1</td>\n",
              "      <td>0</td>\n",
              "      <td>1</td>\n",
              "      <td>1</td>\n",
              "      <td>1</td>\n",
              "      <td>1</td>\n",
              "    </tr>\n",
              "  </tbody>\n",
              "</table>\n",
              "</div>"
            ],
            "text/plain": [
              "        party  infants  water  ...  crime  duty_free_exports  eaa_rsa\n",
              "0  republican        0      1  ...      1                  0        1\n",
              "1  republican        0      1  ...      1                  0        1\n",
              "2    democrat        0      1  ...      1                  0        0\n",
              "3    democrat        0      1  ...      0                  0        1\n",
              "4    democrat        1      1  ...      1                  1        1\n",
              "\n",
              "[5 rows x 17 columns]"
            ]
          },
          "metadata": {
            "tags": []
          },
          "execution_count": 2
        }
      ]
    },
    {
      "cell_type": "markdown",
      "metadata": {
        "id": "I29IJ27Sh3dj",
        "colab_type": "text"
      },
      "source": [
        "Before thinking about what supervised learning models you can apply to this, however, you need to perform Exploratory data analysis (EDA) in order to understand the structure of the data. For a refresher on the importance of EDA, check out the first two chapters of Statistical Thinking in Python (Part 1).\n",
        "\n",
        "Get started with your EDA now by exploring this voting records dataset numerically. It has been pre-loaded for you into a DataFrame called `df`. Use pandas' `.head()`, `.info()`, and `.describe()` methods in the IPython Shell to explore the DataFrame, and select the statement below that is **not** true.\n",
        "\n",
        "* The DataFrame has a total of `435` rows and `17` columns.\n",
        "* Except for `party`, all of the columns are of type `int64`.\n",
        "* The first two rows of the DataFrame consist of votes made by Republicans and the next three rows consist of votes made by Democrats.\n",
        "* There are 17 predictor variables, or features, in this DataFrame. (**Correct**)\n",
        "* The target variable in this DataFrame is `'party'`.\n",
        "\n",
        "The number of columns in the DataFrame is not equal to the number of features. One of the columns - `'party'` is the target variable.\n",
        "\n",
        "***\n",
        "# Visual EDA\n",
        "The Numerical EDA you did in the previous exercise gave you some very important information, such as the names and data types of the columns, and the dimensions of the DataFrame. Following this with some visual EDA will give you an even better understanding of the data. In the video, Hugo used the `scatter_matrix()` function on the Iris data for this purpose. However, you may have noticed in the previous exercise that all the features in this dataset are binary; that is, they are either 0 or 1. So a different type of plot would be more useful here, such as Seaborn's `countplot`.\n",
        "\n",
        "Given on below is a `countplot` of the `'education'` bill, generated from the following code:"
      ]
    },
    {
      "cell_type": "code",
      "metadata": {
        "id": "O4TqsfyiiRxi",
        "colab_type": "code",
        "colab": {
          "base_uri": "https://localhost:8080/",
          "height": 128
        },
        "outputId": "07712dcb-07b6-427f-afe9-f9738de0ea06"
      },
      "source": [
        "plt.figure()\n",
        "sns.countplot(x='education', hue='party', data=df, palette='RdBu')\n",
        "plt.xticks([0,1], ['No', 'Yes'])\n",
        "plt.show()b"
      ],
      "execution_count": 5,
      "outputs": [
        {
          "output_type": "error",
          "ename": "SyntaxError",
          "evalue": "ignored",
          "traceback": [
            "\u001b[0;36m  File \u001b[0;32m\"<ipython-input-5-cc7aa9f1c25a>\"\u001b[0;36m, line \u001b[0;32m4\u001b[0m\n\u001b[0;31m    plt.show()b\u001b[0m\n\u001b[0m              ^\u001b[0m\n\u001b[0;31mSyntaxError\u001b[0m\u001b[0;31m:\u001b[0m invalid syntax\n"
          ]
        }
      ]
    }
  ]
}