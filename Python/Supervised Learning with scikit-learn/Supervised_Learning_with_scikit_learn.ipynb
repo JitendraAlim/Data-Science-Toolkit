{
  "nbformat": 4,
  "nbformat_minor": 0,
  "metadata": {
    "colab": {
      "name": "Supervised Learning with scikit-learn",
      "provenance": [],
      "authorship_tag": "ABX9TyOZ1NLgCy5Yab+aITyqQvFN",
      "include_colab_link": true
    },
    "kernelspec": {
      "name": "python3",
      "display_name": "Python 3"
    }
  },
  "cells": [
    {
      "cell_type": "markdown",
      "metadata": {
        "id": "view-in-github",
        "colab_type": "text"
      },
      "source": [
        "<a href=\"https://colab.research.google.com/github/JitendraAlim/Data-Science-Toolkit/blob/master/Python/Supervised%20Learning%20with%20scikit-learn/Supervised_Learning_with_scikit_learn.ipynb\" target=\"_parent\"><img src=\"https://colab.research.google.com/assets/colab-badge.svg\" alt=\"Open In Colab\"/></a>"
      ]
    },
    {
      "cell_type": "code",
      "metadata": {
        "id": "OVq5cqC9s6oR",
        "colab_type": "code",
        "colab": {}
      },
      "source": [
        ""
      ],
      "execution_count": null,
      "outputs": []
    }
  ]
}