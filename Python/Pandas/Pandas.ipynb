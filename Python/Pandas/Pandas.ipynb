{
  "nbformat": 4,
  "nbformat_minor": 0,
  "metadata": {
    "kernelspec": {
      "display_name": "Python 3",
      "language": "python",
      "name": "python3"
    },
    "language_info": {
      "codemirror_mode": {
        "name": "ipython",
        "version": 3
      },
      "file_extension": ".py",
      "mimetype": "text/x-python",
      "name": "python",
      "nbconvert_exporter": "python",
      "pygments_lexer": "ipython3",
      "version": "3.8.3"
    },
    "colab": {
      "name": "Pandas.ipynb",
      "provenance": [],
      "toc_visible": true,
      "include_colab_link": true
    },
    "accelerator": "GPU"
  },
  "cells": [
    {
      "cell_type": "markdown",
      "metadata": {
        "id": "view-in-github",
        "colab_type": "text"
      },
      "source": [
        "<a href=\"https://colab.research.google.com/github/JitendraAlim/Data-Science-Toolkit/blob/master/Python/Pandas/Pandas.ipynb\" target=\"_parent\"><img src=\"https://colab.research.google.com/assets/colab-badge.svg\" alt=\"Open In Colab\"/></a>"
      ]
    },
    {
      "cell_type": "markdown",
      "metadata": {
        "id": "SqMOTD5a1HYu",
        "colab_type": "text"
      },
      "source": [
        "<h1> <font colour = grey> <center> Pandas </center> </font> </h1>\n",
        "\n",
        "![Python & Pandas](https://geo-python.github.io/2017/_images/pandas_logo.png \"Python & Pandas\")\n",
        "\n",
        "By - Jitendra Alim"
      ]
    },
    {
      "cell_type": "markdown",
      "metadata": {
        "id": "c-8GIwxa1HYv",
        "colab_type": "text"
      },
      "source": [
        "# Importing Required Libraries"
      ]
    },
    {
      "cell_type": "code",
      "metadata": {
        "id": "1QXvJYiY1HYw",
        "colab_type": "code",
        "colab": {}
      },
      "source": [
        "# Pandas for Data Management\n",
        "import pandas as pd\n",
        "\n",
        "# Pandas Profiling for HTML Summary\n",
        "import pandas_profiling as pr\n",
        "\n",
        "# Numpy for Calculations\n",
        "import numpy as np\n",
        "\n",
        "# Datetime for Time and Date Operations\n",
        "import datetime as dt\n",
        "\n",
        "# Matplot and Seaborn for Visualization\n",
        "import matplotlib.pyplot as plt\n",
        "import seaborn as sns\n",
        "\n",
        "# Scipy for Scientific Operations\n",
        "import scipy as sp"
      ],
      "execution_count": 186,
      "outputs": []
    },
    {
      "cell_type": "markdown",
      "metadata": {
        "id": "ve8XqHCu1HY1",
        "colab_type": "text"
      },
      "source": [
        "# Today"
      ]
    },
    {
      "cell_type": "code",
      "metadata": {
        "id": "9Sa1YP2O1HY1",
        "colab_type": "code",
        "colab": {
          "base_uri": "https://localhost:8080/",
          "height": 33
        },
        "outputId": "7b2a5b44-e0e8-4d46-f1ed-4906d2509551"
      },
      "source": [
        "dt.datetime.now()"
      ],
      "execution_count": 92,
      "outputs": [
        {
          "output_type": "execute_result",
          "data": {
            "text/plain": [
              "datetime.datetime(2020, 9, 13, 5, 0, 46, 912613)"
            ]
          },
          "metadata": {
            "tags": []
          },
          "execution_count": 92
        }
      ]
    },
    {
      "cell_type": "markdown",
      "metadata": {
        "id": "tJO1PK2H1HY5",
        "colab_type": "text"
      },
      "source": [
        "# Pandas Version"
      ]
    },
    {
      "cell_type": "code",
      "metadata": {
        "id": "rEyeIukn1HY6",
        "colab_type": "code",
        "colab": {
          "base_uri": "https://localhost:8080/",
          "height": 35
        },
        "outputId": "46304587-a25e-4c8d-a81c-a86049464a68"
      },
      "source": [
        "pd.__version__"
      ],
      "execution_count": 93,
      "outputs": [
        {
          "output_type": "execute_result",
          "data": {
            "application/vnd.google.colaboratory.intrinsic+json": {
              "type": "string"
            },
            "text/plain": [
              "'1.0.5'"
            ]
          },
          "metadata": {
            "tags": []
          },
          "execution_count": 93
        }
      ]
    },
    {
      "cell_type": "markdown",
      "metadata": {
        "id": "SZAik5zi1HY9",
        "colab_type": "text"
      },
      "source": [
        "# Version of Libraries in Python"
      ]
    },
    {
      "cell_type": "code",
      "metadata": {
        "scrolled": true,
        "id": "xixyLAqb1HY-",
        "colab_type": "code",
        "colab": {}
      },
      "source": [
        "# pd.show_versions()"
      ],
      "execution_count": 94,
      "outputs": []
    },
    {
      "cell_type": "markdown",
      "metadata": {
        "id": "FQcy8w071HZA",
        "colab_type": "text"
      },
      "source": [
        "# Setting the Display Options"
      ]
    },
    {
      "cell_type": "code",
      "metadata": {
        "id": "bhe_uW3Z1HZB",
        "colab_type": "code",
        "colab": {}
      },
      "source": [
        "# For displaying many rows as you want\n",
        "pd.options.display.max_rows = 100\n",
        "\n",
        "# For displaying many columns as you want\n",
        "pd.options.display.max_columns = 100\n",
        "\n",
        "# For displaying numbers with comma seperator\n",
        "pd.options.display.float_format = '{0:,.2f}'.format\n",
        "\n",
        "# For expanding the frame for output\n",
        "pd.options.display.expand_frame_repr = True\n",
        "\n",
        "# For aligning the column headers to left\n",
        "pd.options.display.colheader_justify = 'left'\n",
        "\n",
        "# To get exact memor usage of dataframes in info()\n",
        "# pd.options.display.memory_usage = 'deep'"
      ],
      "execution_count": 95,
      "outputs": []
    },
    {
      "cell_type": "markdown",
      "metadata": {
        "id": "cP0h7pEY1HZD",
        "colab_type": "text"
      },
      "source": [
        "One can use any of the required display options."
      ]
    },
    {
      "cell_type": "markdown",
      "metadata": {
        "id": "qT5JwvJ_1HZE",
        "colab_type": "text"
      },
      "source": [
        "# Resetting the Display Options"
      ]
    },
    {
      "cell_type": "code",
      "metadata": {
        "id": "pxFvvQ5E1HZE",
        "colab_type": "code",
        "colab": {}
      },
      "source": [
        "# pd.reset_option('display')"
      ],
      "execution_count": 96,
      "outputs": []
    },
    {
      "cell_type": "markdown",
      "metadata": {
        "id": "7E5yws8h1HZH",
        "colab_type": "text"
      },
      "source": [
        "This above command will reset all the applied display options to default."
      ]
    },
    {
      "cell_type": "markdown",
      "metadata": {
        "id": "TTTgQMHs1HZI",
        "colab_type": "text"
      },
      "source": [
        "# Reading online data into Python"
      ]
    },
    {
      "cell_type": "code",
      "metadata": {
        "id": "MCm85kjA1HZI",
        "colab_type": "code",
        "colab": {
          "base_uri": "https://localhost:8080/",
          "height": 33
        },
        "outputId": "5393595d-50aa-4a3e-fa95-74c176ff02ac"
      },
      "source": [
        "titanic = pd.read_csv('http://bit.ly/titanic_passengers')\n",
        "print('Dimension of Titanic :', titanic.shape)"
      ],
      "execution_count": 97,
      "outputs": [
        {
          "output_type": "stream",
          "text": [
            "Dimension of Titanic : (891, 12)\n"
          ],
          "name": "stdout"
        }
      ]
    },
    {
      "cell_type": "code",
      "metadata": {
        "id": "rBTtnZYJ1HZK",
        "colab_type": "code",
        "colab": {
          "base_uri": "https://localhost:8080/",
          "height": 33
        },
        "outputId": "65671484-bb0d-439f-b0f9-84526d91dacf"
      },
      "source": [
        "alcohol = pd.read_csv('http://bit.ly/alcohol_consumed')\n",
        "print('Dimension of Alcohol :', alcohol.shape)"
      ],
      "execution_count": 98,
      "outputs": [
        {
          "output_type": "stream",
          "text": [
            "Dimension of Alcohol : (193, 6)\n"
          ],
          "name": "stdout"
        }
      ]
    },
    {
      "cell_type": "code",
      "metadata": {
        "id": "snoIN4DE1HZN",
        "colab_type": "code",
        "colab": {
          "base_uri": "https://localhost:8080/",
          "height": 33
        },
        "outputId": "bcd2ce0a-f98a-4c7b-c743-dd12905b8ccc"
      },
      "source": [
        "ufo = pd.read_csv('http://bit.ly/ufo_sights')\n",
        "print('Dimension of UFO :', ufo.shape)"
      ],
      "execution_count": 99,
      "outputs": [
        {
          "output_type": "stream",
          "text": [
            "Dimension of UFO : (5864, 5)\n"
          ],
          "name": "stdout"
        }
      ]
    },
    {
      "cell_type": "code",
      "metadata": {
        "id": "XWftzFgH1HZP",
        "colab_type": "code",
        "colab": {
          "base_uri": "https://localhost:8080/",
          "height": 33
        },
        "outputId": "3675f80d-7e28-4d9f-cd19-9041daf5460d"
      },
      "source": [
        "iris = pd.read_csv('http://bit.ly/iris_samples')\n",
        "print('Dimension of Iris :', iris.shape)"
      ],
      "execution_count": 100,
      "outputs": [
        {
          "output_type": "stream",
          "text": [
            "Dimension of Iris : (150, 6)\n"
          ],
          "name": "stdout"
        }
      ]
    },
    {
      "cell_type": "code",
      "metadata": {
        "id": "kN4Mhf0j1HZT",
        "colab_type": "code",
        "colab": {
          "base_uri": "https://localhost:8080/",
          "height": 33
        },
        "outputId": "ac02dcb8-5881-4fa4-d672-fa10856cb787"
      },
      "source": [
        "bigmart = pd.read_csv('http://bit.ly/big_mart')\n",
        "print('Dimension of Big Mart :', bigmart.shape)"
      ],
      "execution_count": 101,
      "outputs": [
        {
          "output_type": "stream",
          "text": [
            "Dimension of Big Mart : (2444, 12)\n"
          ],
          "name": "stdout"
        }
      ]
    },
    {
      "cell_type": "markdown",
      "metadata": {
        "id": "QRPALCx01HZV",
        "colab_type": "text"
      },
      "source": [
        "<p> These were some of the datasets that i've stored on an online repository </p>"
      ]
    },
    {
      "cell_type": "markdown",
      "metadata": {
        "id": "XiG0Iczi1HZW",
        "colab_type": "text"
      },
      "source": [
        "# Stored Variables"
      ]
    },
    {
      "cell_type": "code",
      "metadata": {
        "scrolled": false,
        "id": "29XJ6kfN1HZW",
        "colab_type": "code",
        "colab": {
          "base_uri": "https://localhost:8080/",
          "height": 333
        },
        "outputId": "b29cca90-e550-44df-ce32-564464a34cfa"
      },
      "source": [
        "%whos"
      ],
      "execution_count": 183,
      "outputs": [
        {
          "output_type": "stream",
          "text": [
            "Variable       Type         Data/Info\n",
            "-------------------------------------\n",
            "LabelEncoder   type         <class 'sklearn.preproces<...>ing._label.LabelEncoder'>\n",
            "alcohol        DataFrame        country       beer_se<...>n\\n[193 rows x 6 columns]\n",
            "bigmart        DataFrame         item    item_weight <...>n[2444 rows x 13 columns]\n",
            "df             DataFrame       person  clothes  food <...>    219      6502  354   \n",
            "dt             module       <module 'datetime' from '<...>b/python3.6/datetime.py'>\n",
            "iris           DataFrame         id   sepal_length_cm<...>n\\n[150 rows x 6 columns]\n",
            "np             module       <module 'numpy' from '/us<...>kages/numpy/__init__.py'>\n",
            "num            list         n=6\n",
            "pd             module       <module 'pandas' from '/u<...>ages/pandas/__init__.py'>\n",
            "plt            module       <module 'matplotlib.pyplo<...>es/matplotlib/pyplot.py'>\n",
            "pr             module       <module 'pandas_profiling<...>s_profiling/__init__.py'>\n",
            "sns            module       <module 'seaborn' from '/<...>ges/seaborn/__init__.py'>\n",
            "sp             module       <module 'scipy' from '/us<...>kages/scipy/__init__.py'>\n",
            "time           DataFrame       day  month  year date <...>   11     2019 2019-11-28\n",
            "titanic        DataFrame         passenger_id  surviv<...>\\n[891 rows x 18 columns]\n",
            "ufo            DataFrame         city                <...>\\n[5864 rows x 5 columns]\n",
            "vars           str          embarked\n"
          ],
          "name": "stdout"
        }
      ]
    },
    {
      "cell_type": "markdown",
      "metadata": {
        "id": "YM5AYZz81HZZ",
        "colab_type": "text"
      },
      "source": [
        "These are the variables that have been defined till now."
      ]
    },
    {
      "cell_type": "markdown",
      "metadata": {
        "id": "nJei4VtU1HZc",
        "colab_type": "text"
      },
      "source": [
        "# Deleting stored variables"
      ]
    },
    {
      "cell_type": "code",
      "metadata": {
        "id": "j4qSyJR11HZc",
        "colab_type": "code",
        "colab": {}
      },
      "source": [
        "# del titanic"
      ],
      "execution_count": 103,
      "outputs": []
    },
    {
      "cell_type": "markdown",
      "metadata": {
        "id": "hLzeaeUh1HZf",
        "colab_type": "text"
      },
      "source": [
        "Uncomment the command and run it to remove the variable."
      ]
    },
    {
      "cell_type": "markdown",
      "metadata": {
        "id": "p-kBXEpk1HZf",
        "colab_type": "text"
      },
      "source": [
        "# Extracting data from Python to CSV"
      ]
    },
    {
      "cell_type": "code",
      "metadata": {
        "id": "v_JrJMit1HZg",
        "colab_type": "code",
        "colab": {}
      },
      "source": [
        "# Writing the data in current working directory\n",
        "# titanic.to_csv('titanic.csv', index = False)\n",
        "\n",
        "# Writing the data into a specified location\n",
        "# titanic.to_csv('C:\\\\Users\\\\Jitendra Alim\\\\Desktop\\\\titanic', index = False)"
      ],
      "execution_count": 104,
      "outputs": []
    },
    {
      "cell_type": "markdown",
      "metadata": {
        "id": "EuQQfCab1HZi",
        "colab_type": "text"
      },
      "source": [
        "Uncomment the command and run it to write the data."
      ]
    },
    {
      "cell_type": "markdown",
      "metadata": {
        "id": "_Td3PqMw1HZi",
        "colab_type": "text"
      },
      "source": [
        "# Subsetting data based on Row and Column conditions"
      ]
    },
    {
      "cell_type": "code",
      "metadata": {
        "id": "M_XRLys91HZj",
        "colab_type": "code",
        "colab": {
          "base_uri": "https://localhost:8080/",
          "height": 377
        },
        "outputId": "78e58a4e-1537-4b54-9d61-c1f3de9505ad"
      },
      "source": [
        "titanic.loc[0:10,['passenger_id','name','gender','age']]"
      ],
      "execution_count": 105,
      "outputs": [
        {
          "output_type": "execute_result",
          "data": {
            "text/html": [
              "<div>\n",
              "<style scoped>\n",
              "    .dataframe tbody tr th:only-of-type {\n",
              "        vertical-align: middle;\n",
              "    }\n",
              "\n",
              "    .dataframe tbody tr th {\n",
              "        vertical-align: top;\n",
              "    }\n",
              "\n",
              "    .dataframe thead th {\n",
              "        text-align: right;\n",
              "    }\n",
              "</style>\n",
              "<table border=\"1\" class=\"dataframe\">\n",
              "  <thead>\n",
              "    <tr style=\"text-align: left;\">\n",
              "      <th></th>\n",
              "      <th>passenger_id</th>\n",
              "      <th>name</th>\n",
              "      <th>gender</th>\n",
              "      <th>age</th>\n",
              "    </tr>\n",
              "  </thead>\n",
              "  <tbody>\n",
              "    <tr>\n",
              "      <th>0</th>\n",
              "      <td>1</td>\n",
              "      <td>Braund, Mr. Owen Harris</td>\n",
              "      <td>male</td>\n",
              "      <td>22.00</td>\n",
              "    </tr>\n",
              "    <tr>\n",
              "      <th>1</th>\n",
              "      <td>2</td>\n",
              "      <td>Cumings, Mrs. John Bradley (Florence Briggs Th...</td>\n",
              "      <td>female</td>\n",
              "      <td>38.00</td>\n",
              "    </tr>\n",
              "    <tr>\n",
              "      <th>2</th>\n",
              "      <td>3</td>\n",
              "      <td>Heikkinen, Miss. Laina</td>\n",
              "      <td>female</td>\n",
              "      <td>26.00</td>\n",
              "    </tr>\n",
              "    <tr>\n",
              "      <th>3</th>\n",
              "      <td>4</td>\n",
              "      <td>Futrelle, Mrs. Jacques Heath (Lily May Peel)</td>\n",
              "      <td>female</td>\n",
              "      <td>35.00</td>\n",
              "    </tr>\n",
              "    <tr>\n",
              "      <th>4</th>\n",
              "      <td>5</td>\n",
              "      <td>Allen, Mr. William Henry</td>\n",
              "      <td>male</td>\n",
              "      <td>35.00</td>\n",
              "    </tr>\n",
              "    <tr>\n",
              "      <th>5</th>\n",
              "      <td>6</td>\n",
              "      <td>Moran, Mr. James</td>\n",
              "      <td>male</td>\n",
              "      <td>nan</td>\n",
              "    </tr>\n",
              "    <tr>\n",
              "      <th>6</th>\n",
              "      <td>7</td>\n",
              "      <td>McCarthy, Mr. Timothy J</td>\n",
              "      <td>male</td>\n",
              "      <td>54.00</td>\n",
              "    </tr>\n",
              "    <tr>\n",
              "      <th>7</th>\n",
              "      <td>8</td>\n",
              "      <td>Palsson, Master. Gosta Leonard</td>\n",
              "      <td>male</td>\n",
              "      <td>2.00</td>\n",
              "    </tr>\n",
              "    <tr>\n",
              "      <th>8</th>\n",
              "      <td>9</td>\n",
              "      <td>Johnson, Mrs. Oscar W (Elisabeth Vilhelmina Berg)</td>\n",
              "      <td>female</td>\n",
              "      <td>27.00</td>\n",
              "    </tr>\n",
              "    <tr>\n",
              "      <th>9</th>\n",
              "      <td>10</td>\n",
              "      <td>Nasser, Mrs. Nicholas (Adele Achem)</td>\n",
              "      <td>female</td>\n",
              "      <td>14.00</td>\n",
              "    </tr>\n",
              "    <tr>\n",
              "      <th>10</th>\n",
              "      <td>11</td>\n",
              "      <td>Sandstrom, Miss. Marguerite Rut</td>\n",
              "      <td>female</td>\n",
              "      <td>4.00</td>\n",
              "    </tr>\n",
              "  </tbody>\n",
              "</table>\n",
              "</div>"
            ],
            "text/plain": [
              "    passenger_id name                                               gender   \\\n",
              "0    1                                      Braund, Mr. Owen Harris    male   \n",
              "1    2            Cumings, Mrs. John Bradley (Florence Briggs Th...  female   \n",
              "2    3                                       Heikkinen, Miss. Laina  female   \n",
              "3    4                 Futrelle, Mrs. Jacques Heath (Lily May Peel)  female   \n",
              "4    5                                     Allen, Mr. William Henry    male   \n",
              "5    6                                             Moran, Mr. James    male   \n",
              "6    7                                      McCarthy, Mr. Timothy J    male   \n",
              "7    8                               Palsson, Master. Gosta Leonard    male   \n",
              "8    9            Johnson, Mrs. Oscar W (Elisabeth Vilhelmina Berg)  female   \n",
              "9   10                          Nasser, Mrs. Nicholas (Adele Achem)  female   \n",
              "10  11                              Sandstrom, Miss. Marguerite Rut  female   \n",
              "\n",
              "    age   \n",
              "0  22.00  \n",
              "1  38.00  \n",
              "2  26.00  \n",
              "3  35.00  \n",
              "4  35.00  \n",
              "5    nan  \n",
              "6  54.00  \n",
              "7   2.00  \n",
              "8  27.00  \n",
              "9  14.00  \n",
              "10  4.00  "
            ]
          },
          "metadata": {
            "tags": []
          },
          "execution_count": 105
        }
      ]
    },
    {
      "cell_type": "markdown",
      "metadata": {
        "id": "o0ocB2Iw1HZm",
        "colab_type": "text"
      },
      "source": [
        "# Obtaining initial observations of the data"
      ]
    },
    {
      "cell_type": "code",
      "metadata": {
        "scrolled": false,
        "id": "Vc-KU4Yj1HZm",
        "colab_type": "code",
        "colab": {
          "base_uri": "https://localhost:8080/",
          "height": 197
        },
        "outputId": "affe3f55-5335-4fe6-f312-04092d8e0af3"
      },
      "source": [
        "titanic.head()"
      ],
      "execution_count": 106,
      "outputs": [
        {
          "output_type": "execute_result",
          "data": {
            "text/html": [
              "<div>\n",
              "<style scoped>\n",
              "    .dataframe tbody tr th:only-of-type {\n",
              "        vertical-align: middle;\n",
              "    }\n",
              "\n",
              "    .dataframe tbody tr th {\n",
              "        vertical-align: top;\n",
              "    }\n",
              "\n",
              "    .dataframe thead th {\n",
              "        text-align: right;\n",
              "    }\n",
              "</style>\n",
              "<table border=\"1\" class=\"dataframe\">\n",
              "  <thead>\n",
              "    <tr style=\"text-align: left;\">\n",
              "      <th></th>\n",
              "      <th>passenger_id</th>\n",
              "      <th>survived</th>\n",
              "      <th>pclass</th>\n",
              "      <th>name</th>\n",
              "      <th>gender</th>\n",
              "      <th>age</th>\n",
              "      <th>sib_sp</th>\n",
              "      <th>parch</th>\n",
              "      <th>ticket</th>\n",
              "      <th>fare</th>\n",
              "      <th>cabin</th>\n",
              "      <th>embarked</th>\n",
              "    </tr>\n",
              "  </thead>\n",
              "  <tbody>\n",
              "    <tr>\n",
              "      <th>0</th>\n",
              "      <td>1</td>\n",
              "      <td>0</td>\n",
              "      <td>3</td>\n",
              "      <td>Braund, Mr. Owen Harris</td>\n",
              "      <td>male</td>\n",
              "      <td>22.00</td>\n",
              "      <td>1</td>\n",
              "      <td>0</td>\n",
              "      <td>A/5 21171</td>\n",
              "      <td>7.25</td>\n",
              "      <td>NaN</td>\n",
              "      <td>S</td>\n",
              "    </tr>\n",
              "    <tr>\n",
              "      <th>1</th>\n",
              "      <td>2</td>\n",
              "      <td>1</td>\n",
              "      <td>1</td>\n",
              "      <td>Cumings, Mrs. John Bradley (Florence Briggs Th...</td>\n",
              "      <td>female</td>\n",
              "      <td>38.00</td>\n",
              "      <td>1</td>\n",
              "      <td>0</td>\n",
              "      <td>PC 17599</td>\n",
              "      <td>71.28</td>\n",
              "      <td>C85</td>\n",
              "      <td>C</td>\n",
              "    </tr>\n",
              "    <tr>\n",
              "      <th>2</th>\n",
              "      <td>3</td>\n",
              "      <td>1</td>\n",
              "      <td>3</td>\n",
              "      <td>Heikkinen, Miss. Laina</td>\n",
              "      <td>female</td>\n",
              "      <td>26.00</td>\n",
              "      <td>0</td>\n",
              "      <td>0</td>\n",
              "      <td>STON/O2. 3101282</td>\n",
              "      <td>7.92</td>\n",
              "      <td>NaN</td>\n",
              "      <td>S</td>\n",
              "    </tr>\n",
              "    <tr>\n",
              "      <th>3</th>\n",
              "      <td>4</td>\n",
              "      <td>1</td>\n",
              "      <td>1</td>\n",
              "      <td>Futrelle, Mrs. Jacques Heath (Lily May Peel)</td>\n",
              "      <td>female</td>\n",
              "      <td>35.00</td>\n",
              "      <td>1</td>\n",
              "      <td>0</td>\n",
              "      <td>113803</td>\n",
              "      <td>53.10</td>\n",
              "      <td>C123</td>\n",
              "      <td>S</td>\n",
              "    </tr>\n",
              "    <tr>\n",
              "      <th>4</th>\n",
              "      <td>5</td>\n",
              "      <td>0</td>\n",
              "      <td>3</td>\n",
              "      <td>Allen, Mr. William Henry</td>\n",
              "      <td>male</td>\n",
              "      <td>35.00</td>\n",
              "      <td>0</td>\n",
              "      <td>0</td>\n",
              "      <td>373450</td>\n",
              "      <td>8.05</td>\n",
              "      <td>NaN</td>\n",
              "      <td>S</td>\n",
              "    </tr>\n",
              "  </tbody>\n",
              "</table>\n",
              "</div>"
            ],
            "text/plain": [
              "   passenger_id  survived  pclass  \\\n",
              "0  1             0         3        \n",
              "1  2             1         1        \n",
              "2  3             1         3        \n",
              "3  4             1         1        \n",
              "4  5             0         3        \n",
              "\n",
              "  name                                               gender   age   sib_sp  \\\n",
              "0                            Braund, Mr. Owen Harris    male 22.00  1        \n",
              "1  Cumings, Mrs. John Bradley (Florence Briggs Th...  female 38.00  1        \n",
              "2                             Heikkinen, Miss. Laina  female 26.00  0        \n",
              "3       Futrelle, Mrs. Jacques Heath (Lily May Peel)  female 35.00  1        \n",
              "4                           Allen, Mr. William Henry    male 35.00  0        \n",
              "\n",
              "   parch ticket             fare cabin embarked  \n",
              "0  0             A/5 21171  7.25   NaN  S        \n",
              "1  0              PC 17599 71.28   C85  C        \n",
              "2  0      STON/O2. 3101282  7.92   NaN  S        \n",
              "3  0                113803 53.10  C123  S        \n",
              "4  0                373450  8.05   NaN  S        "
            ]
          },
          "metadata": {
            "tags": []
          },
          "execution_count": 106
        }
      ]
    },
    {
      "cell_type": "markdown",
      "metadata": {
        "id": "634uQcfT1HZo",
        "colab_type": "text"
      },
      "source": [
        "# Obtaining initial n observations of the data"
      ]
    },
    {
      "cell_type": "code",
      "metadata": {
        "id": "HWw_Bkxr1HZo",
        "colab_type": "code",
        "colab": {
          "base_uri": "https://localhost:8080/",
          "height": 347
        },
        "outputId": "78f38548-8396-4286-f3ba-4044f8b39de4"
      },
      "source": [
        "alcohol.head(10)"
      ],
      "execution_count": 107,
      "outputs": [
        {
          "output_type": "execute_result",
          "data": {
            "text/html": [
              "<div>\n",
              "<style scoped>\n",
              "    .dataframe tbody tr th:only-of-type {\n",
              "        vertical-align: middle;\n",
              "    }\n",
              "\n",
              "    .dataframe tbody tr th {\n",
              "        vertical-align: top;\n",
              "    }\n",
              "\n",
              "    .dataframe thead th {\n",
              "        text-align: right;\n",
              "    }\n",
              "</style>\n",
              "<table border=\"1\" class=\"dataframe\">\n",
              "  <thead>\n",
              "    <tr style=\"text-align: left;\">\n",
              "      <th></th>\n",
              "      <th>country</th>\n",
              "      <th>beer_servings</th>\n",
              "      <th>spirit_servings</th>\n",
              "      <th>wine_servings</th>\n",
              "      <th>total_litres_of_pure_alcohol</th>\n",
              "      <th>continent</th>\n",
              "    </tr>\n",
              "  </thead>\n",
              "  <tbody>\n",
              "    <tr>\n",
              "      <th>0</th>\n",
              "      <td>Afghanistan</td>\n",
              "      <td>0</td>\n",
              "      <td>0</td>\n",
              "      <td>0</td>\n",
              "      <td>0.00</td>\n",
              "      <td>AS</td>\n",
              "    </tr>\n",
              "    <tr>\n",
              "      <th>1</th>\n",
              "      <td>Albania</td>\n",
              "      <td>89</td>\n",
              "      <td>132</td>\n",
              "      <td>54</td>\n",
              "      <td>4.90</td>\n",
              "      <td>EU</td>\n",
              "    </tr>\n",
              "    <tr>\n",
              "      <th>2</th>\n",
              "      <td>Algeria</td>\n",
              "      <td>25</td>\n",
              "      <td>0</td>\n",
              "      <td>14</td>\n",
              "      <td>0.70</td>\n",
              "      <td>AF</td>\n",
              "    </tr>\n",
              "    <tr>\n",
              "      <th>3</th>\n",
              "      <td>Andorra</td>\n",
              "      <td>245</td>\n",
              "      <td>138</td>\n",
              "      <td>312</td>\n",
              "      <td>12.40</td>\n",
              "      <td>EU</td>\n",
              "    </tr>\n",
              "    <tr>\n",
              "      <th>4</th>\n",
              "      <td>Angola</td>\n",
              "      <td>217</td>\n",
              "      <td>57</td>\n",
              "      <td>45</td>\n",
              "      <td>5.90</td>\n",
              "      <td>AF</td>\n",
              "    </tr>\n",
              "    <tr>\n",
              "      <th>5</th>\n",
              "      <td>Antigua &amp; Barbuda</td>\n",
              "      <td>102</td>\n",
              "      <td>128</td>\n",
              "      <td>45</td>\n",
              "      <td>4.90</td>\n",
              "      <td>NaN</td>\n",
              "    </tr>\n",
              "    <tr>\n",
              "      <th>6</th>\n",
              "      <td>Argentina</td>\n",
              "      <td>193</td>\n",
              "      <td>25</td>\n",
              "      <td>221</td>\n",
              "      <td>8.30</td>\n",
              "      <td>SA</td>\n",
              "    </tr>\n",
              "    <tr>\n",
              "      <th>7</th>\n",
              "      <td>Armenia</td>\n",
              "      <td>21</td>\n",
              "      <td>179</td>\n",
              "      <td>11</td>\n",
              "      <td>3.80</td>\n",
              "      <td>EU</td>\n",
              "    </tr>\n",
              "    <tr>\n",
              "      <th>8</th>\n",
              "      <td>Australia</td>\n",
              "      <td>261</td>\n",
              "      <td>72</td>\n",
              "      <td>212</td>\n",
              "      <td>10.40</td>\n",
              "      <td>OC</td>\n",
              "    </tr>\n",
              "    <tr>\n",
              "      <th>9</th>\n",
              "      <td>Austria</td>\n",
              "      <td>279</td>\n",
              "      <td>75</td>\n",
              "      <td>191</td>\n",
              "      <td>9.70</td>\n",
              "      <td>EU</td>\n",
              "    </tr>\n",
              "  </tbody>\n",
              "</table>\n",
              "</div>"
            ],
            "text/plain": [
              "  country             beer_servings  spirit_servings  wine_servings  \\\n",
              "0        Afghanistan    0              0                0             \n",
              "1            Albania   89            132               54             \n",
              "2            Algeria   25              0               14             \n",
              "3            Andorra  245            138              312             \n",
              "4             Angola  217             57               45             \n",
              "5  Antigua & Barbuda  102            128               45             \n",
              "6          Argentina  193             25              221             \n",
              "7            Armenia   21            179               11             \n",
              "8          Australia  261             72              212             \n",
              "9            Austria  279             75              191             \n",
              "\n",
              "   total_litres_of_pure_alcohol continent  \n",
              "0  0.00                           AS       \n",
              "1  4.90                           EU       \n",
              "2  0.70                           AF       \n",
              "3 12.40                           EU       \n",
              "4  5.90                           AF       \n",
              "5  4.90                          NaN       \n",
              "6  8.30                           SA       \n",
              "7  3.80                           EU       \n",
              "8 10.40                           OC       \n",
              "9  9.70                           EU       "
            ]
          },
          "metadata": {
            "tags": []
          },
          "execution_count": 107
        }
      ]
    },
    {
      "cell_type": "markdown",
      "metadata": {
        "id": "GcW5mvmG1HZq",
        "colab_type": "text"
      },
      "source": [
        "# Obtaining later observations of the data"
      ]
    },
    {
      "cell_type": "code",
      "metadata": {
        "scrolled": true,
        "id": "Ugn6Z13U1HZr",
        "colab_type": "code",
        "colab": {
          "base_uri": "https://localhost:8080/",
          "height": 197
        },
        "outputId": "4b280b66-5d22-40d8-b1f7-a82d2761d49a"
      },
      "source": [
        "ufo.tail()"
      ],
      "execution_count": 108,
      "outputs": [
        {
          "output_type": "execute_result",
          "data": {
            "text/html": [
              "<div>\n",
              "<style scoped>\n",
              "    .dataframe tbody tr th:only-of-type {\n",
              "        vertical-align: middle;\n",
              "    }\n",
              "\n",
              "    .dataframe tbody tr th {\n",
              "        vertical-align: top;\n",
              "    }\n",
              "\n",
              "    .dataframe thead th {\n",
              "        text-align: right;\n",
              "    }\n",
              "</style>\n",
              "<table border=\"1\" class=\"dataframe\">\n",
              "  <thead>\n",
              "    <tr style=\"text-align: left;\">\n",
              "      <th></th>\n",
              "      <th>city</th>\n",
              "      <th>colors</th>\n",
              "      <th>shape</th>\n",
              "      <th>state</th>\n",
              "      <th>time</th>\n",
              "    </tr>\n",
              "  </thead>\n",
              "  <tbody>\n",
              "    <tr>\n",
              "      <th>5859</th>\n",
              "      <td>In-flight</td>\n",
              "      <td>NaN</td>\n",
              "      <td>NaN</td>\n",
              "      <td>NV</td>\n",
              "      <td>6/19/1988 5:30</td>\n",
              "    </tr>\n",
              "    <tr>\n",
              "      <th>5860</th>\n",
              "      <td>Woburn</td>\n",
              "      <td>NaN</td>\n",
              "      <td>LIGHT</td>\n",
              "      <td>MA</td>\n",
              "      <td>6/20/1988 1:00</td>\n",
              "    </tr>\n",
              "    <tr>\n",
              "      <th>5861</th>\n",
              "      <td>Conroe</td>\n",
              "      <td>NaN</td>\n",
              "      <td>FIREBALL</td>\n",
              "      <td>TX</td>\n",
              "      <td>6/20/1988 17:30</td>\n",
              "    </tr>\n",
              "    <tr>\n",
              "      <th>5862</th>\n",
              "      <td>Columbia</td>\n",
              "      <td>NaN</td>\n",
              "      <td>OVAL</td>\n",
              "      <td>PA</td>\n",
              "      <td>6/20/1988 20:00</td>\n",
              "    </tr>\n",
              "    <tr>\n",
              "      <th>5863</th>\n",
              "      <td>Napa</td>\n",
              "      <td>RED</td>\n",
              "      <td>C</td>\n",
              "      <td>NaN</td>\n",
              "      <td>NaN</td>\n",
              "    </tr>\n",
              "  </tbody>\n",
              "</table>\n",
              "</div>"
            ],
            "text/plain": [
              "     city       colors shape     state time            \n",
              "5859  In-flight  NaN         NaN   NV    6/19/1988 5:30\n",
              "5860     Woburn  NaN       LIGHT   MA    6/20/1988 1:00\n",
              "5861     Conroe  NaN    FIREBALL   TX   6/20/1988 17:30\n",
              "5862   Columbia  NaN        OVAL   PA   6/20/1988 20:00\n",
              "5863       Napa  RED           C  NaN               NaN"
            ]
          },
          "metadata": {
            "tags": []
          },
          "execution_count": 108
        }
      ]
    },
    {
      "cell_type": "markdown",
      "metadata": {
        "id": "BbziZf_i1HZt",
        "colab_type": "text"
      },
      "source": [
        "# Obtaining later n observations of the data"
      ]
    },
    {
      "cell_type": "code",
      "metadata": {
        "scrolled": true,
        "id": "y3lTYAKW1HZt",
        "colab_type": "code",
        "colab": {
          "base_uri": "https://localhost:8080/",
          "height": 347
        },
        "outputId": "e9fd7823-11c9-4018-805f-e1ee18c521c4"
      },
      "source": [
        "titanic.tail(10)"
      ],
      "execution_count": 109,
      "outputs": [
        {
          "output_type": "execute_result",
          "data": {
            "text/html": [
              "<div>\n",
              "<style scoped>\n",
              "    .dataframe tbody tr th:only-of-type {\n",
              "        vertical-align: middle;\n",
              "    }\n",
              "\n",
              "    .dataframe tbody tr th {\n",
              "        vertical-align: top;\n",
              "    }\n",
              "\n",
              "    .dataframe thead th {\n",
              "        text-align: right;\n",
              "    }\n",
              "</style>\n",
              "<table border=\"1\" class=\"dataframe\">\n",
              "  <thead>\n",
              "    <tr style=\"text-align: left;\">\n",
              "      <th></th>\n",
              "      <th>passenger_id</th>\n",
              "      <th>survived</th>\n",
              "      <th>pclass</th>\n",
              "      <th>name</th>\n",
              "      <th>gender</th>\n",
              "      <th>age</th>\n",
              "      <th>sib_sp</th>\n",
              "      <th>parch</th>\n",
              "      <th>ticket</th>\n",
              "      <th>fare</th>\n",
              "      <th>cabin</th>\n",
              "      <th>embarked</th>\n",
              "    </tr>\n",
              "  </thead>\n",
              "  <tbody>\n",
              "    <tr>\n",
              "      <th>881</th>\n",
              "      <td>882</td>\n",
              "      <td>0</td>\n",
              "      <td>3</td>\n",
              "      <td>Markun, Mr. Johann</td>\n",
              "      <td>male</td>\n",
              "      <td>33.00</td>\n",
              "      <td>0</td>\n",
              "      <td>0</td>\n",
              "      <td>349257</td>\n",
              "      <td>7.90</td>\n",
              "      <td>NaN</td>\n",
              "      <td>S</td>\n",
              "    </tr>\n",
              "    <tr>\n",
              "      <th>882</th>\n",
              "      <td>883</td>\n",
              "      <td>0</td>\n",
              "      <td>3</td>\n",
              "      <td>Dahlberg, Miss. Gerda Ulrika</td>\n",
              "      <td>female</td>\n",
              "      <td>22.00</td>\n",
              "      <td>0</td>\n",
              "      <td>0</td>\n",
              "      <td>7552</td>\n",
              "      <td>10.52</td>\n",
              "      <td>NaN</td>\n",
              "      <td>S</td>\n",
              "    </tr>\n",
              "    <tr>\n",
              "      <th>883</th>\n",
              "      <td>884</td>\n",
              "      <td>0</td>\n",
              "      <td>2</td>\n",
              "      <td>Banfield, Mr. Frederick James</td>\n",
              "      <td>male</td>\n",
              "      <td>28.00</td>\n",
              "      <td>0</td>\n",
              "      <td>0</td>\n",
              "      <td>C.A./SOTON 34068</td>\n",
              "      <td>10.50</td>\n",
              "      <td>NaN</td>\n",
              "      <td>S</td>\n",
              "    </tr>\n",
              "    <tr>\n",
              "      <th>884</th>\n",
              "      <td>885</td>\n",
              "      <td>0</td>\n",
              "      <td>3</td>\n",
              "      <td>Sutehall, Mr. Henry Jr</td>\n",
              "      <td>male</td>\n",
              "      <td>25.00</td>\n",
              "      <td>0</td>\n",
              "      <td>0</td>\n",
              "      <td>SOTON/OQ 392076</td>\n",
              "      <td>7.05</td>\n",
              "      <td>NaN</td>\n",
              "      <td>S</td>\n",
              "    </tr>\n",
              "    <tr>\n",
              "      <th>885</th>\n",
              "      <td>886</td>\n",
              "      <td>0</td>\n",
              "      <td>3</td>\n",
              "      <td>Rice, Mrs. William (Margaret Norton)</td>\n",
              "      <td>female</td>\n",
              "      <td>39.00</td>\n",
              "      <td>0</td>\n",
              "      <td>5</td>\n",
              "      <td>382652</td>\n",
              "      <td>29.12</td>\n",
              "      <td>NaN</td>\n",
              "      <td>Q</td>\n",
              "    </tr>\n",
              "    <tr>\n",
              "      <th>886</th>\n",
              "      <td>887</td>\n",
              "      <td>0</td>\n",
              "      <td>2</td>\n",
              "      <td>Montvila, Rev. Juozas</td>\n",
              "      <td>male</td>\n",
              "      <td>27.00</td>\n",
              "      <td>0</td>\n",
              "      <td>0</td>\n",
              "      <td>211536</td>\n",
              "      <td>13.00</td>\n",
              "      <td>NaN</td>\n",
              "      <td>S</td>\n",
              "    </tr>\n",
              "    <tr>\n",
              "      <th>887</th>\n",
              "      <td>888</td>\n",
              "      <td>1</td>\n",
              "      <td>1</td>\n",
              "      <td>Graham, Miss. Margaret Edith</td>\n",
              "      <td>female</td>\n",
              "      <td>19.00</td>\n",
              "      <td>0</td>\n",
              "      <td>0</td>\n",
              "      <td>112053</td>\n",
              "      <td>30.00</td>\n",
              "      <td>B42</td>\n",
              "      <td>S</td>\n",
              "    </tr>\n",
              "    <tr>\n",
              "      <th>888</th>\n",
              "      <td>889</td>\n",
              "      <td>0</td>\n",
              "      <td>3</td>\n",
              "      <td>Johnston, Miss. Catherine Helen \"Carrie\"</td>\n",
              "      <td>female</td>\n",
              "      <td>nan</td>\n",
              "      <td>1</td>\n",
              "      <td>2</td>\n",
              "      <td>W./C. 6607</td>\n",
              "      <td>23.45</td>\n",
              "      <td>NaN</td>\n",
              "      <td>S</td>\n",
              "    </tr>\n",
              "    <tr>\n",
              "      <th>889</th>\n",
              "      <td>890</td>\n",
              "      <td>1</td>\n",
              "      <td>1</td>\n",
              "      <td>Behr, Mr. Karl Howell</td>\n",
              "      <td>male</td>\n",
              "      <td>26.00</td>\n",
              "      <td>0</td>\n",
              "      <td>0</td>\n",
              "      <td>111369</td>\n",
              "      <td>30.00</td>\n",
              "      <td>C148</td>\n",
              "      <td>C</td>\n",
              "    </tr>\n",
              "    <tr>\n",
              "      <th>890</th>\n",
              "      <td>891</td>\n",
              "      <td>0</td>\n",
              "      <td>3</td>\n",
              "      <td>Dooley, Mr. Patrick</td>\n",
              "      <td>male</td>\n",
              "      <td>32.00</td>\n",
              "      <td>0</td>\n",
              "      <td>0</td>\n",
              "      <td>370376</td>\n",
              "      <td>7.75</td>\n",
              "      <td>NaN</td>\n",
              "      <td>Q</td>\n",
              "    </tr>\n",
              "  </tbody>\n",
              "</table>\n",
              "</div>"
            ],
            "text/plain": [
              "     passenger_id  survived  pclass name                                       \\\n",
              "881  882           0         3                             Markun, Mr. Johann   \n",
              "882  883           0         3                   Dahlberg, Miss. Gerda Ulrika   \n",
              "883  884           0         2                  Banfield, Mr. Frederick James   \n",
              "884  885           0         3                         Sutehall, Mr. Henry Jr   \n",
              "885  886           0         3           Rice, Mrs. William (Margaret Norton)   \n",
              "886  887           0         2                          Montvila, Rev. Juozas   \n",
              "887  888           1         1                   Graham, Miss. Margaret Edith   \n",
              "888  889           0         3       Johnston, Miss. Catherine Helen \"Carrie\"   \n",
              "889  890           1         1                          Behr, Mr. Karl Howell   \n",
              "890  891           0         3                            Dooley, Mr. Patrick   \n",
              "\n",
              "    gender   age   sib_sp  parch ticket             fare cabin embarked  \n",
              "881    male 33.00  0       0                349257  7.90   NaN  S        \n",
              "882  female 22.00  0       0                  7552 10.52   NaN  S        \n",
              "883    male 28.00  0       0      C.A./SOTON 34068 10.50   NaN  S        \n",
              "884    male 25.00  0       0       SOTON/OQ 392076  7.05   NaN  S        \n",
              "885  female 39.00  0       5                382652 29.12   NaN  Q        \n",
              "886    male 27.00  0       0                211536 13.00   NaN  S        \n",
              "887  female 19.00  0       0                112053 30.00   B42  S        \n",
              "888  female   nan  1       2            W./C. 6607 23.45   NaN  S        \n",
              "889    male 26.00  0       0                111369 30.00  C148  C        \n",
              "890    male 32.00  0       0                370376  7.75   NaN  Q        "
            ]
          },
          "metadata": {
            "tags": []
          },
          "execution_count": 109
        }
      ]
    },
    {
      "cell_type": "markdown",
      "metadata": {
        "id": "j8eVgyDp1HZw",
        "colab_type": "text"
      },
      "source": [
        "# Names of variables in the data"
      ]
    },
    {
      "cell_type": "code",
      "metadata": {
        "id": "3g-rI8BT1HZx",
        "colab_type": "code",
        "colab": {
          "base_uri": "https://localhost:8080/",
          "height": 67
        },
        "outputId": "5f60ae35-db85-45f1-f2f5-a4db939c0d72"
      },
      "source": [
        "titanic.columns"
      ],
      "execution_count": 110,
      "outputs": [
        {
          "output_type": "execute_result",
          "data": {
            "text/plain": [
              "Index(['passenger_id', 'survived', 'pclass', 'name', 'gender', 'age', 'sib_sp',\n",
              "       'parch', 'ticket', 'fare', 'cabin', 'embarked'],\n",
              "      dtype='object')"
            ]
          },
          "metadata": {
            "tags": []
          },
          "execution_count": 110
        }
      ]
    },
    {
      "cell_type": "code",
      "metadata": {
        "id": "RWmOXtuf1HZ0",
        "colab_type": "code",
        "colab": {
          "base_uri": "https://localhost:8080/",
          "height": 217
        },
        "outputId": "47a3954c-3ca8-44ac-d4ca-55636ec92d66"
      },
      "source": [
        "list(titanic)"
      ],
      "execution_count": 111,
      "outputs": [
        {
          "output_type": "execute_result",
          "data": {
            "text/plain": [
              "['passenger_id',\n",
              " 'survived',\n",
              " 'pclass',\n",
              " 'name',\n",
              " 'gender',\n",
              " 'age',\n",
              " 'sib_sp',\n",
              " 'parch',\n",
              " 'ticket',\n",
              " 'fare',\n",
              " 'cabin',\n",
              " 'embarked']"
            ]
          },
          "metadata": {
            "tags": []
          },
          "execution_count": 111
        }
      ]
    },
    {
      "cell_type": "code",
      "metadata": {
        "id": "PXQitdg01HZ4",
        "colab_type": "code",
        "colab": {
          "base_uri": "https://localhost:8080/",
          "height": 33
        },
        "outputId": "a64ced73-836e-4982-b21d-57906645ba81"
      },
      "source": [
        "print(list(titanic))"
      ],
      "execution_count": 112,
      "outputs": [
        {
          "output_type": "stream",
          "text": [
            "['passenger_id', 'survived', 'pclass', 'name', 'gender', 'age', 'sib_sp', 'parch', 'ticket', 'fare', 'cabin', 'embarked']\n"
          ],
          "name": "stdout"
        }
      ]
    },
    {
      "cell_type": "markdown",
      "metadata": {
        "id": "3JNJXxuq1HZ7",
        "colab_type": "text"
      },
      "source": [
        "# Number of rows in the data"
      ]
    },
    {
      "cell_type": "code",
      "metadata": {
        "id": "p1p6ZNsz1HZ8",
        "colab_type": "code",
        "colab": {
          "base_uri": "https://localhost:8080/",
          "height": 33
        },
        "outputId": "75a957ba-167e-40a3-901a-7784aa071a60"
      },
      "source": [
        "len(titanic)"
      ],
      "execution_count": 113,
      "outputs": [
        {
          "output_type": "execute_result",
          "data": {
            "text/plain": [
              "891"
            ]
          },
          "metadata": {
            "tags": []
          },
          "execution_count": 113
        }
      ]
    },
    {
      "cell_type": "markdown",
      "metadata": {
        "id": "Jp79MPyi1HZ-",
        "colab_type": "text"
      },
      "source": [
        "# Number of columns in the data"
      ]
    },
    {
      "cell_type": "code",
      "metadata": {
        "id": "nUqMcXto1HZ-",
        "colab_type": "code",
        "colab": {
          "base_uri": "https://localhost:8080/",
          "height": 33
        },
        "outputId": "eb380ab9-1b77-4932-b93f-3718917cdfc2"
      },
      "source": [
        "len(titanic.columns)"
      ],
      "execution_count": 114,
      "outputs": [
        {
          "output_type": "execute_result",
          "data": {
            "text/plain": [
              "12"
            ]
          },
          "metadata": {
            "tags": []
          },
          "execution_count": 114
        }
      ]
    },
    {
      "cell_type": "markdown",
      "metadata": {
        "id": "acDWnvrm1HaB",
        "colab_type": "text"
      },
      "source": [
        "# Dimension of the data"
      ]
    },
    {
      "cell_type": "code",
      "metadata": {
        "scrolled": true,
        "id": "ni-0t1q-1HaB",
        "colab_type": "code",
        "colab": {
          "base_uri": "https://localhost:8080/",
          "height": 33
        },
        "outputId": "6bce552e-9e0f-456b-98a0-04b2e0cabf97"
      },
      "source": [
        "titanic.shape"
      ],
      "execution_count": 115,
      "outputs": [
        {
          "output_type": "execute_result",
          "data": {
            "text/plain": [
              "(891, 12)"
            ]
          },
          "metadata": {
            "tags": []
          },
          "execution_count": 115
        }
      ]
    },
    {
      "cell_type": "code",
      "metadata": {
        "id": "4GjmKRMu1HaE",
        "colab_type": "code",
        "colab": {
          "base_uri": "https://localhost:8080/",
          "height": 33
        },
        "outputId": "f105e521-85e9-4cc1-81db-34014319462c"
      },
      "source": [
        "print('Dimension of Titanic :', titanic.shape)"
      ],
      "execution_count": 116,
      "outputs": [
        {
          "output_type": "stream",
          "text": [
            "Dimension of Titanic : (891, 12)\n"
          ],
          "name": "stdout"
        }
      ]
    },
    {
      "cell_type": "markdown",
      "metadata": {
        "id": "UXQq1GSr1HaI",
        "colab_type": "text"
      },
      "source": [
        "# Checking the types of the variables in the data"
      ]
    },
    {
      "cell_type": "code",
      "metadata": {
        "scrolled": true,
        "id": "iJ2B3OaG1HaI",
        "colab_type": "code",
        "colab": {
          "base_uri": "https://localhost:8080/",
          "height": 233
        },
        "outputId": "5f372797-6b03-461e-b465-20f991bd5394"
      },
      "source": [
        "titanic.dtypes"
      ],
      "execution_count": 117,
      "outputs": [
        {
          "output_type": "execute_result",
          "data": {
            "text/plain": [
              "passenger_id      int64\n",
              "survived          int64\n",
              "pclass            int64\n",
              "name             object\n",
              "gender           object\n",
              "age             float64\n",
              "sib_sp            int64\n",
              "parch             int64\n",
              "ticket           object\n",
              "fare            float64\n",
              "cabin            object\n",
              "embarked         object\n",
              "dtype: object"
            ]
          },
          "metadata": {
            "tags": []
          },
          "execution_count": 117
        }
      ]
    },
    {
      "cell_type": "markdown",
      "metadata": {
        "id": "_juyL3op1HaK",
        "colab_type": "text"
      },
      "source": [
        "# Basic Information of the data"
      ]
    },
    {
      "cell_type": "code",
      "metadata": {
        "scrolled": true,
        "id": "Sl7vhBe71HaL",
        "colab_type": "code",
        "colab": {
          "base_uri": "https://localhost:8080/",
          "height": 217
        },
        "outputId": "e0279a22-c4c1-465c-f424-f58c013722a7"
      },
      "source": [
        "ufo.info()"
      ],
      "execution_count": 118,
      "outputs": [
        {
          "output_type": "stream",
          "text": [
            "<class 'pandas.core.frame.DataFrame'>\n",
            "RangeIndex: 5864 entries, 0 to 5863\n",
            "Data columns (total 5 columns):\n",
            " #   Column  Non-Null Count  Dtype \n",
            "---  ------  --------------  ----- \n",
            " 0   city    5853 non-null   object\n",
            " 1   colors  614 non-null    object\n",
            " 2   shape   5318 non-null   object\n",
            " 3   state   5863 non-null   object\n",
            " 4   time    5863 non-null   object\n",
            "dtypes: object(5)\n",
            "memory usage: 229.2+ KB\n"
          ],
          "name": "stdout"
        }
      ]
    },
    {
      "cell_type": "markdown",
      "metadata": {
        "id": "K6BJvbab1HaN",
        "colab_type": "text"
      },
      "source": [
        "Here, we are unable to know the exact memory required for the data, since we can only see that the data exceeds 229.2 + KB, but how much exactly we don't know."
      ]
    },
    {
      "cell_type": "markdown",
      "metadata": {
        "id": "p66vSkkx1HaN",
        "colab_type": "text"
      },
      "source": [
        "# Basic Information of the data with exact Memory Usage"
      ]
    },
    {
      "cell_type": "code",
      "metadata": {
        "id": "L2usAlQU1HaN",
        "colab_type": "code",
        "colab": {
          "base_uri": "https://localhost:8080/",
          "height": 217
        },
        "outputId": "1f4ff683-5845-4677-da9b-6a8b3f666b3f"
      },
      "source": [
        "ufo.info(memory_usage = 'deep')"
      ],
      "execution_count": 119,
      "outputs": [
        {
          "output_type": "stream",
          "text": [
            "<class 'pandas.core.frame.DataFrame'>\n",
            "RangeIndex: 5864 entries, 0 to 5863\n",
            "Data columns (total 5 columns):\n",
            " #   Column  Non-Null Count  Dtype \n",
            "---  ------  --------------  ----- \n",
            " 0   city    5853 non-null   object\n",
            " 1   colors  614 non-null    object\n",
            " 2   shape   5318 non-null   object\n",
            " 3   state   5863 non-null   object\n",
            " 4   time    5863 non-null   object\n",
            "dtypes: object(5)\n",
            "memory usage: 1.6 MB\n"
          ],
          "name": "stdout"
        }
      ]
    },
    {
      "cell_type": "markdown",
      "metadata": {
        "id": "yaHjb1Gf1HaQ",
        "colab_type": "text"
      },
      "source": [
        "Now we can see the exact memory usage of the data which is 1.6 MB"
      ]
    },
    {
      "cell_type": "markdown",
      "metadata": {
        "id": "8lWB1dNg1HaQ",
        "colab_type": "text"
      },
      "source": [
        "# Checking the Memory Usage of each variable"
      ]
    },
    {
      "cell_type": "code",
      "metadata": {
        "id": "HAJ5iSzh1HaR",
        "colab_type": "code",
        "colab": {
          "base_uri": "https://localhost:8080/",
          "height": 133
        },
        "outputId": "9b0a18e1-43e3-4a7b-a1c5-0acd9d24e181"
      },
      "source": [
        "ufo.memory_usage(deep = True)"
      ],
      "execution_count": 120,
      "outputs": [
        {
          "output_type": "execute_result",
          "data": {
            "text/plain": [
              "Index        128\n",
              "city      387911\n",
              "colors    206260\n",
              "shape     349924\n",
              "state     345949\n",
              "time      419620\n",
              "dtype: int64"
            ]
          },
          "metadata": {
            "tags": []
          },
          "execution_count": 120
        }
      ]
    },
    {
      "cell_type": "markdown",
      "metadata": {
        "id": "XwEeLebi1HaT",
        "colab_type": "text"
      },
      "source": [
        "# 8-Point Summary of numeric variables"
      ]
    },
    {
      "cell_type": "code",
      "metadata": {
        "id": "N6fhJ_Ke1HaT",
        "colab_type": "code",
        "colab": {
          "base_uri": "https://localhost:8080/",
          "height": 287
        },
        "outputId": "497eca4a-f841-40b0-e4aa-d82ceb0556e5"
      },
      "source": [
        "titanic.describe()"
      ],
      "execution_count": 121,
      "outputs": [
        {
          "output_type": "execute_result",
          "data": {
            "text/html": [
              "<div>\n",
              "<style scoped>\n",
              "    .dataframe tbody tr th:only-of-type {\n",
              "        vertical-align: middle;\n",
              "    }\n",
              "\n",
              "    .dataframe tbody tr th {\n",
              "        vertical-align: top;\n",
              "    }\n",
              "\n",
              "    .dataframe thead th {\n",
              "        text-align: right;\n",
              "    }\n",
              "</style>\n",
              "<table border=\"1\" class=\"dataframe\">\n",
              "  <thead>\n",
              "    <tr style=\"text-align: left;\">\n",
              "      <th></th>\n",
              "      <th>passenger_id</th>\n",
              "      <th>survived</th>\n",
              "      <th>pclass</th>\n",
              "      <th>age</th>\n",
              "      <th>sib_sp</th>\n",
              "      <th>parch</th>\n",
              "      <th>fare</th>\n",
              "    </tr>\n",
              "  </thead>\n",
              "  <tbody>\n",
              "    <tr>\n",
              "      <th>count</th>\n",
              "      <td>891.00</td>\n",
              "      <td>891.00</td>\n",
              "      <td>891.00</td>\n",
              "      <td>714.00</td>\n",
              "      <td>891.00</td>\n",
              "      <td>891.00</td>\n",
              "      <td>891.00</td>\n",
              "    </tr>\n",
              "    <tr>\n",
              "      <th>mean</th>\n",
              "      <td>446.00</td>\n",
              "      <td>0.38</td>\n",
              "      <td>2.31</td>\n",
              "      <td>29.70</td>\n",
              "      <td>0.52</td>\n",
              "      <td>0.38</td>\n",
              "      <td>32.20</td>\n",
              "    </tr>\n",
              "    <tr>\n",
              "      <th>std</th>\n",
              "      <td>257.35</td>\n",
              "      <td>0.49</td>\n",
              "      <td>0.84</td>\n",
              "      <td>14.53</td>\n",
              "      <td>1.10</td>\n",
              "      <td>0.81</td>\n",
              "      <td>49.69</td>\n",
              "    </tr>\n",
              "    <tr>\n",
              "      <th>min</th>\n",
              "      <td>1.00</td>\n",
              "      <td>0.00</td>\n",
              "      <td>1.00</td>\n",
              "      <td>0.42</td>\n",
              "      <td>0.00</td>\n",
              "      <td>0.00</td>\n",
              "      <td>0.00</td>\n",
              "    </tr>\n",
              "    <tr>\n",
              "      <th>25%</th>\n",
              "      <td>223.50</td>\n",
              "      <td>0.00</td>\n",
              "      <td>2.00</td>\n",
              "      <td>20.12</td>\n",
              "      <td>0.00</td>\n",
              "      <td>0.00</td>\n",
              "      <td>7.91</td>\n",
              "    </tr>\n",
              "    <tr>\n",
              "      <th>50%</th>\n",
              "      <td>446.00</td>\n",
              "      <td>0.00</td>\n",
              "      <td>3.00</td>\n",
              "      <td>28.00</td>\n",
              "      <td>0.00</td>\n",
              "      <td>0.00</td>\n",
              "      <td>14.45</td>\n",
              "    </tr>\n",
              "    <tr>\n",
              "      <th>75%</th>\n",
              "      <td>668.50</td>\n",
              "      <td>1.00</td>\n",
              "      <td>3.00</td>\n",
              "      <td>38.00</td>\n",
              "      <td>1.00</td>\n",
              "      <td>0.00</td>\n",
              "      <td>31.00</td>\n",
              "    </tr>\n",
              "    <tr>\n",
              "      <th>max</th>\n",
              "      <td>891.00</td>\n",
              "      <td>1.00</td>\n",
              "      <td>3.00</td>\n",
              "      <td>80.00</td>\n",
              "      <td>8.00</td>\n",
              "      <td>6.00</td>\n",
              "      <td>512.33</td>\n",
              "    </tr>\n",
              "  </tbody>\n",
              "</table>\n",
              "</div>"
            ],
            "text/plain": [
              "       passenger_id  survived  pclass  age    sib_sp  parch  fare \n",
              "count 891.00        891.00    891.00  714.00 891.00  891.00 891.00\n",
              "mean  446.00          0.38      2.31   29.70   0.52    0.38  32.20\n",
              "std   257.35          0.49      0.84   14.53   1.10    0.81  49.69\n",
              "min     1.00          0.00      1.00    0.42   0.00    0.00   0.00\n",
              "25%   223.50          0.00      2.00   20.12   0.00    0.00   7.91\n",
              "50%   446.00          0.00      3.00   28.00   0.00    0.00  14.45\n",
              "75%   668.50          1.00      3.00   38.00   1.00    0.00  31.00\n",
              "max   891.00          1.00      3.00   80.00   8.00    6.00 512.33"
            ]
          },
          "metadata": {
            "tags": []
          },
          "execution_count": 121
        }
      ]
    },
    {
      "cell_type": "markdown",
      "metadata": {
        "id": "NFzMuhWc1HaV",
        "colab_type": "text"
      },
      "source": [
        "# Checking for variables with Missing Value"
      ]
    },
    {
      "cell_type": "code",
      "metadata": {
        "id": "7qsTHJbh1HaV",
        "colab_type": "code",
        "colab": {
          "base_uri": "https://localhost:8080/",
          "height": 233
        },
        "outputId": "ec69f42f-592d-4967-f0a0-dfc9fdbd54d7"
      },
      "source": [
        "titanic.isnull().any()"
      ],
      "execution_count": 122,
      "outputs": [
        {
          "output_type": "execute_result",
          "data": {
            "text/plain": [
              "passenger_id    False\n",
              "survived        False\n",
              "pclass          False\n",
              "name            False\n",
              "gender          False\n",
              "age              True\n",
              "sib_sp          False\n",
              "parch           False\n",
              "ticket          False\n",
              "fare            False\n",
              "cabin            True\n",
              "embarked         True\n",
              "dtype: bool"
            ]
          },
          "metadata": {
            "tags": []
          },
          "execution_count": 122
        }
      ]
    },
    {
      "cell_type": "markdown",
      "metadata": {
        "id": "XJ03TX631HaX",
        "colab_type": "text"
      },
      "source": [
        "There are missing values in Age, Cabin and Embarked variables of Titanic dataset."
      ]
    },
    {
      "cell_type": "markdown",
      "metadata": {
        "id": "3kkJKmZq1HaX",
        "colab_type": "text"
      },
      "source": [
        "# Number of Missing Values in each variable"
      ]
    },
    {
      "cell_type": "code",
      "metadata": {
        "id": "Du4pJiTB1HaY",
        "colab_type": "code",
        "colab": {
          "base_uri": "https://localhost:8080/",
          "height": 233
        },
        "outputId": "f8aa4138-9e1f-445b-968d-bf45b78a668a"
      },
      "source": [
        "titanic.isnull().sum()"
      ],
      "execution_count": 123,
      "outputs": [
        {
          "output_type": "execute_result",
          "data": {
            "text/plain": [
              "passenger_id      0\n",
              "survived          0\n",
              "pclass            0\n",
              "name              0\n",
              "gender            0\n",
              "age             177\n",
              "sib_sp            0\n",
              "parch             0\n",
              "ticket            0\n",
              "fare              0\n",
              "cabin           687\n",
              "embarked          2\n",
              "dtype: int64"
            ]
          },
          "metadata": {
            "tags": []
          },
          "execution_count": 123
        }
      ]
    },
    {
      "cell_type": "markdown",
      "metadata": {
        "id": "rdwVgFMC1Haa",
        "colab_type": "text"
      },
      "source": [
        "# Percentage of Missing Values in each variable in a data"
      ]
    },
    {
      "cell_type": "code",
      "metadata": {
        "id": "mE098OzR1Haa",
        "colab_type": "code",
        "colab": {
          "base_uri": "https://localhost:8080/",
          "height": 233
        },
        "outputId": "5bf34db0-504b-4254-bc8b-c95fe55e7778"
      },
      "source": [
        "titanic.isnull().mean()*100"
      ],
      "execution_count": 124,
      "outputs": [
        {
          "output_type": "execute_result",
          "data": {
            "text/plain": [
              "passenger_id    0.00\n",
              "survived        0.00\n",
              "pclass          0.00\n",
              "name            0.00\n",
              "gender          0.00\n",
              "age            19.87\n",
              "sib_sp          0.00\n",
              "parch           0.00\n",
              "ticket          0.00\n",
              "fare            0.00\n",
              "cabin          77.10\n",
              "embarked        0.22\n",
              "dtype: float64"
            ]
          },
          "metadata": {
            "tags": []
          },
          "execution_count": 124
        }
      ]
    },
    {
      "cell_type": "markdown",
      "metadata": {
        "id": "DYDkG3Xe1Haf",
        "colab_type": "text"
      },
      "source": [
        "# Number of rows satisfying a condition"
      ]
    },
    {
      "cell_type": "code",
      "metadata": {
        "id": "vLkZk_c21Hag",
        "colab_type": "code",
        "colab": {
          "base_uri": "https://localhost:8080/",
          "height": 33
        },
        "outputId": "b48813a6-7883-4fb1-d6e1-c4f02f3a6885"
      },
      "source": [
        "(titanic['age'] > 35).sum()"
      ],
      "execution_count": 125,
      "outputs": [
        {
          "output_type": "execute_result",
          "data": {
            "text/plain": [
              "217"
            ]
          },
          "metadata": {
            "tags": []
          },
          "execution_count": 125
        }
      ]
    },
    {
      "cell_type": "markdown",
      "metadata": {
        "id": "OreF4lTn1Hak",
        "colab_type": "text"
      },
      "source": [
        "There were 217 passengers on titanic having age more than 35 years."
      ]
    },
    {
      "cell_type": "markdown",
      "metadata": {
        "id": "_p6msiZS1Hak",
        "colab_type": "text"
      },
      "source": [
        "# Percentage of rows satisfying a condition"
      ]
    },
    {
      "cell_type": "code",
      "metadata": {
        "id": "T7xhGgFB1Hal",
        "colab_type": "code",
        "colab": {
          "base_uri": "https://localhost:8080/",
          "height": 33
        },
        "outputId": "55653180-b710-4bc3-9e4d-e7f1aea4e46d"
      },
      "source": [
        "(titanic['age'] > 35).mean()*100"
      ],
      "execution_count": 126,
      "outputs": [
        {
          "output_type": "execute_result",
          "data": {
            "text/plain": [
              "24.354657687991022"
            ]
          },
          "metadata": {
            "tags": []
          },
          "execution_count": 126
        }
      ]
    },
    {
      "cell_type": "markdown",
      "metadata": {
        "id": "wXFL123T1Hap",
        "colab_type": "text"
      },
      "source": [
        "24.35% of the passengers on titanic were more than 35 years in age."
      ]
    },
    {
      "cell_type": "markdown",
      "metadata": {
        "id": "TY4dQ5q81Hap",
        "colab_type": "text"
      },
      "source": [
        "# Concatenating Data Frames"
      ]
    },
    {
      "cell_type": "code",
      "metadata": {
        "id": "kcaxaDxN1Haq",
        "colab_type": "code",
        "colab": {
          "base_uri": "https://localhost:8080/",
          "height": 197
        },
        "outputId": "8046817c-4b96-47b4-8626-74a2a3ceee57"
      },
      "source": [
        "pd.concat([titanic['name'], titanic['survived']], axis = 1).head()"
      ],
      "execution_count": 127,
      "outputs": [
        {
          "output_type": "execute_result",
          "data": {
            "text/html": [
              "<div>\n",
              "<style scoped>\n",
              "    .dataframe tbody tr th:only-of-type {\n",
              "        vertical-align: middle;\n",
              "    }\n",
              "\n",
              "    .dataframe tbody tr th {\n",
              "        vertical-align: top;\n",
              "    }\n",
              "\n",
              "    .dataframe thead th {\n",
              "        text-align: right;\n",
              "    }\n",
              "</style>\n",
              "<table border=\"1\" class=\"dataframe\">\n",
              "  <thead>\n",
              "    <tr style=\"text-align: left;\">\n",
              "      <th></th>\n",
              "      <th>name</th>\n",
              "      <th>survived</th>\n",
              "    </tr>\n",
              "  </thead>\n",
              "  <tbody>\n",
              "    <tr>\n",
              "      <th>0</th>\n",
              "      <td>Braund, Mr. Owen Harris</td>\n",
              "      <td>0</td>\n",
              "    </tr>\n",
              "    <tr>\n",
              "      <th>1</th>\n",
              "      <td>Cumings, Mrs. John Bradley (Florence Briggs Th...</td>\n",
              "      <td>1</td>\n",
              "    </tr>\n",
              "    <tr>\n",
              "      <th>2</th>\n",
              "      <td>Heikkinen, Miss. Laina</td>\n",
              "      <td>1</td>\n",
              "    </tr>\n",
              "    <tr>\n",
              "      <th>3</th>\n",
              "      <td>Futrelle, Mrs. Jacques Heath (Lily May Peel)</td>\n",
              "      <td>1</td>\n",
              "    </tr>\n",
              "    <tr>\n",
              "      <th>4</th>\n",
              "      <td>Allen, Mr. William Henry</td>\n",
              "      <td>0</td>\n",
              "    </tr>\n",
              "  </tbody>\n",
              "</table>\n",
              "</div>"
            ],
            "text/plain": [
              "  name                                                survived\n",
              "0                            Braund, Mr. Owen Harris  0       \n",
              "1  Cumings, Mrs. John Bradley (Florence Briggs Th...  1       \n",
              "2                             Heikkinen, Miss. Laina  1       \n",
              "3       Futrelle, Mrs. Jacques Heath (Lily May Peel)  1       \n",
              "4                           Allen, Mr. William Henry  0       "
            ]
          },
          "metadata": {
            "tags": []
          },
          "execution_count": 127
        }
      ]
    },
    {
      "cell_type": "markdown",
      "metadata": {
        "id": "PF12L2k61Hat",
        "colab_type": "text"
      },
      "source": [
        "# Recoding Variables"
      ]
    },
    {
      "cell_type": "code",
      "metadata": {
        "scrolled": true,
        "id": "f2ORfe1c1Hau",
        "colab_type": "code",
        "colab": {
          "base_uri": "https://localhost:8080/",
          "height": 197
        },
        "outputId": "9df8df01-b9dc-4e0c-fa42-883c2f4d8bc1"
      },
      "source": [
        "titanic['gender_code'] = titanic['gender'].map({'male':'M', 'female':'F'})\n",
        "titanic[['gender','gender_code']].head()"
      ],
      "execution_count": 128,
      "outputs": [
        {
          "output_type": "execute_result",
          "data": {
            "text/html": [
              "<div>\n",
              "<style scoped>\n",
              "    .dataframe tbody tr th:only-of-type {\n",
              "        vertical-align: middle;\n",
              "    }\n",
              "\n",
              "    .dataframe tbody tr th {\n",
              "        vertical-align: top;\n",
              "    }\n",
              "\n",
              "    .dataframe thead th {\n",
              "        text-align: right;\n",
              "    }\n",
              "</style>\n",
              "<table border=\"1\" class=\"dataframe\">\n",
              "  <thead>\n",
              "    <tr style=\"text-align: left;\">\n",
              "      <th></th>\n",
              "      <th>gender</th>\n",
              "      <th>gender_code</th>\n",
              "    </tr>\n",
              "  </thead>\n",
              "  <tbody>\n",
              "    <tr>\n",
              "      <th>0</th>\n",
              "      <td>male</td>\n",
              "      <td>M</td>\n",
              "    </tr>\n",
              "    <tr>\n",
              "      <th>1</th>\n",
              "      <td>female</td>\n",
              "      <td>F</td>\n",
              "    </tr>\n",
              "    <tr>\n",
              "      <th>2</th>\n",
              "      <td>female</td>\n",
              "      <td>F</td>\n",
              "    </tr>\n",
              "    <tr>\n",
              "      <th>3</th>\n",
              "      <td>female</td>\n",
              "      <td>F</td>\n",
              "    </tr>\n",
              "    <tr>\n",
              "      <th>4</th>\n",
              "      <td>male</td>\n",
              "      <td>M</td>\n",
              "    </tr>\n",
              "  </tbody>\n",
              "</table>\n",
              "</div>"
            ],
            "text/plain": [
              "  gender  gender_code\n",
              "0    male  M         \n",
              "1  female  F         \n",
              "2  female  F         \n",
              "3  female  F         \n",
              "4    male  M         "
            ]
          },
          "metadata": {
            "tags": []
          },
          "execution_count": 128
        }
      ]
    },
    {
      "cell_type": "markdown",
      "metadata": {
        "id": "00l350em1Haw",
        "colab_type": "text"
      },
      "source": [
        "# Automatic Variable Encoding - Pandas Method"
      ]
    },
    {
      "cell_type": "code",
      "metadata": {
        "id": "h0aDJNgW1Haw",
        "colab_type": "code",
        "colab": {
          "base_uri": "https://localhost:8080/",
          "height": 347
        },
        "outputId": "cd9965b5-adb2-4370-dc4f-a080f5e8267e"
      },
      "source": [
        "bigmart['outlet_type1'] = bigmart['outlet_type'].factorize()[0]\n",
        "bigmart[['outlet_type','outlet_type1']].head(10)"
      ],
      "execution_count": 129,
      "outputs": [
        {
          "output_type": "execute_result",
          "data": {
            "text/html": [
              "<div>\n",
              "<style scoped>\n",
              "    .dataframe tbody tr th:only-of-type {\n",
              "        vertical-align: middle;\n",
              "    }\n",
              "\n",
              "    .dataframe tbody tr th {\n",
              "        vertical-align: top;\n",
              "    }\n",
              "\n",
              "    .dataframe thead th {\n",
              "        text-align: right;\n",
              "    }\n",
              "</style>\n",
              "<table border=\"1\" class=\"dataframe\">\n",
              "  <thead>\n",
              "    <tr style=\"text-align: left;\">\n",
              "      <th></th>\n",
              "      <th>outlet_type</th>\n",
              "      <th>outlet_type1</th>\n",
              "    </tr>\n",
              "  </thead>\n",
              "  <tbody>\n",
              "    <tr>\n",
              "      <th>0</th>\n",
              "      <td>Supermarket Type1</td>\n",
              "      <td>0</td>\n",
              "    </tr>\n",
              "    <tr>\n",
              "      <th>1</th>\n",
              "      <td>Supermarket Type2</td>\n",
              "      <td>1</td>\n",
              "    </tr>\n",
              "    <tr>\n",
              "      <th>2</th>\n",
              "      <td>Supermarket Type1</td>\n",
              "      <td>0</td>\n",
              "    </tr>\n",
              "    <tr>\n",
              "      <th>3</th>\n",
              "      <td>Grocery Store</td>\n",
              "      <td>2</td>\n",
              "    </tr>\n",
              "    <tr>\n",
              "      <th>4</th>\n",
              "      <td>Supermarket Type1</td>\n",
              "      <td>0</td>\n",
              "    </tr>\n",
              "    <tr>\n",
              "      <th>5</th>\n",
              "      <td>Supermarket Type2</td>\n",
              "      <td>1</td>\n",
              "    </tr>\n",
              "    <tr>\n",
              "      <th>6</th>\n",
              "      <td>Supermarket Type1</td>\n",
              "      <td>0</td>\n",
              "    </tr>\n",
              "    <tr>\n",
              "      <th>7</th>\n",
              "      <td>Supermarket Type3</td>\n",
              "      <td>3</td>\n",
              "    </tr>\n",
              "    <tr>\n",
              "      <th>8</th>\n",
              "      <td>Supermarket Type1</td>\n",
              "      <td>0</td>\n",
              "    </tr>\n",
              "    <tr>\n",
              "      <th>9</th>\n",
              "      <td>Supermarket Type1</td>\n",
              "      <td>0</td>\n",
              "    </tr>\n",
              "  </tbody>\n",
              "</table>\n",
              "</div>"
            ],
            "text/plain": [
              "  outlet_type         outlet_type1\n",
              "0  Supermarket Type1  0           \n",
              "1  Supermarket Type2  1           \n",
              "2  Supermarket Type1  0           \n",
              "3      Grocery Store  2           \n",
              "4  Supermarket Type1  0           \n",
              "5  Supermarket Type2  1           \n",
              "6  Supermarket Type1  0           \n",
              "7  Supermarket Type3  3           \n",
              "8  Supermarket Type1  0           \n",
              "9  Supermarket Type1  0           "
            ]
          },
          "metadata": {
            "tags": []
          },
          "execution_count": 129
        }
      ]
    },
    {
      "cell_type": "markdown",
      "metadata": {
        "id": "YUpPnaev1Hay",
        "colab_type": "text"
      },
      "source": [
        "<p> LabelEncoder encodes the variables in the alphabetical order </p>"
      ]
    },
    {
      "cell_type": "markdown",
      "metadata": {
        "id": "sHdEpycT1Haz",
        "colab_type": "text"
      },
      "source": [
        "# Automatic Variable Encoding - SkLearn Method"
      ]
    },
    {
      "cell_type": "code",
      "metadata": {
        "id": "UBHRNw5B1Haz",
        "colab_type": "code",
        "colab": {}
      },
      "source": [
        "from sklearn.preprocessing import LabelEncoder"
      ],
      "execution_count": 130,
      "outputs": []
    },
    {
      "cell_type": "code",
      "metadata": {
        "id": "qu0NBQIa1Ha1",
        "colab_type": "code",
        "colab": {
          "base_uri": "https://localhost:8080/",
          "height": 347
        },
        "outputId": "222ff6ec-5d17-4878-aa45-04e283d5158c"
      },
      "source": [
        "bigmart['outlet_type1'] = LabelEncoder().fit_transform(bigmart['outlet_type'].astype('str'))\n",
        "bigmart[['outlet_type','outlet_type1']].head(10)"
      ],
      "execution_count": 131,
      "outputs": [
        {
          "output_type": "execute_result",
          "data": {
            "text/html": [
              "<div>\n",
              "<style scoped>\n",
              "    .dataframe tbody tr th:only-of-type {\n",
              "        vertical-align: middle;\n",
              "    }\n",
              "\n",
              "    .dataframe tbody tr th {\n",
              "        vertical-align: top;\n",
              "    }\n",
              "\n",
              "    .dataframe thead th {\n",
              "        text-align: right;\n",
              "    }\n",
              "</style>\n",
              "<table border=\"1\" class=\"dataframe\">\n",
              "  <thead>\n",
              "    <tr style=\"text-align: left;\">\n",
              "      <th></th>\n",
              "      <th>outlet_type</th>\n",
              "      <th>outlet_type1</th>\n",
              "    </tr>\n",
              "  </thead>\n",
              "  <tbody>\n",
              "    <tr>\n",
              "      <th>0</th>\n",
              "      <td>Supermarket Type1</td>\n",
              "      <td>1</td>\n",
              "    </tr>\n",
              "    <tr>\n",
              "      <th>1</th>\n",
              "      <td>Supermarket Type2</td>\n",
              "      <td>2</td>\n",
              "    </tr>\n",
              "    <tr>\n",
              "      <th>2</th>\n",
              "      <td>Supermarket Type1</td>\n",
              "      <td>1</td>\n",
              "    </tr>\n",
              "    <tr>\n",
              "      <th>3</th>\n",
              "      <td>Grocery Store</td>\n",
              "      <td>0</td>\n",
              "    </tr>\n",
              "    <tr>\n",
              "      <th>4</th>\n",
              "      <td>Supermarket Type1</td>\n",
              "      <td>1</td>\n",
              "    </tr>\n",
              "    <tr>\n",
              "      <th>5</th>\n",
              "      <td>Supermarket Type2</td>\n",
              "      <td>2</td>\n",
              "    </tr>\n",
              "    <tr>\n",
              "      <th>6</th>\n",
              "      <td>Supermarket Type1</td>\n",
              "      <td>1</td>\n",
              "    </tr>\n",
              "    <tr>\n",
              "      <th>7</th>\n",
              "      <td>Supermarket Type3</td>\n",
              "      <td>3</td>\n",
              "    </tr>\n",
              "    <tr>\n",
              "      <th>8</th>\n",
              "      <td>Supermarket Type1</td>\n",
              "      <td>1</td>\n",
              "    </tr>\n",
              "    <tr>\n",
              "      <th>9</th>\n",
              "      <td>Supermarket Type1</td>\n",
              "      <td>1</td>\n",
              "    </tr>\n",
              "  </tbody>\n",
              "</table>\n",
              "</div>"
            ],
            "text/plain": [
              "  outlet_type         outlet_type1\n",
              "0  Supermarket Type1  1           \n",
              "1  Supermarket Type2  2           \n",
              "2  Supermarket Type1  1           \n",
              "3      Grocery Store  0           \n",
              "4  Supermarket Type1  1           \n",
              "5  Supermarket Type2  2           \n",
              "6  Supermarket Type1  1           \n",
              "7  Supermarket Type3  3           \n",
              "8  Supermarket Type1  1           \n",
              "9  Supermarket Type1  1           "
            ]
          },
          "metadata": {
            "tags": []
          },
          "execution_count": 131
        }
      ]
    },
    {
      "cell_type": "markdown",
      "metadata": {
        "id": "QAsuIwfZ1Ha4",
        "colab_type": "text"
      },
      "source": [
        "<p> Factorize method encodes the variable in the order which they appear </p>"
      ]
    },
    {
      "cell_type": "markdown",
      "metadata": {
        "id": "WDkNoi1K1Ha4",
        "colab_type": "text"
      },
      "source": [
        "# One Hot Encoding (Dummy Encoding)"
      ]
    },
    {
      "cell_type": "code",
      "metadata": {
        "id": "L66t4TiU1Ha5",
        "colab_type": "code",
        "colab": {
          "base_uri": "https://localhost:8080/",
          "height": 197
        },
        "outputId": "e250766f-97c3-4189-e0ab-3734f7e5a67a"
      },
      "source": [
        "pd.concat([titanic['gender'],pd.get_dummies(titanic['gender'])], axis = 1).head()"
      ],
      "execution_count": 132,
      "outputs": [
        {
          "output_type": "execute_result",
          "data": {
            "text/html": [
              "<div>\n",
              "<style scoped>\n",
              "    .dataframe tbody tr th:only-of-type {\n",
              "        vertical-align: middle;\n",
              "    }\n",
              "\n",
              "    .dataframe tbody tr th {\n",
              "        vertical-align: top;\n",
              "    }\n",
              "\n",
              "    .dataframe thead th {\n",
              "        text-align: right;\n",
              "    }\n",
              "</style>\n",
              "<table border=\"1\" class=\"dataframe\">\n",
              "  <thead>\n",
              "    <tr style=\"text-align: left;\">\n",
              "      <th></th>\n",
              "      <th>gender</th>\n",
              "      <th>female</th>\n",
              "      <th>male</th>\n",
              "    </tr>\n",
              "  </thead>\n",
              "  <tbody>\n",
              "    <tr>\n",
              "      <th>0</th>\n",
              "      <td>male</td>\n",
              "      <td>0</td>\n",
              "      <td>1</td>\n",
              "    </tr>\n",
              "    <tr>\n",
              "      <th>1</th>\n",
              "      <td>female</td>\n",
              "      <td>1</td>\n",
              "      <td>0</td>\n",
              "    </tr>\n",
              "    <tr>\n",
              "      <th>2</th>\n",
              "      <td>female</td>\n",
              "      <td>1</td>\n",
              "      <td>0</td>\n",
              "    </tr>\n",
              "    <tr>\n",
              "      <th>3</th>\n",
              "      <td>female</td>\n",
              "      <td>1</td>\n",
              "      <td>0</td>\n",
              "    </tr>\n",
              "    <tr>\n",
              "      <th>4</th>\n",
              "      <td>male</td>\n",
              "      <td>0</td>\n",
              "      <td>1</td>\n",
              "    </tr>\n",
              "  </tbody>\n",
              "</table>\n",
              "</div>"
            ],
            "text/plain": [
              "  gender   female  male\n",
              "0    male  0       1   \n",
              "1  female  1       0   \n",
              "2  female  1       0   \n",
              "3  female  1       0   \n",
              "4    male  0       1   "
            ]
          },
          "metadata": {
            "tags": []
          },
          "execution_count": 132
        }
      ]
    },
    {
      "cell_type": "markdown",
      "metadata": {
        "id": "8pG18_5W1Ha7",
        "colab_type": "text"
      },
      "source": [
        "# Changing variables to Uppercase"
      ]
    },
    {
      "cell_type": "code",
      "metadata": {
        "id": "CGdWBIlS1Ha7",
        "colab_type": "code",
        "colab": {
          "base_uri": "https://localhost:8080/",
          "height": 407
        },
        "outputId": "4b57067d-e612-47bb-9854-174b8db55ed5"
      },
      "source": [
        "for vars in ['name','gender']:\n",
        "    titanic[f'{vars}_new'] = titanic[vars].str.upper()\n",
        "    \n",
        "titanic[['name','name_new','gender','gender_new']]"
      ],
      "execution_count": 133,
      "outputs": [
        {
          "output_type": "execute_result",
          "data": {
            "text/html": [
              "<div>\n",
              "<style scoped>\n",
              "    .dataframe tbody tr th:only-of-type {\n",
              "        vertical-align: middle;\n",
              "    }\n",
              "\n",
              "    .dataframe tbody tr th {\n",
              "        vertical-align: top;\n",
              "    }\n",
              "\n",
              "    .dataframe thead th {\n",
              "        text-align: right;\n",
              "    }\n",
              "</style>\n",
              "<table border=\"1\" class=\"dataframe\">\n",
              "  <thead>\n",
              "    <tr style=\"text-align: left;\">\n",
              "      <th></th>\n",
              "      <th>name</th>\n",
              "      <th>name_new</th>\n",
              "      <th>gender</th>\n",
              "      <th>gender_new</th>\n",
              "    </tr>\n",
              "  </thead>\n",
              "  <tbody>\n",
              "    <tr>\n",
              "      <th>0</th>\n",
              "      <td>Braund, Mr. Owen Harris</td>\n",
              "      <td>BRAUND, MR. OWEN HARRIS</td>\n",
              "      <td>male</td>\n",
              "      <td>MALE</td>\n",
              "    </tr>\n",
              "    <tr>\n",
              "      <th>1</th>\n",
              "      <td>Cumings, Mrs. John Bradley (Florence Briggs Th...</td>\n",
              "      <td>CUMINGS, MRS. JOHN BRADLEY (FLORENCE BRIGGS TH...</td>\n",
              "      <td>female</td>\n",
              "      <td>FEMALE</td>\n",
              "    </tr>\n",
              "    <tr>\n",
              "      <th>2</th>\n",
              "      <td>Heikkinen, Miss. Laina</td>\n",
              "      <td>HEIKKINEN, MISS. LAINA</td>\n",
              "      <td>female</td>\n",
              "      <td>FEMALE</td>\n",
              "    </tr>\n",
              "    <tr>\n",
              "      <th>3</th>\n",
              "      <td>Futrelle, Mrs. Jacques Heath (Lily May Peel)</td>\n",
              "      <td>FUTRELLE, MRS. JACQUES HEATH (LILY MAY PEEL)</td>\n",
              "      <td>female</td>\n",
              "      <td>FEMALE</td>\n",
              "    </tr>\n",
              "    <tr>\n",
              "      <th>4</th>\n",
              "      <td>Allen, Mr. William Henry</td>\n",
              "      <td>ALLEN, MR. WILLIAM HENRY</td>\n",
              "      <td>male</td>\n",
              "      <td>MALE</td>\n",
              "    </tr>\n",
              "    <tr>\n",
              "      <th>...</th>\n",
              "      <td>...</td>\n",
              "      <td>...</td>\n",
              "      <td>...</td>\n",
              "      <td>...</td>\n",
              "    </tr>\n",
              "    <tr>\n",
              "      <th>886</th>\n",
              "      <td>Montvila, Rev. Juozas</td>\n",
              "      <td>MONTVILA, REV. JUOZAS</td>\n",
              "      <td>male</td>\n",
              "      <td>MALE</td>\n",
              "    </tr>\n",
              "    <tr>\n",
              "      <th>887</th>\n",
              "      <td>Graham, Miss. Margaret Edith</td>\n",
              "      <td>GRAHAM, MISS. MARGARET EDITH</td>\n",
              "      <td>female</td>\n",
              "      <td>FEMALE</td>\n",
              "    </tr>\n",
              "    <tr>\n",
              "      <th>888</th>\n",
              "      <td>Johnston, Miss. Catherine Helen \"Carrie\"</td>\n",
              "      <td>JOHNSTON, MISS. CATHERINE HELEN \"CARRIE\"</td>\n",
              "      <td>female</td>\n",
              "      <td>FEMALE</td>\n",
              "    </tr>\n",
              "    <tr>\n",
              "      <th>889</th>\n",
              "      <td>Behr, Mr. Karl Howell</td>\n",
              "      <td>BEHR, MR. KARL HOWELL</td>\n",
              "      <td>male</td>\n",
              "      <td>MALE</td>\n",
              "    </tr>\n",
              "    <tr>\n",
              "      <th>890</th>\n",
              "      <td>Dooley, Mr. Patrick</td>\n",
              "      <td>DOOLEY, MR. PATRICK</td>\n",
              "      <td>male</td>\n",
              "      <td>MALE</td>\n",
              "    </tr>\n",
              "  </tbody>\n",
              "</table>\n",
              "<p>891 rows × 4 columns</p>\n",
              "</div>"
            ],
            "text/plain": [
              "    name                                                \\\n",
              "0                              Braund, Mr. Owen Harris   \n",
              "1    Cumings, Mrs. John Bradley (Florence Briggs Th...   \n",
              "2                               Heikkinen, Miss. Laina   \n",
              "3         Futrelle, Mrs. Jacques Heath (Lily May Peel)   \n",
              "4                             Allen, Mr. William Henry   \n",
              "..                                                 ...   \n",
              "886                              Montvila, Rev. Juozas   \n",
              "887                       Graham, Miss. Margaret Edith   \n",
              "888           Johnston, Miss. Catherine Helen \"Carrie\"   \n",
              "889                              Behr, Mr. Karl Howell   \n",
              "890                                Dooley, Mr. Patrick   \n",
              "\n",
              "    name_new                                           gender  gender_new  \n",
              "0                              BRAUND, MR. OWEN HARRIS    male    MALE     \n",
              "1    CUMINGS, MRS. JOHN BRADLEY (FLORENCE BRIGGS TH...  female  FEMALE     \n",
              "2                               HEIKKINEN, MISS. LAINA  female  FEMALE     \n",
              "3         FUTRELLE, MRS. JACQUES HEATH (LILY MAY PEEL)  female  FEMALE     \n",
              "4                             ALLEN, MR. WILLIAM HENRY    male    MALE     \n",
              "..                                                 ...     ...        ...  \n",
              "886                              MONTVILA, REV. JUOZAS    male    MALE     \n",
              "887                       GRAHAM, MISS. MARGARET EDITH  female  FEMALE     \n",
              "888           JOHNSTON, MISS. CATHERINE HELEN \"CARRIE\"  female  FEMALE     \n",
              "889                              BEHR, MR. KARL HOWELL    male    MALE     \n",
              "890                                DOOLEY, MR. PATRICK    male    MALE     \n",
              "\n",
              "[891 rows x 4 columns]"
            ]
          },
          "metadata": {
            "tags": []
          },
          "execution_count": 133
        }
      ]
    },
    {
      "cell_type": "markdown",
      "metadata": {
        "id": "TsyDeeOw1Ha-",
        "colab_type": "text"
      },
      "source": [
        "# Changing variables to Lowercase"
      ]
    },
    {
      "cell_type": "code",
      "metadata": {
        "id": "2tD9NaN61Ha-",
        "colab_type": "code",
        "colab": {
          "base_uri": "https://localhost:8080/",
          "height": 407
        },
        "outputId": "68e770ce-8d7c-413a-a881-d527ff6aaed6"
      },
      "source": [
        "for vars in ['name','embarked']:\n",
        "    titanic[f'{vars}_new'] = titanic[vars].str.lower()\n",
        "    \n",
        "titanic[['name','name_new','embarked','embarked_new']]"
      ],
      "execution_count": 134,
      "outputs": [
        {
          "output_type": "execute_result",
          "data": {
            "text/html": [
              "<div>\n",
              "<style scoped>\n",
              "    .dataframe tbody tr th:only-of-type {\n",
              "        vertical-align: middle;\n",
              "    }\n",
              "\n",
              "    .dataframe tbody tr th {\n",
              "        vertical-align: top;\n",
              "    }\n",
              "\n",
              "    .dataframe thead th {\n",
              "        text-align: right;\n",
              "    }\n",
              "</style>\n",
              "<table border=\"1\" class=\"dataframe\">\n",
              "  <thead>\n",
              "    <tr style=\"text-align: left;\">\n",
              "      <th></th>\n",
              "      <th>name</th>\n",
              "      <th>name_new</th>\n",
              "      <th>embarked</th>\n",
              "      <th>embarked_new</th>\n",
              "    </tr>\n",
              "  </thead>\n",
              "  <tbody>\n",
              "    <tr>\n",
              "      <th>0</th>\n",
              "      <td>Braund, Mr. Owen Harris</td>\n",
              "      <td>braund, mr. owen harris</td>\n",
              "      <td>S</td>\n",
              "      <td>s</td>\n",
              "    </tr>\n",
              "    <tr>\n",
              "      <th>1</th>\n",
              "      <td>Cumings, Mrs. John Bradley (Florence Briggs Th...</td>\n",
              "      <td>cumings, mrs. john bradley (florence briggs th...</td>\n",
              "      <td>C</td>\n",
              "      <td>c</td>\n",
              "    </tr>\n",
              "    <tr>\n",
              "      <th>2</th>\n",
              "      <td>Heikkinen, Miss. Laina</td>\n",
              "      <td>heikkinen, miss. laina</td>\n",
              "      <td>S</td>\n",
              "      <td>s</td>\n",
              "    </tr>\n",
              "    <tr>\n",
              "      <th>3</th>\n",
              "      <td>Futrelle, Mrs. Jacques Heath (Lily May Peel)</td>\n",
              "      <td>futrelle, mrs. jacques heath (lily may peel)</td>\n",
              "      <td>S</td>\n",
              "      <td>s</td>\n",
              "    </tr>\n",
              "    <tr>\n",
              "      <th>4</th>\n",
              "      <td>Allen, Mr. William Henry</td>\n",
              "      <td>allen, mr. william henry</td>\n",
              "      <td>S</td>\n",
              "      <td>s</td>\n",
              "    </tr>\n",
              "    <tr>\n",
              "      <th>...</th>\n",
              "      <td>...</td>\n",
              "      <td>...</td>\n",
              "      <td>...</td>\n",
              "      <td>...</td>\n",
              "    </tr>\n",
              "    <tr>\n",
              "      <th>886</th>\n",
              "      <td>Montvila, Rev. Juozas</td>\n",
              "      <td>montvila, rev. juozas</td>\n",
              "      <td>S</td>\n",
              "      <td>s</td>\n",
              "    </tr>\n",
              "    <tr>\n",
              "      <th>887</th>\n",
              "      <td>Graham, Miss. Margaret Edith</td>\n",
              "      <td>graham, miss. margaret edith</td>\n",
              "      <td>S</td>\n",
              "      <td>s</td>\n",
              "    </tr>\n",
              "    <tr>\n",
              "      <th>888</th>\n",
              "      <td>Johnston, Miss. Catherine Helen \"Carrie\"</td>\n",
              "      <td>johnston, miss. catherine helen \"carrie\"</td>\n",
              "      <td>S</td>\n",
              "      <td>s</td>\n",
              "    </tr>\n",
              "    <tr>\n",
              "      <th>889</th>\n",
              "      <td>Behr, Mr. Karl Howell</td>\n",
              "      <td>behr, mr. karl howell</td>\n",
              "      <td>C</td>\n",
              "      <td>c</td>\n",
              "    </tr>\n",
              "    <tr>\n",
              "      <th>890</th>\n",
              "      <td>Dooley, Mr. Patrick</td>\n",
              "      <td>dooley, mr. patrick</td>\n",
              "      <td>Q</td>\n",
              "      <td>q</td>\n",
              "    </tr>\n",
              "  </tbody>\n",
              "</table>\n",
              "<p>891 rows × 4 columns</p>\n",
              "</div>"
            ],
            "text/plain": [
              "    name                                                \\\n",
              "0                              Braund, Mr. Owen Harris   \n",
              "1    Cumings, Mrs. John Bradley (Florence Briggs Th...   \n",
              "2                               Heikkinen, Miss. Laina   \n",
              "3         Futrelle, Mrs. Jacques Heath (Lily May Peel)   \n",
              "4                             Allen, Mr. William Henry   \n",
              "..                                                 ...   \n",
              "886                              Montvila, Rev. Juozas   \n",
              "887                       Graham, Miss. Margaret Edith   \n",
              "888           Johnston, Miss. Catherine Helen \"Carrie\"   \n",
              "889                              Behr, Mr. Karl Howell   \n",
              "890                                Dooley, Mr. Patrick   \n",
              "\n",
              "    name_new                                           embarked embarked_new  \n",
              "0                              braund, mr. owen harris  S        s            \n",
              "1    cumings, mrs. john bradley (florence briggs th...  C        c            \n",
              "2                               heikkinen, miss. laina  S        s            \n",
              "3         futrelle, mrs. jacques heath (lily may peel)  S        s            \n",
              "4                             allen, mr. william henry  S        s            \n",
              "..                                                 ...      ...          ...  \n",
              "886                              montvila, rev. juozas  S        s            \n",
              "887                       graham, miss. margaret edith  S        s            \n",
              "888           johnston, miss. catherine helen \"carrie\"  S        s            \n",
              "889                              behr, mr. karl howell  C        c            \n",
              "890                                dooley, mr. patrick  Q        q            \n",
              "\n",
              "[891 rows x 4 columns]"
            ]
          },
          "metadata": {
            "tags": []
          },
          "execution_count": 134
        }
      ]
    },
    {
      "cell_type": "markdown",
      "metadata": {
        "id": "3tmDWBjj1HbB",
        "colab_type": "text"
      },
      "source": [
        "# Converting Continuous variable into Categorical bins"
      ]
    },
    {
      "cell_type": "code",
      "metadata": {
        "id": "uFRjFZHk1HbC",
        "colab_type": "code",
        "colab": {
          "base_uri": "https://localhost:8080/",
          "height": 347
        },
        "outputId": "7abc9a0c-4c96-473c-8ccc-d5ff6221734a"
      },
      "source": [
        "titanic['age_group'] = pd.cut(x = titanic['age'], bins = [0,18,65,99], labels = ['child','adult','elderly'], right = True)\n",
        "titanic[['name','age','age_group']].head(10)"
      ],
      "execution_count": 135,
      "outputs": [
        {
          "output_type": "execute_result",
          "data": {
            "text/html": [
              "<div>\n",
              "<style scoped>\n",
              "    .dataframe tbody tr th:only-of-type {\n",
              "        vertical-align: middle;\n",
              "    }\n",
              "\n",
              "    .dataframe tbody tr th {\n",
              "        vertical-align: top;\n",
              "    }\n",
              "\n",
              "    .dataframe thead th {\n",
              "        text-align: right;\n",
              "    }\n",
              "</style>\n",
              "<table border=\"1\" class=\"dataframe\">\n",
              "  <thead>\n",
              "    <tr style=\"text-align: left;\">\n",
              "      <th></th>\n",
              "      <th>name</th>\n",
              "      <th>age</th>\n",
              "      <th>age_group</th>\n",
              "    </tr>\n",
              "  </thead>\n",
              "  <tbody>\n",
              "    <tr>\n",
              "      <th>0</th>\n",
              "      <td>Braund, Mr. Owen Harris</td>\n",
              "      <td>22.00</td>\n",
              "      <td>adult</td>\n",
              "    </tr>\n",
              "    <tr>\n",
              "      <th>1</th>\n",
              "      <td>Cumings, Mrs. John Bradley (Florence Briggs Th...</td>\n",
              "      <td>38.00</td>\n",
              "      <td>adult</td>\n",
              "    </tr>\n",
              "    <tr>\n",
              "      <th>2</th>\n",
              "      <td>Heikkinen, Miss. Laina</td>\n",
              "      <td>26.00</td>\n",
              "      <td>adult</td>\n",
              "    </tr>\n",
              "    <tr>\n",
              "      <th>3</th>\n",
              "      <td>Futrelle, Mrs. Jacques Heath (Lily May Peel)</td>\n",
              "      <td>35.00</td>\n",
              "      <td>adult</td>\n",
              "    </tr>\n",
              "    <tr>\n",
              "      <th>4</th>\n",
              "      <td>Allen, Mr. William Henry</td>\n",
              "      <td>35.00</td>\n",
              "      <td>adult</td>\n",
              "    </tr>\n",
              "    <tr>\n",
              "      <th>5</th>\n",
              "      <td>Moran, Mr. James</td>\n",
              "      <td>nan</td>\n",
              "      <td>NaN</td>\n",
              "    </tr>\n",
              "    <tr>\n",
              "      <th>6</th>\n",
              "      <td>McCarthy, Mr. Timothy J</td>\n",
              "      <td>54.00</td>\n",
              "      <td>adult</td>\n",
              "    </tr>\n",
              "    <tr>\n",
              "      <th>7</th>\n",
              "      <td>Palsson, Master. Gosta Leonard</td>\n",
              "      <td>2.00</td>\n",
              "      <td>child</td>\n",
              "    </tr>\n",
              "    <tr>\n",
              "      <th>8</th>\n",
              "      <td>Johnson, Mrs. Oscar W (Elisabeth Vilhelmina Berg)</td>\n",
              "      <td>27.00</td>\n",
              "      <td>adult</td>\n",
              "    </tr>\n",
              "    <tr>\n",
              "      <th>9</th>\n",
              "      <td>Nasser, Mrs. Nicholas (Adele Achem)</td>\n",
              "      <td>14.00</td>\n",
              "      <td>child</td>\n",
              "    </tr>\n",
              "  </tbody>\n",
              "</table>\n",
              "</div>"
            ],
            "text/plain": [
              "  name                                                age  age_group\n",
              "0                            Braund, Mr. Owen Harris 22.00  adult   \n",
              "1  Cumings, Mrs. John Bradley (Florence Briggs Th... 38.00  adult   \n",
              "2                             Heikkinen, Miss. Laina 26.00  adult   \n",
              "3       Futrelle, Mrs. Jacques Heath (Lily May Peel) 35.00  adult   \n",
              "4                           Allen, Mr. William Henry 35.00  adult   \n",
              "5                                   Moran, Mr. James   nan    NaN   \n",
              "6                            McCarthy, Mr. Timothy J 54.00  adult   \n",
              "7                     Palsson, Master. Gosta Leonard  2.00  child   \n",
              "8  Johnson, Mrs. Oscar W (Elisabeth Vilhelmina Berg) 27.00  adult   \n",
              "9                Nasser, Mrs. Nicholas (Adele Achem) 14.00  child   "
            ]
          },
          "metadata": {
            "tags": []
          },
          "execution_count": 135
        }
      ]
    },
    {
      "cell_type": "markdown",
      "metadata": {
        "id": "OmB-NfL_1HbH",
        "colab_type": "text"
      },
      "source": [
        "# Number of Unique values in a variable"
      ]
    },
    {
      "cell_type": "code",
      "metadata": {
        "id": "jdMueH-51HbH",
        "colab_type": "code",
        "colab": {
          "base_uri": "https://localhost:8080/",
          "height": 33
        },
        "outputId": "b7a5e81e-cfd8-46a1-d845-5e4a96704df2"
      },
      "source": [
        "alcohol['continent'].nunique()"
      ],
      "execution_count": 136,
      "outputs": [
        {
          "output_type": "execute_result",
          "data": {
            "text/plain": [
              "5"
            ]
          },
          "metadata": {
            "tags": []
          },
          "execution_count": 136
        }
      ]
    },
    {
      "cell_type": "markdown",
      "metadata": {
        "id": "IRDXjcnQ1HbJ",
        "colab_type": "text"
      },
      "source": [
        "# Unique values in a variable"
      ]
    },
    {
      "cell_type": "code",
      "metadata": {
        "scrolled": true,
        "id": "A80rNt_x1HbJ",
        "colab_type": "code",
        "colab": {
          "base_uri": "https://localhost:8080/",
          "height": 33
        },
        "outputId": "d857d993-cfa1-4271-8baf-e2f9cf1e0298"
      },
      "source": [
        "alcohol['continent'].unique()"
      ],
      "execution_count": 137,
      "outputs": [
        {
          "output_type": "execute_result",
          "data": {
            "text/plain": [
              "array(['AS', 'EU', 'AF', nan, 'SA', 'OC'], dtype=object)"
            ]
          },
          "metadata": {
            "tags": []
          },
          "execution_count": 137
        }
      ]
    },
    {
      "cell_type": "code",
      "metadata": {
        "scrolled": true,
        "id": "q4PoIQn81HbL",
        "colab_type": "code",
        "colab": {
          "base_uri": "https://localhost:8080/",
          "height": 33
        },
        "outputId": "e440c6d0-20a0-4569-868c-6c4fc2518256"
      },
      "source": [
        "print(alcohol['continent'].unique())"
      ],
      "execution_count": 138,
      "outputs": [
        {
          "output_type": "stream",
          "text": [
            "['AS' 'EU' 'AF' nan 'SA' 'OC']\n"
          ],
          "name": "stdout"
        }
      ]
    },
    {
      "cell_type": "markdown",
      "metadata": {
        "id": "SDijVM2P1HbN",
        "colab_type": "text"
      },
      "source": [
        "# Count of unique values in a variable (w/o considering the Missing Values)"
      ]
    },
    {
      "cell_type": "code",
      "metadata": {
        "id": "2Dgy1V7U1HbN",
        "colab_type": "code",
        "colab": {
          "base_uri": "https://localhost:8080/",
          "height": 33
        },
        "outputId": "d621d646-831a-4506-927f-52bc75d0e579"
      },
      "source": [
        "alcohol['continent'].isnull().sum()"
      ],
      "execution_count": 139,
      "outputs": [
        {
          "output_type": "execute_result",
          "data": {
            "text/plain": [
              "23"
            ]
          },
          "metadata": {
            "tags": []
          },
          "execution_count": 139
        }
      ]
    },
    {
      "cell_type": "markdown",
      "metadata": {
        "id": "EXVdEbQ01HbP",
        "colab_type": "text"
      },
      "source": [
        "There are missing values in Continent variable of Alcohol dataset"
      ]
    },
    {
      "cell_type": "code",
      "metadata": {
        "id": "mJ2sEemN1HbP",
        "colab_type": "code",
        "colab": {
          "base_uri": "https://localhost:8080/",
          "height": 117
        },
        "outputId": "0aee76c3-11ad-4f0b-d705-d599463bd417"
      },
      "source": [
        "alcohol['continent'].value_counts()"
      ],
      "execution_count": 140,
      "outputs": [
        {
          "output_type": "execute_result",
          "data": {
            "text/plain": [
              "AF    53\n",
              "EU    45\n",
              "AS    44\n",
              "OC    16\n",
              "SA    12\n",
              "Name: continent, dtype: int64"
            ]
          },
          "metadata": {
            "tags": []
          },
          "execution_count": 140
        }
      ]
    },
    {
      "cell_type": "markdown",
      "metadata": {
        "id": "H0YXLluN1HbR",
        "colab_type": "text"
      },
      "source": [
        "This counts does not represent the entire dataset as we have not accounted for the missing values in Continent variable of Alcohol dataset."
      ]
    },
    {
      "cell_type": "code",
      "metadata": {
        "id": "-CHRxPsj1HbR",
        "colab_type": "code",
        "colab": {
          "base_uri": "https://localhost:8080/",
          "height": 133
        },
        "outputId": "a8254b0e-411c-4e53-8c85-4d70e9caf261"
      },
      "source": [
        "alcohol['continent'].value_counts(dropna = False)"
      ],
      "execution_count": 141,
      "outputs": [
        {
          "output_type": "execute_result",
          "data": {
            "text/plain": [
              "AF     53\n",
              "EU     45\n",
              "AS     44\n",
              "NaN    23\n",
              "OC     16\n",
              "SA     12\n",
              "Name: continent, dtype: int64"
            ]
          },
          "metadata": {
            "tags": []
          },
          "execution_count": 141
        }
      ]
    },
    {
      "cell_type": "markdown",
      "metadata": {
        "id": "xkooXO9E1HbU",
        "colab_type": "text"
      },
      "source": [
        "# Percentage of unique values in a variable (w/o considering Missing Values)"
      ]
    },
    {
      "cell_type": "code",
      "metadata": {
        "id": "ir6XZFAm1HbU",
        "colab_type": "code",
        "colab": {
          "base_uri": "https://localhost:8080/",
          "height": 117
        },
        "outputId": "6e388a67-d182-4441-9947-44772ac3edf8"
      },
      "source": [
        "alcohol['continent'].value_counts(normalize = True)"
      ],
      "execution_count": 142,
      "outputs": [
        {
          "output_type": "execute_result",
          "data": {
            "text/plain": [
              "AF   0.31\n",
              "EU   0.26\n",
              "AS   0.26\n",
              "OC   0.09\n",
              "SA   0.07\n",
              "Name: continent, dtype: float64"
            ]
          },
          "metadata": {
            "tags": []
          },
          "execution_count": 142
        }
      ]
    },
    {
      "cell_type": "markdown",
      "metadata": {
        "id": "KdBPru091HbW",
        "colab_type": "text"
      },
      "source": [
        "# Percentage of unique values in a variable (considering Missing Values)"
      ]
    },
    {
      "cell_type": "code",
      "metadata": {
        "scrolled": true,
        "id": "I8e6CRO91HbX",
        "colab_type": "code",
        "colab": {
          "base_uri": "https://localhost:8080/",
          "height": 133
        },
        "outputId": "0bc3158e-4561-46cb-f3f0-1e147f27a5e2"
      },
      "source": [
        "alcohol['continent'].value_counts(dropna = False, normalize = True)"
      ],
      "execution_count": 143,
      "outputs": [
        {
          "output_type": "execute_result",
          "data": {
            "text/plain": [
              "AF    0.27\n",
              "EU    0.23\n",
              "AS    0.23\n",
              "NaN   0.12\n",
              "OC    0.08\n",
              "SA    0.06\n",
              "Name: continent, dtype: float64"
            ]
          },
          "metadata": {
            "tags": []
          },
          "execution_count": 143
        }
      ]
    },
    {
      "cell_type": "markdown",
      "metadata": {
        "id": "L-8vI3Bo1HbZ",
        "colab_type": "text"
      },
      "source": [
        "We get False percentages when we don't consider the missing values."
      ]
    },
    {
      "cell_type": "markdown",
      "metadata": {
        "id": "yZ_AFG4i1HbZ",
        "colab_type": "text"
      },
      "source": [
        "# Special HTML Summary Report of the data"
      ]
    },
    {
      "cell_type": "code",
      "metadata": {
        "scrolled": true,
        "id": "4zn7zuH71HbZ",
        "colab_type": "code",
        "colab": {}
      },
      "source": [
        "# pr.ProfileReport(titanic)"
      ],
      "execution_count": null,
      "outputs": []
    },
    {
      "cell_type": "markdown",
      "metadata": {
        "id": "NArDwN5m1Hbb",
        "colab_type": "text"
      },
      "source": [
        "<p> Profile Report is one of the awesome exploratory report </p>"
      ]
    },
    {
      "cell_type": "markdown",
      "metadata": {
        "id": "ilROFa8R1Hbb",
        "colab_type": "text"
      },
      "source": [
        "# Importing Tips\n",
        "\n",
        "1. Only read in columns you need.\n",
        "2. Use 'category' data type with categorical data.\n",
        "3. Use 'int' data type for strictly integer data."
      ]
    },
    {
      "cell_type": "markdown",
      "metadata": {
        "id": "1SntDgLS1Hbb",
        "colab_type": "text"
      },
      "source": [
        "# Importing data specifying variable type for single variable"
      ]
    },
    {
      "cell_type": "code",
      "metadata": {
        "id": "ruCKX_-i1Hbc",
        "colab_type": "code",
        "colab": {
          "base_uri": "https://localhost:8080/",
          "height": 133
        },
        "outputId": "91eef20e-fa83-45ac-e5e8-7bda74bb25a2"
      },
      "source": [
        "alcohol = pd.read_csv('http://bit.ly/alcohol_consumed', dtype = {'beer_servings':'float'})\n",
        "alcohol.dtypes"
      ],
      "execution_count": 145,
      "outputs": [
        {
          "output_type": "execute_result",
          "data": {
            "text/plain": [
              "country                          object\n",
              "beer_servings                   float64\n",
              "spirit_servings                   int64\n",
              "wine_servings                     int64\n",
              "total_litres_of_pure_alcohol    float64\n",
              "continent                        object\n",
              "dtype: object"
            ]
          },
          "metadata": {
            "tags": []
          },
          "execution_count": 145
        }
      ]
    },
    {
      "cell_type": "markdown",
      "metadata": {
        "id": "QGBvIapn1Hbd",
        "colab_type": "text"
      },
      "source": [
        "# Importing data specifying multiple variable types for multiple variables"
      ]
    },
    {
      "cell_type": "code",
      "metadata": {
        "id": "EmMhbrtT1Hbe",
        "colab_type": "code",
        "colab": {
          "base_uri": "https://localhost:8080/",
          "height": 133
        },
        "outputId": "ff58507e-b18f-4fed-a092-c9134e36289a"
      },
      "source": [
        "alcohol = pd.read_csv('http://bit.ly/alcohol_consumed', dtype = {'beer_servings':'float','country':'category'})\n",
        "alcohol.dtypes"
      ],
      "execution_count": 146,
      "outputs": [
        {
          "output_type": "execute_result",
          "data": {
            "text/plain": [
              "country                         category\n",
              "beer_servings                    float64\n",
              "spirit_servings                    int64\n",
              "wine_servings                      int64\n",
              "total_litres_of_pure_alcohol     float64\n",
              "continent                         object\n",
              "dtype: object"
            ]
          },
          "metadata": {
            "tags": []
          },
          "execution_count": 146
        }
      ]
    },
    {
      "cell_type": "markdown",
      "metadata": {
        "id": "KCNyP8na1Hbf",
        "colab_type": "text"
      },
      "source": [
        "# Importing data specifying Date variables"
      ]
    },
    {
      "cell_type": "code",
      "metadata": {
        "id": "DLiVFDXB1Hbf",
        "colab_type": "code",
        "colab": {
          "base_uri": "https://localhost:8080/",
          "height": 117
        },
        "outputId": "9f8d870c-bd9b-4fe2-d242-29b3935c9dd0"
      },
      "source": [
        "ufo = pd.read_csv('http://bit.ly/ufo_sights', parse_dates = ['time'])\n",
        "ufo.dtypes"
      ],
      "execution_count": 147,
      "outputs": [
        {
          "output_type": "execute_result",
          "data": {
            "text/plain": [
              "city              object\n",
              "colors            object\n",
              "shape             object\n",
              "state             object\n",
              "time      datetime64[ns]\n",
              "dtype: object"
            ]
          },
          "metadata": {
            "tags": []
          },
          "execution_count": 147
        }
      ]
    },
    {
      "cell_type": "markdown",
      "metadata": {
        "id": "kCA7UXEp1Hbh",
        "colab_type": "text"
      },
      "source": [
        "Since, we used parse_dates argument while importing the data, the datatype of Time vairable is datetime variable or else by default it would have just been a variable of datatype as object.\n",
        "\n",
        "This will reduce the memory usage by Time variable.\n",
        "\n",
        "There are more special benifits of using Date and Time related vairable as datetime variable, which will be covered further."
      ]
    },
    {
      "cell_type": "markdown",
      "metadata": {
        "id": "F9PsQ3s01Hbi",
        "colab_type": "text"
      },
      "source": [
        "# Renaming a single variable"
      ]
    },
    {
      "cell_type": "code",
      "metadata": {
        "id": "0VWeD1y41Hbi",
        "colab_type": "code",
        "colab": {
          "base_uri": "https://localhost:8080/",
          "height": 83
        },
        "outputId": "c0ebc5d8-3bd2-41db-dcd3-a1fd8c3b34a7"
      },
      "source": [
        "titanic.columns"
      ],
      "execution_count": 148,
      "outputs": [
        {
          "output_type": "execute_result",
          "data": {
            "text/plain": [
              "Index(['passenger_id', 'survived', 'pclass', 'name', 'gender', 'age', 'sib_sp',\n",
              "       'parch', 'ticket', 'fare', 'cabin', 'embarked', 'gender_code',\n",
              "       'name_new', 'gender_new', 'embarked_new', 'age_group'],\n",
              "      dtype='object')"
            ]
          },
          "metadata": {
            "tags": []
          },
          "execution_count": 148
        }
      ]
    },
    {
      "cell_type": "code",
      "metadata": {
        "id": "KBom1apO1Hbj",
        "colab_type": "code",
        "colab": {
          "base_uri": "https://localhost:8080/",
          "height": 83
        },
        "outputId": "c75a30b8-b79c-4114-ced1-e021738ef9de"
      },
      "source": [
        "titanic = titanic.rename(columns = {'pclass':'class'})\n",
        "titanic.columns"
      ],
      "execution_count": 149,
      "outputs": [
        {
          "output_type": "execute_result",
          "data": {
            "text/plain": [
              "Index(['passenger_id', 'survived', 'class', 'name', 'gender', 'age', 'sib_sp',\n",
              "       'parch', 'ticket', 'fare', 'cabin', 'embarked', 'gender_code',\n",
              "       'name_new', 'gender_new', 'embarked_new', 'age_group'],\n",
              "      dtype='object')"
            ]
          },
          "metadata": {
            "tags": []
          },
          "execution_count": 149
        }
      ]
    },
    {
      "cell_type": "markdown",
      "metadata": {
        "id": "IFW0Qe4v1Hbp",
        "colab_type": "text"
      },
      "source": [
        "# Renaming multiple variables"
      ]
    },
    {
      "cell_type": "code",
      "metadata": {
        "id": "HmRtabbd1Hbp",
        "colab_type": "code",
        "colab": {
          "base_uri": "https://localhost:8080/",
          "height": 100
        },
        "outputId": "61a05141-4e37-4ad2-c33b-7d14ef61446b"
      },
      "source": [
        "bigmart.columns"
      ],
      "execution_count": 150,
      "outputs": [
        {
          "output_type": "execute_result",
          "data": {
            "text/plain": [
              "Index(['item_identifier', 'item_weight', 'item_fat_content', 'item_visibility',\n",
              "       'item_type', 'item_mrp', 'outlet_identifier',\n",
              "       'outlet_establishment_year', 'outlet_size', 'outlet_location_type',\n",
              "       'outlet_type', 'item_outlet_sales', 'outlet_type1'],\n",
              "      dtype='object')"
            ]
          },
          "metadata": {
            "tags": []
          },
          "execution_count": 150
        }
      ]
    },
    {
      "cell_type": "code",
      "metadata": {
        "id": "3iCdh71W1Hbr",
        "colab_type": "code",
        "colab": {
          "base_uri": "https://localhost:8080/",
          "height": 301
        },
        "outputId": "af8897fd-79cd-40ad-e2a7-5efb528d508c"
      },
      "source": [
        "bigmart = bigmart.rename(columns = {'item_identifier':'item','item_type':'type'})\n",
        "bigmart.head()"
      ],
      "execution_count": 151,
      "outputs": [
        {
          "output_type": "execute_result",
          "data": {
            "text/html": [
              "<div>\n",
              "<style scoped>\n",
              "    .dataframe tbody tr th:only-of-type {\n",
              "        vertical-align: middle;\n",
              "    }\n",
              "\n",
              "    .dataframe tbody tr th {\n",
              "        vertical-align: top;\n",
              "    }\n",
              "\n",
              "    .dataframe thead th {\n",
              "        text-align: right;\n",
              "    }\n",
              "</style>\n",
              "<table border=\"1\" class=\"dataframe\">\n",
              "  <thead>\n",
              "    <tr style=\"text-align: left;\">\n",
              "      <th></th>\n",
              "      <th>item</th>\n",
              "      <th>item_weight</th>\n",
              "      <th>item_fat_content</th>\n",
              "      <th>item_visibility</th>\n",
              "      <th>type</th>\n",
              "      <th>item_mrp</th>\n",
              "      <th>outlet_identifier</th>\n",
              "      <th>outlet_establishment_year</th>\n",
              "      <th>outlet_size</th>\n",
              "      <th>outlet_location_type</th>\n",
              "      <th>outlet_type</th>\n",
              "      <th>item_outlet_sales</th>\n",
              "      <th>outlet_type1</th>\n",
              "    </tr>\n",
              "  </thead>\n",
              "  <tbody>\n",
              "    <tr>\n",
              "      <th>0</th>\n",
              "      <td>FDA15</td>\n",
              "      <td>9.30</td>\n",
              "      <td>Low Fat</td>\n",
              "      <td>0.02</td>\n",
              "      <td>Dairy</td>\n",
              "      <td>249.81</td>\n",
              "      <td>OUT049</td>\n",
              "      <td>1,999.00</td>\n",
              "      <td>Medium</td>\n",
              "      <td>Tier 1</td>\n",
              "      <td>Supermarket Type1</td>\n",
              "      <td>3,735.14</td>\n",
              "      <td>1</td>\n",
              "    </tr>\n",
              "    <tr>\n",
              "      <th>1</th>\n",
              "      <td>DRC01</td>\n",
              "      <td>5.92</td>\n",
              "      <td>Regular</td>\n",
              "      <td>0.02</td>\n",
              "      <td>Soft Drinks</td>\n",
              "      <td>48.27</td>\n",
              "      <td>OUT018</td>\n",
              "      <td>2,009.00</td>\n",
              "      <td>Medium</td>\n",
              "      <td>Tier 3</td>\n",
              "      <td>Supermarket Type2</td>\n",
              "      <td>443.42</td>\n",
              "      <td>2</td>\n",
              "    </tr>\n",
              "    <tr>\n",
              "      <th>2</th>\n",
              "      <td>FDN15</td>\n",
              "      <td>17.50</td>\n",
              "      <td>Low Fat</td>\n",
              "      <td>0.02</td>\n",
              "      <td>Meat</td>\n",
              "      <td>141.62</td>\n",
              "      <td>OUT049</td>\n",
              "      <td>1,999.00</td>\n",
              "      <td>Medium</td>\n",
              "      <td>Tier 1</td>\n",
              "      <td>Supermarket Type1</td>\n",
              "      <td>2,097.27</td>\n",
              "      <td>1</td>\n",
              "    </tr>\n",
              "    <tr>\n",
              "      <th>3</th>\n",
              "      <td>FDX07</td>\n",
              "      <td>19.20</td>\n",
              "      <td>Regular</td>\n",
              "      <td>0.00</td>\n",
              "      <td>Fruits and Vegetables</td>\n",
              "      <td>182.09</td>\n",
              "      <td>OUT010</td>\n",
              "      <td>1,998.00</td>\n",
              "      <td>NaN</td>\n",
              "      <td>Tier 3</td>\n",
              "      <td>Grocery Store</td>\n",
              "      <td>732.38</td>\n",
              "      <td>0</td>\n",
              "    </tr>\n",
              "    <tr>\n",
              "      <th>4</th>\n",
              "      <td>NCD19</td>\n",
              "      <td>8.93</td>\n",
              "      <td>Low Fat</td>\n",
              "      <td>0.00</td>\n",
              "      <td>Household</td>\n",
              "      <td>53.86</td>\n",
              "      <td>OUT013</td>\n",
              "      <td>1,987.00</td>\n",
              "      <td>High</td>\n",
              "      <td>Tier 3</td>\n",
              "      <td>Supermarket Type1</td>\n",
              "      <td>994.71</td>\n",
              "      <td>1</td>\n",
              "    </tr>\n",
              "  </tbody>\n",
              "</table>\n",
              "</div>"
            ],
            "text/plain": [
              "  item    item_weight item_fat_content  item_visibility  \\\n",
              "0  FDA15  9.30         Low Fat         0.02               \n",
              "1  DRC01  5.92         Regular         0.02               \n",
              "2  FDN15 17.50         Low Fat         0.02               \n",
              "3  FDX07 19.20         Regular         0.00               \n",
              "4  NCD19  8.93         Low Fat         0.00               \n",
              "\n",
              "  type                    item_mrp outlet_identifier  \\\n",
              "0                  Dairy 249.81     OUT049             \n",
              "1            Soft Drinks  48.27     OUT018             \n",
              "2                   Meat 141.62     OUT049             \n",
              "3  Fruits and Vegetables 182.09     OUT010             \n",
              "4              Household  53.86     OUT013             \n",
              "\n",
              "   outlet_establishment_year outlet_size outlet_location_type  \\\n",
              "0 1,999.00                    Medium      Tier 1                \n",
              "1 2,009.00                    Medium      Tier 3                \n",
              "2 1,999.00                    Medium      Tier 1                \n",
              "3 1,998.00                       NaN      Tier 3                \n",
              "4 1,987.00                      High      Tier 3                \n",
              "\n",
              "  outlet_type         item_outlet_sales  outlet_type1  \n",
              "0  Supermarket Type1 3,735.14            1             \n",
              "1  Supermarket Type2   443.42            2             \n",
              "2  Supermarket Type1 2,097.27            1             \n",
              "3      Grocery Store   732.38            0             \n",
              "4  Supermarket Type1   994.71            1             "
            ]
          },
          "metadata": {
            "tags": []
          },
          "execution_count": 151
        }
      ]
    },
    {
      "cell_type": "markdown",
      "metadata": {
        "id": "lWqE4mnF1Hbs",
        "colab_type": "text"
      },
      "source": [
        "# Converting a variable into categorical variable"
      ]
    },
    {
      "cell_type": "code",
      "metadata": {
        "id": "vyQgsL-r1Hbt",
        "colab_type": "code",
        "colab": {
          "base_uri": "https://localhost:8080/",
          "height": 50
        },
        "outputId": "a00d3655-35cd-45e7-fb44-8b76d9bb038e"
      },
      "source": [
        "print('Datatype of Item_Fat_Content     :', bigmart['item_fat_content'].dtypes)\n",
        "print('Memory Usage of Item_Fat_Content :', bigmart['item_fat_content'].memory_usage(deep = True))"
      ],
      "execution_count": 152,
      "outputs": [
        {
          "output_type": "stream",
          "text": [
            "Datatype of Item_Fat_Content     : object\n",
            "Memory Usage of Item_Fat_Content : 155972\n"
          ],
          "name": "stdout"
        }
      ]
    },
    {
      "cell_type": "code",
      "metadata": {
        "id": "d-sV6R4M1Hbw",
        "colab_type": "code",
        "colab": {
          "base_uri": "https://localhost:8080/",
          "height": 50
        },
        "outputId": "743a2358-bbaa-43e2-f8ca-7ee4675c311d"
      },
      "source": [
        "bigmart['item_fat_content'] = bigmart['item_fat_content'].astype('category')\n",
        "print('Datatype of Item_Fat_Content     :', bigmart['item_fat_content'].dtypes)\n",
        "print('Memory Usage of Item_Fat_Content :', bigmart['item_fat_content'].memory_usage(deep = True))"
      ],
      "execution_count": 153,
      "outputs": [
        {
          "output_type": "stream",
          "text": [
            "Datatype of Item_Fat_Content     : category\n",
            "Memory Usage of Item_Fat_Content : 3043\n"
          ],
          "name": "stdout"
        }
      ]
    },
    {
      "cell_type": "markdown",
      "metadata": {
        "id": "hr7jE06M1Hbx",
        "colab_type": "text"
      },
      "source": [
        "Converting a variable into categorical variable reduced the memory usage of that variable and hence reduces the size of the data frame. This reduction of the size of the data frame allows more faster calculation and execution of codes."
      ]
    },
    {
      "cell_type": "markdown",
      "metadata": {
        "id": "_svm_Kyi1Hby",
        "colab_type": "text"
      },
      "source": [
        "# Selecting only numeric columns from data"
      ]
    },
    {
      "cell_type": "code",
      "metadata": {
        "id": "73NNQWqv1Hby",
        "colab_type": "code",
        "colab": {
          "base_uri": "https://localhost:8080/",
          "height": 197
        },
        "outputId": "cd0b4de9-966c-435a-a339-bfffe9b95361"
      },
      "source": [
        "# Method 1 (Long Method)\n",
        "num = ['int16', 'int32', 'int64', 'float16', 'float32', 'float64']\n",
        "bigmart.select_dtypes(include = num).head()"
      ],
      "execution_count": 154,
      "outputs": [
        {
          "output_type": "execute_result",
          "data": {
            "text/html": [
              "<div>\n",
              "<style scoped>\n",
              "    .dataframe tbody tr th:only-of-type {\n",
              "        vertical-align: middle;\n",
              "    }\n",
              "\n",
              "    .dataframe tbody tr th {\n",
              "        vertical-align: top;\n",
              "    }\n",
              "\n",
              "    .dataframe thead th {\n",
              "        text-align: right;\n",
              "    }\n",
              "</style>\n",
              "<table border=\"1\" class=\"dataframe\">\n",
              "  <thead>\n",
              "    <tr style=\"text-align: left;\">\n",
              "      <th></th>\n",
              "      <th>item_weight</th>\n",
              "      <th>item_visibility</th>\n",
              "      <th>item_mrp</th>\n",
              "      <th>outlet_establishment_year</th>\n",
              "      <th>item_outlet_sales</th>\n",
              "      <th>outlet_type1</th>\n",
              "    </tr>\n",
              "  </thead>\n",
              "  <tbody>\n",
              "    <tr>\n",
              "      <th>0</th>\n",
              "      <td>9.30</td>\n",
              "      <td>0.02</td>\n",
              "      <td>249.81</td>\n",
              "      <td>1,999.00</td>\n",
              "      <td>3,735.14</td>\n",
              "      <td>1</td>\n",
              "    </tr>\n",
              "    <tr>\n",
              "      <th>1</th>\n",
              "      <td>5.92</td>\n",
              "      <td>0.02</td>\n",
              "      <td>48.27</td>\n",
              "      <td>2,009.00</td>\n",
              "      <td>443.42</td>\n",
              "      <td>2</td>\n",
              "    </tr>\n",
              "    <tr>\n",
              "      <th>2</th>\n",
              "      <td>17.50</td>\n",
              "      <td>0.02</td>\n",
              "      <td>141.62</td>\n",
              "      <td>1,999.00</td>\n",
              "      <td>2,097.27</td>\n",
              "      <td>1</td>\n",
              "    </tr>\n",
              "    <tr>\n",
              "      <th>3</th>\n",
              "      <td>19.20</td>\n",
              "      <td>0.00</td>\n",
              "      <td>182.09</td>\n",
              "      <td>1,998.00</td>\n",
              "      <td>732.38</td>\n",
              "      <td>0</td>\n",
              "    </tr>\n",
              "    <tr>\n",
              "      <th>4</th>\n",
              "      <td>8.93</td>\n",
              "      <td>0.00</td>\n",
              "      <td>53.86</td>\n",
              "      <td>1,987.00</td>\n",
              "      <td>994.71</td>\n",
              "      <td>1</td>\n",
              "    </tr>\n",
              "  </tbody>\n",
              "</table>\n",
              "</div>"
            ],
            "text/plain": [
              "   item_weight  item_visibility  item_mrp  outlet_establishment_year  \\\n",
              "0  9.30        0.02             249.81    1,999.00                     \n",
              "1  5.92        0.02              48.27    2,009.00                     \n",
              "2 17.50        0.02             141.62    1,999.00                     \n",
              "3 19.20        0.00             182.09    1,998.00                     \n",
              "4  8.93        0.00              53.86    1,987.00                     \n",
              "\n",
              "   item_outlet_sales  outlet_type1  \n",
              "0 3,735.14            1             \n",
              "1   443.42            2             \n",
              "2 2,097.27            1             \n",
              "3   732.38            0             \n",
              "4   994.71            1             "
            ]
          },
          "metadata": {
            "tags": []
          },
          "execution_count": 154
        }
      ]
    },
    {
      "cell_type": "code",
      "metadata": {
        "scrolled": true,
        "id": "X6uWHvf51Hb0",
        "colab_type": "code",
        "colab": {
          "base_uri": "https://localhost:8080/",
          "height": 197
        },
        "outputId": "23012b5a-424e-4af8-b841-53e67121fde3"
      },
      "source": [
        "# Method 2\n",
        "bigmart.select_dtypes(include = 'number').head()"
      ],
      "execution_count": 155,
      "outputs": [
        {
          "output_type": "execute_result",
          "data": {
            "text/html": [
              "<div>\n",
              "<style scoped>\n",
              "    .dataframe tbody tr th:only-of-type {\n",
              "        vertical-align: middle;\n",
              "    }\n",
              "\n",
              "    .dataframe tbody tr th {\n",
              "        vertical-align: top;\n",
              "    }\n",
              "\n",
              "    .dataframe thead th {\n",
              "        text-align: right;\n",
              "    }\n",
              "</style>\n",
              "<table border=\"1\" class=\"dataframe\">\n",
              "  <thead>\n",
              "    <tr style=\"text-align: left;\">\n",
              "      <th></th>\n",
              "      <th>item_weight</th>\n",
              "      <th>item_visibility</th>\n",
              "      <th>item_mrp</th>\n",
              "      <th>outlet_establishment_year</th>\n",
              "      <th>item_outlet_sales</th>\n",
              "      <th>outlet_type1</th>\n",
              "    </tr>\n",
              "  </thead>\n",
              "  <tbody>\n",
              "    <tr>\n",
              "      <th>0</th>\n",
              "      <td>9.30</td>\n",
              "      <td>0.02</td>\n",
              "      <td>249.81</td>\n",
              "      <td>1,999.00</td>\n",
              "      <td>3,735.14</td>\n",
              "      <td>1</td>\n",
              "    </tr>\n",
              "    <tr>\n",
              "      <th>1</th>\n",
              "      <td>5.92</td>\n",
              "      <td>0.02</td>\n",
              "      <td>48.27</td>\n",
              "      <td>2,009.00</td>\n",
              "      <td>443.42</td>\n",
              "      <td>2</td>\n",
              "    </tr>\n",
              "    <tr>\n",
              "      <th>2</th>\n",
              "      <td>17.50</td>\n",
              "      <td>0.02</td>\n",
              "      <td>141.62</td>\n",
              "      <td>1,999.00</td>\n",
              "      <td>2,097.27</td>\n",
              "      <td>1</td>\n",
              "    </tr>\n",
              "    <tr>\n",
              "      <th>3</th>\n",
              "      <td>19.20</td>\n",
              "      <td>0.00</td>\n",
              "      <td>182.09</td>\n",
              "      <td>1,998.00</td>\n",
              "      <td>732.38</td>\n",
              "      <td>0</td>\n",
              "    </tr>\n",
              "    <tr>\n",
              "      <th>4</th>\n",
              "      <td>8.93</td>\n",
              "      <td>0.00</td>\n",
              "      <td>53.86</td>\n",
              "      <td>1,987.00</td>\n",
              "      <td>994.71</td>\n",
              "      <td>1</td>\n",
              "    </tr>\n",
              "  </tbody>\n",
              "</table>\n",
              "</div>"
            ],
            "text/plain": [
              "   item_weight  item_visibility  item_mrp  outlet_establishment_year  \\\n",
              "0  9.30        0.02             249.81    1,999.00                     \n",
              "1  5.92        0.02              48.27    2,009.00                     \n",
              "2 17.50        0.02             141.62    1,999.00                     \n",
              "3 19.20        0.00             182.09    1,998.00                     \n",
              "4  8.93        0.00              53.86    1,987.00                     \n",
              "\n",
              "   item_outlet_sales  outlet_type1  \n",
              "0 3,735.14            1             \n",
              "1   443.42            2             \n",
              "2 2,097.27            1             \n",
              "3   732.38            0             \n",
              "4   994.71            1             "
            ]
          },
          "metadata": {
            "tags": []
          },
          "execution_count": 155
        }
      ]
    },
    {
      "cell_type": "code",
      "metadata": {
        "id": "S-mDwNpH1Hb2",
        "colab_type": "code",
        "colab": {
          "base_uri": "https://localhost:8080/",
          "height": 197
        },
        "outputId": "d34c50c4-ddfa-4c2d-8d7f-523b4bc80992"
      },
      "source": [
        "# Method 3\n",
        "bigmart._get_numeric_data().head()"
      ],
      "execution_count": 156,
      "outputs": [
        {
          "output_type": "execute_result",
          "data": {
            "text/html": [
              "<div>\n",
              "<style scoped>\n",
              "    .dataframe tbody tr th:only-of-type {\n",
              "        vertical-align: middle;\n",
              "    }\n",
              "\n",
              "    .dataframe tbody tr th {\n",
              "        vertical-align: top;\n",
              "    }\n",
              "\n",
              "    .dataframe thead th {\n",
              "        text-align: right;\n",
              "    }\n",
              "</style>\n",
              "<table border=\"1\" class=\"dataframe\">\n",
              "  <thead>\n",
              "    <tr style=\"text-align: left;\">\n",
              "      <th></th>\n",
              "      <th>item_weight</th>\n",
              "      <th>item_visibility</th>\n",
              "      <th>item_mrp</th>\n",
              "      <th>outlet_establishment_year</th>\n",
              "      <th>item_outlet_sales</th>\n",
              "      <th>outlet_type1</th>\n",
              "    </tr>\n",
              "  </thead>\n",
              "  <tbody>\n",
              "    <tr>\n",
              "      <th>0</th>\n",
              "      <td>9.30</td>\n",
              "      <td>0.02</td>\n",
              "      <td>249.81</td>\n",
              "      <td>1,999.00</td>\n",
              "      <td>3,735.14</td>\n",
              "      <td>1</td>\n",
              "    </tr>\n",
              "    <tr>\n",
              "      <th>1</th>\n",
              "      <td>5.92</td>\n",
              "      <td>0.02</td>\n",
              "      <td>48.27</td>\n",
              "      <td>2,009.00</td>\n",
              "      <td>443.42</td>\n",
              "      <td>2</td>\n",
              "    </tr>\n",
              "    <tr>\n",
              "      <th>2</th>\n",
              "      <td>17.50</td>\n",
              "      <td>0.02</td>\n",
              "      <td>141.62</td>\n",
              "      <td>1,999.00</td>\n",
              "      <td>2,097.27</td>\n",
              "      <td>1</td>\n",
              "    </tr>\n",
              "    <tr>\n",
              "      <th>3</th>\n",
              "      <td>19.20</td>\n",
              "      <td>0.00</td>\n",
              "      <td>182.09</td>\n",
              "      <td>1,998.00</td>\n",
              "      <td>732.38</td>\n",
              "      <td>0</td>\n",
              "    </tr>\n",
              "    <tr>\n",
              "      <th>4</th>\n",
              "      <td>8.93</td>\n",
              "      <td>0.00</td>\n",
              "      <td>53.86</td>\n",
              "      <td>1,987.00</td>\n",
              "      <td>994.71</td>\n",
              "      <td>1</td>\n",
              "    </tr>\n",
              "  </tbody>\n",
              "</table>\n",
              "</div>"
            ],
            "text/plain": [
              "   item_weight  item_visibility  item_mrp  outlet_establishment_year  \\\n",
              "0  9.30        0.02             249.81    1,999.00                     \n",
              "1  5.92        0.02              48.27    2,009.00                     \n",
              "2 17.50        0.02             141.62    1,999.00                     \n",
              "3 19.20        0.00             182.09    1,998.00                     \n",
              "4  8.93        0.00              53.86    1,987.00                     \n",
              "\n",
              "   item_outlet_sales  outlet_type1  \n",
              "0 3,735.14            1             \n",
              "1   443.42            2             \n",
              "2 2,097.27            1             \n",
              "3   732.38            0             \n",
              "4   994.71            1             "
            ]
          },
          "metadata": {
            "tags": []
          },
          "execution_count": 156
        }
      ]
    },
    {
      "cell_type": "markdown",
      "metadata": {
        "id": "raZuvJGn1Hb4",
        "colab_type": "text"
      },
      "source": [
        "# Drop variables with any Missing Values"
      ]
    },
    {
      "cell_type": "code",
      "metadata": {
        "id": "iH_qWMjO1Hb4",
        "colab_type": "code",
        "colab": {
          "base_uri": "https://localhost:8080/",
          "height": 33
        },
        "outputId": "abb75b94-1910-41ff-b4d3-cc589601692e"
      },
      "source": [
        "print('Dimension of Titanic :', titanic.shape)"
      ],
      "execution_count": 157,
      "outputs": [
        {
          "output_type": "stream",
          "text": [
            "Dimension of Titanic : (891, 17)\n"
          ],
          "name": "stdout"
        }
      ]
    },
    {
      "cell_type": "code",
      "metadata": {
        "id": "kGpyomWo1Hb6",
        "colab_type": "code",
        "colab": {
          "base_uri": "https://localhost:8080/",
          "height": 507
        },
        "outputId": "c13d1610-c7b6-4b60-9e2a-e91d5d635d22"
      },
      "source": [
        "titanic.dropna(axis='columns')"
      ],
      "execution_count": 158,
      "outputs": [
        {
          "output_type": "execute_result",
          "data": {
            "text/html": [
              "<div>\n",
              "<style scoped>\n",
              "    .dataframe tbody tr th:only-of-type {\n",
              "        vertical-align: middle;\n",
              "    }\n",
              "\n",
              "    .dataframe tbody tr th {\n",
              "        vertical-align: top;\n",
              "    }\n",
              "\n",
              "    .dataframe thead th {\n",
              "        text-align: right;\n",
              "    }\n",
              "</style>\n",
              "<table border=\"1\" class=\"dataframe\">\n",
              "  <thead>\n",
              "    <tr style=\"text-align: left;\">\n",
              "      <th></th>\n",
              "      <th>passenger_id</th>\n",
              "      <th>survived</th>\n",
              "      <th>class</th>\n",
              "      <th>name</th>\n",
              "      <th>gender</th>\n",
              "      <th>sib_sp</th>\n",
              "      <th>parch</th>\n",
              "      <th>ticket</th>\n",
              "      <th>fare</th>\n",
              "      <th>gender_code</th>\n",
              "      <th>name_new</th>\n",
              "      <th>gender_new</th>\n",
              "    </tr>\n",
              "  </thead>\n",
              "  <tbody>\n",
              "    <tr>\n",
              "      <th>0</th>\n",
              "      <td>1</td>\n",
              "      <td>0</td>\n",
              "      <td>3</td>\n",
              "      <td>Braund, Mr. Owen Harris</td>\n",
              "      <td>male</td>\n",
              "      <td>1</td>\n",
              "      <td>0</td>\n",
              "      <td>A/5 21171</td>\n",
              "      <td>7.25</td>\n",
              "      <td>M</td>\n",
              "      <td>braund, mr. owen harris</td>\n",
              "      <td>MALE</td>\n",
              "    </tr>\n",
              "    <tr>\n",
              "      <th>1</th>\n",
              "      <td>2</td>\n",
              "      <td>1</td>\n",
              "      <td>1</td>\n",
              "      <td>Cumings, Mrs. John Bradley (Florence Briggs Th...</td>\n",
              "      <td>female</td>\n",
              "      <td>1</td>\n",
              "      <td>0</td>\n",
              "      <td>PC 17599</td>\n",
              "      <td>71.28</td>\n",
              "      <td>F</td>\n",
              "      <td>cumings, mrs. john bradley (florence briggs th...</td>\n",
              "      <td>FEMALE</td>\n",
              "    </tr>\n",
              "    <tr>\n",
              "      <th>2</th>\n",
              "      <td>3</td>\n",
              "      <td>1</td>\n",
              "      <td>3</td>\n",
              "      <td>Heikkinen, Miss. Laina</td>\n",
              "      <td>female</td>\n",
              "      <td>0</td>\n",
              "      <td>0</td>\n",
              "      <td>STON/O2. 3101282</td>\n",
              "      <td>7.92</td>\n",
              "      <td>F</td>\n",
              "      <td>heikkinen, miss. laina</td>\n",
              "      <td>FEMALE</td>\n",
              "    </tr>\n",
              "    <tr>\n",
              "      <th>3</th>\n",
              "      <td>4</td>\n",
              "      <td>1</td>\n",
              "      <td>1</td>\n",
              "      <td>Futrelle, Mrs. Jacques Heath (Lily May Peel)</td>\n",
              "      <td>female</td>\n",
              "      <td>1</td>\n",
              "      <td>0</td>\n",
              "      <td>113803</td>\n",
              "      <td>53.10</td>\n",
              "      <td>F</td>\n",
              "      <td>futrelle, mrs. jacques heath (lily may peel)</td>\n",
              "      <td>FEMALE</td>\n",
              "    </tr>\n",
              "    <tr>\n",
              "      <th>4</th>\n",
              "      <td>5</td>\n",
              "      <td>0</td>\n",
              "      <td>3</td>\n",
              "      <td>Allen, Mr. William Henry</td>\n",
              "      <td>male</td>\n",
              "      <td>0</td>\n",
              "      <td>0</td>\n",
              "      <td>373450</td>\n",
              "      <td>8.05</td>\n",
              "      <td>M</td>\n",
              "      <td>allen, mr. william henry</td>\n",
              "      <td>MALE</td>\n",
              "    </tr>\n",
              "    <tr>\n",
              "      <th>...</th>\n",
              "      <td>...</td>\n",
              "      <td>...</td>\n",
              "      <td>...</td>\n",
              "      <td>...</td>\n",
              "      <td>...</td>\n",
              "      <td>...</td>\n",
              "      <td>...</td>\n",
              "      <td>...</td>\n",
              "      <td>...</td>\n",
              "      <td>...</td>\n",
              "      <td>...</td>\n",
              "      <td>...</td>\n",
              "    </tr>\n",
              "    <tr>\n",
              "      <th>886</th>\n",
              "      <td>887</td>\n",
              "      <td>0</td>\n",
              "      <td>2</td>\n",
              "      <td>Montvila, Rev. Juozas</td>\n",
              "      <td>male</td>\n",
              "      <td>0</td>\n",
              "      <td>0</td>\n",
              "      <td>211536</td>\n",
              "      <td>13.00</td>\n",
              "      <td>M</td>\n",
              "      <td>montvila, rev. juozas</td>\n",
              "      <td>MALE</td>\n",
              "    </tr>\n",
              "    <tr>\n",
              "      <th>887</th>\n",
              "      <td>888</td>\n",
              "      <td>1</td>\n",
              "      <td>1</td>\n",
              "      <td>Graham, Miss. Margaret Edith</td>\n",
              "      <td>female</td>\n",
              "      <td>0</td>\n",
              "      <td>0</td>\n",
              "      <td>112053</td>\n",
              "      <td>30.00</td>\n",
              "      <td>F</td>\n",
              "      <td>graham, miss. margaret edith</td>\n",
              "      <td>FEMALE</td>\n",
              "    </tr>\n",
              "    <tr>\n",
              "      <th>888</th>\n",
              "      <td>889</td>\n",
              "      <td>0</td>\n",
              "      <td>3</td>\n",
              "      <td>Johnston, Miss. Catherine Helen \"Carrie\"</td>\n",
              "      <td>female</td>\n",
              "      <td>1</td>\n",
              "      <td>2</td>\n",
              "      <td>W./C. 6607</td>\n",
              "      <td>23.45</td>\n",
              "      <td>F</td>\n",
              "      <td>johnston, miss. catherine helen \"carrie\"</td>\n",
              "      <td>FEMALE</td>\n",
              "    </tr>\n",
              "    <tr>\n",
              "      <th>889</th>\n",
              "      <td>890</td>\n",
              "      <td>1</td>\n",
              "      <td>1</td>\n",
              "      <td>Behr, Mr. Karl Howell</td>\n",
              "      <td>male</td>\n",
              "      <td>0</td>\n",
              "      <td>0</td>\n",
              "      <td>111369</td>\n",
              "      <td>30.00</td>\n",
              "      <td>M</td>\n",
              "      <td>behr, mr. karl howell</td>\n",
              "      <td>MALE</td>\n",
              "    </tr>\n",
              "    <tr>\n",
              "      <th>890</th>\n",
              "      <td>891</td>\n",
              "      <td>0</td>\n",
              "      <td>3</td>\n",
              "      <td>Dooley, Mr. Patrick</td>\n",
              "      <td>male</td>\n",
              "      <td>0</td>\n",
              "      <td>0</td>\n",
              "      <td>370376</td>\n",
              "      <td>7.75</td>\n",
              "      <td>M</td>\n",
              "      <td>dooley, mr. patrick</td>\n",
              "      <td>MALE</td>\n",
              "    </tr>\n",
              "  </tbody>\n",
              "</table>\n",
              "<p>891 rows × 12 columns</p>\n",
              "</div>"
            ],
            "text/plain": [
              "     passenger_id  survived  class  \\\n",
              "0      1           0         3       \n",
              "1      2           1         1       \n",
              "2      3           1         3       \n",
              "3      4           1         1       \n",
              "4      5           0         3       \n",
              "..            ...       ...    ...   \n",
              "886  887           0         2       \n",
              "887  888           1         1       \n",
              "888  889           0         3       \n",
              "889  890           1         1       \n",
              "890  891           0         3       \n",
              "\n",
              "    name                                               gender   sib_sp  parch  \\\n",
              "0                              Braund, Mr. Owen Harris    male  1       0       \n",
              "1    Cumings, Mrs. John Bradley (Florence Briggs Th...  female  1       0       \n",
              "2                               Heikkinen, Miss. Laina  female  0       0       \n",
              "3         Futrelle, Mrs. Jacques Heath (Lily May Peel)  female  1       0       \n",
              "4                             Allen, Mr. William Henry    male  0       0       \n",
              "..                                                 ...     ...     ...    ...   \n",
              "886                              Montvila, Rev. Juozas    male  0       0       \n",
              "887                       Graham, Miss. Margaret Edith  female  0       0       \n",
              "888           Johnston, Miss. Catherine Helen \"Carrie\"  female  1       2       \n",
              "889                              Behr, Mr. Karl Howell    male  0       0       \n",
              "890                                Dooley, Mr. Patrick    male  0       0       \n",
              "\n",
              "    ticket             fare gender_code  \\\n",
              "0           A/5 21171  7.25  M            \n",
              "1            PC 17599 71.28  F            \n",
              "2    STON/O2. 3101282  7.92  F            \n",
              "3              113803 53.10  F            \n",
              "4              373450  8.05  M            \n",
              "..                ...   ...         ...   \n",
              "886            211536 13.00  M            \n",
              "887            112053 30.00  F            \n",
              "888        W./C. 6607 23.45  F            \n",
              "889            111369 30.00  M            \n",
              "890            370376  7.75  M            \n",
              "\n",
              "    name_new                                           gender_new  \n",
              "0                              braund, mr. owen harris    MALE     \n",
              "1    cumings, mrs. john bradley (florence briggs th...  FEMALE     \n",
              "2                               heikkinen, miss. laina  FEMALE     \n",
              "3         futrelle, mrs. jacques heath (lily may peel)  FEMALE     \n",
              "4                             allen, mr. william henry    MALE     \n",
              "..                                                 ...        ...  \n",
              "886                              montvila, rev. juozas    MALE     \n",
              "887                       graham, miss. margaret edith  FEMALE     \n",
              "888           johnston, miss. catherine helen \"carrie\"  FEMALE     \n",
              "889                              behr, mr. karl howell    MALE     \n",
              "890                                dooley, mr. patrick    MALE     \n",
              "\n",
              "[891 rows x 12 columns]"
            ]
          },
          "metadata": {
            "tags": []
          },
          "execution_count": 158
        }
      ]
    },
    {
      "cell_type": "markdown",
      "metadata": {
        "id": "Z3I5puhl1Hb9",
        "colab_type": "text"
      },
      "source": [
        "Since, 3 variables having missing values are dropped, the resultant data has 9 variables instead of original 12 variables."
      ]
    },
    {
      "cell_type": "markdown",
      "metadata": {
        "id": "guBg8Xq91Hb-",
        "colab_type": "text"
      },
      "source": [
        "# Dropping variables with more than 10% of Missing Values"
      ]
    },
    {
      "cell_type": "code",
      "metadata": {
        "id": "tI3c64G01Hb-",
        "colab_type": "code",
        "colab": {
          "base_uri": "https://localhost:8080/",
          "height": 740
        },
        "outputId": "9484e6e3-cc5e-4383-8870-0425b20f62d8"
      },
      "source": [
        "titanic.dropna(thresh = len(titanic)*0.9, axis = 'columns')"
      ],
      "execution_count": 159,
      "outputs": [
        {
          "output_type": "execute_result",
          "data": {
            "text/html": [
              "<div>\n",
              "<style scoped>\n",
              "    .dataframe tbody tr th:only-of-type {\n",
              "        vertical-align: middle;\n",
              "    }\n",
              "\n",
              "    .dataframe tbody tr th {\n",
              "        vertical-align: top;\n",
              "    }\n",
              "\n",
              "    .dataframe thead th {\n",
              "        text-align: right;\n",
              "    }\n",
              "</style>\n",
              "<table border=\"1\" class=\"dataframe\">\n",
              "  <thead>\n",
              "    <tr style=\"text-align: left;\">\n",
              "      <th></th>\n",
              "      <th>passenger_id</th>\n",
              "      <th>survived</th>\n",
              "      <th>class</th>\n",
              "      <th>name</th>\n",
              "      <th>gender</th>\n",
              "      <th>sib_sp</th>\n",
              "      <th>parch</th>\n",
              "      <th>ticket</th>\n",
              "      <th>fare</th>\n",
              "      <th>embarked</th>\n",
              "      <th>gender_code</th>\n",
              "      <th>name_new</th>\n",
              "      <th>gender_new</th>\n",
              "      <th>embarked_new</th>\n",
              "    </tr>\n",
              "  </thead>\n",
              "  <tbody>\n",
              "    <tr>\n",
              "      <th>0</th>\n",
              "      <td>1</td>\n",
              "      <td>0</td>\n",
              "      <td>3</td>\n",
              "      <td>Braund, Mr. Owen Harris</td>\n",
              "      <td>male</td>\n",
              "      <td>1</td>\n",
              "      <td>0</td>\n",
              "      <td>A/5 21171</td>\n",
              "      <td>7.25</td>\n",
              "      <td>S</td>\n",
              "      <td>M</td>\n",
              "      <td>braund, mr. owen harris</td>\n",
              "      <td>MALE</td>\n",
              "      <td>s</td>\n",
              "    </tr>\n",
              "    <tr>\n",
              "      <th>1</th>\n",
              "      <td>2</td>\n",
              "      <td>1</td>\n",
              "      <td>1</td>\n",
              "      <td>Cumings, Mrs. John Bradley (Florence Briggs Th...</td>\n",
              "      <td>female</td>\n",
              "      <td>1</td>\n",
              "      <td>0</td>\n",
              "      <td>PC 17599</td>\n",
              "      <td>71.28</td>\n",
              "      <td>C</td>\n",
              "      <td>F</td>\n",
              "      <td>cumings, mrs. john bradley (florence briggs th...</td>\n",
              "      <td>FEMALE</td>\n",
              "      <td>c</td>\n",
              "    </tr>\n",
              "    <tr>\n",
              "      <th>2</th>\n",
              "      <td>3</td>\n",
              "      <td>1</td>\n",
              "      <td>3</td>\n",
              "      <td>Heikkinen, Miss. Laina</td>\n",
              "      <td>female</td>\n",
              "      <td>0</td>\n",
              "      <td>0</td>\n",
              "      <td>STON/O2. 3101282</td>\n",
              "      <td>7.92</td>\n",
              "      <td>S</td>\n",
              "      <td>F</td>\n",
              "      <td>heikkinen, miss. laina</td>\n",
              "      <td>FEMALE</td>\n",
              "      <td>s</td>\n",
              "    </tr>\n",
              "    <tr>\n",
              "      <th>3</th>\n",
              "      <td>4</td>\n",
              "      <td>1</td>\n",
              "      <td>1</td>\n",
              "      <td>Futrelle, Mrs. Jacques Heath (Lily May Peel)</td>\n",
              "      <td>female</td>\n",
              "      <td>1</td>\n",
              "      <td>0</td>\n",
              "      <td>113803</td>\n",
              "      <td>53.10</td>\n",
              "      <td>S</td>\n",
              "      <td>F</td>\n",
              "      <td>futrelle, mrs. jacques heath (lily may peel)</td>\n",
              "      <td>FEMALE</td>\n",
              "      <td>s</td>\n",
              "    </tr>\n",
              "    <tr>\n",
              "      <th>4</th>\n",
              "      <td>5</td>\n",
              "      <td>0</td>\n",
              "      <td>3</td>\n",
              "      <td>Allen, Mr. William Henry</td>\n",
              "      <td>male</td>\n",
              "      <td>0</td>\n",
              "      <td>0</td>\n",
              "      <td>373450</td>\n",
              "      <td>8.05</td>\n",
              "      <td>S</td>\n",
              "      <td>M</td>\n",
              "      <td>allen, mr. william henry</td>\n",
              "      <td>MALE</td>\n",
              "      <td>s</td>\n",
              "    </tr>\n",
              "    <tr>\n",
              "      <th>...</th>\n",
              "      <td>...</td>\n",
              "      <td>...</td>\n",
              "      <td>...</td>\n",
              "      <td>...</td>\n",
              "      <td>...</td>\n",
              "      <td>...</td>\n",
              "      <td>...</td>\n",
              "      <td>...</td>\n",
              "      <td>...</td>\n",
              "      <td>...</td>\n",
              "      <td>...</td>\n",
              "      <td>...</td>\n",
              "      <td>...</td>\n",
              "      <td>...</td>\n",
              "    </tr>\n",
              "    <tr>\n",
              "      <th>886</th>\n",
              "      <td>887</td>\n",
              "      <td>0</td>\n",
              "      <td>2</td>\n",
              "      <td>Montvila, Rev. Juozas</td>\n",
              "      <td>male</td>\n",
              "      <td>0</td>\n",
              "      <td>0</td>\n",
              "      <td>211536</td>\n",
              "      <td>13.00</td>\n",
              "      <td>S</td>\n",
              "      <td>M</td>\n",
              "      <td>montvila, rev. juozas</td>\n",
              "      <td>MALE</td>\n",
              "      <td>s</td>\n",
              "    </tr>\n",
              "    <tr>\n",
              "      <th>887</th>\n",
              "      <td>888</td>\n",
              "      <td>1</td>\n",
              "      <td>1</td>\n",
              "      <td>Graham, Miss. Margaret Edith</td>\n",
              "      <td>female</td>\n",
              "      <td>0</td>\n",
              "      <td>0</td>\n",
              "      <td>112053</td>\n",
              "      <td>30.00</td>\n",
              "      <td>S</td>\n",
              "      <td>F</td>\n",
              "      <td>graham, miss. margaret edith</td>\n",
              "      <td>FEMALE</td>\n",
              "      <td>s</td>\n",
              "    </tr>\n",
              "    <tr>\n",
              "      <th>888</th>\n",
              "      <td>889</td>\n",
              "      <td>0</td>\n",
              "      <td>3</td>\n",
              "      <td>Johnston, Miss. Catherine Helen \"Carrie\"</td>\n",
              "      <td>female</td>\n",
              "      <td>1</td>\n",
              "      <td>2</td>\n",
              "      <td>W./C. 6607</td>\n",
              "      <td>23.45</td>\n",
              "      <td>S</td>\n",
              "      <td>F</td>\n",
              "      <td>johnston, miss. catherine helen \"carrie\"</td>\n",
              "      <td>FEMALE</td>\n",
              "      <td>s</td>\n",
              "    </tr>\n",
              "    <tr>\n",
              "      <th>889</th>\n",
              "      <td>890</td>\n",
              "      <td>1</td>\n",
              "      <td>1</td>\n",
              "      <td>Behr, Mr. Karl Howell</td>\n",
              "      <td>male</td>\n",
              "      <td>0</td>\n",
              "      <td>0</td>\n",
              "      <td>111369</td>\n",
              "      <td>30.00</td>\n",
              "      <td>C</td>\n",
              "      <td>M</td>\n",
              "      <td>behr, mr. karl howell</td>\n",
              "      <td>MALE</td>\n",
              "      <td>c</td>\n",
              "    </tr>\n",
              "    <tr>\n",
              "      <th>890</th>\n",
              "      <td>891</td>\n",
              "      <td>0</td>\n",
              "      <td>3</td>\n",
              "      <td>Dooley, Mr. Patrick</td>\n",
              "      <td>male</td>\n",
              "      <td>0</td>\n",
              "      <td>0</td>\n",
              "      <td>370376</td>\n",
              "      <td>7.75</td>\n",
              "      <td>Q</td>\n",
              "      <td>M</td>\n",
              "      <td>dooley, mr. patrick</td>\n",
              "      <td>MALE</td>\n",
              "      <td>q</td>\n",
              "    </tr>\n",
              "  </tbody>\n",
              "</table>\n",
              "<p>891 rows × 14 columns</p>\n",
              "</div>"
            ],
            "text/plain": [
              "     passenger_id  survived  class  \\\n",
              "0      1           0         3       \n",
              "1      2           1         1       \n",
              "2      3           1         3       \n",
              "3      4           1         1       \n",
              "4      5           0         3       \n",
              "..            ...       ...    ...   \n",
              "886  887           0         2       \n",
              "887  888           1         1       \n",
              "888  889           0         3       \n",
              "889  890           1         1       \n",
              "890  891           0         3       \n",
              "\n",
              "    name                                               gender   sib_sp  parch  \\\n",
              "0                              Braund, Mr. Owen Harris    male  1       0       \n",
              "1    Cumings, Mrs. John Bradley (Florence Briggs Th...  female  1       0       \n",
              "2                               Heikkinen, Miss. Laina  female  0       0       \n",
              "3         Futrelle, Mrs. Jacques Heath (Lily May Peel)  female  1       0       \n",
              "4                             Allen, Mr. William Henry    male  0       0       \n",
              "..                                                 ...     ...     ...    ...   \n",
              "886                              Montvila, Rev. Juozas    male  0       0       \n",
              "887                       Graham, Miss. Margaret Edith  female  0       0       \n",
              "888           Johnston, Miss. Catherine Helen \"Carrie\"  female  1       2       \n",
              "889                              Behr, Mr. Karl Howell    male  0       0       \n",
              "890                                Dooley, Mr. Patrick    male  0       0       \n",
              "\n",
              "    ticket             fare embarked gender_code  \\\n",
              "0           A/5 21171  7.25  S        M            \n",
              "1            PC 17599 71.28  C        F            \n",
              "2    STON/O2. 3101282  7.92  S        F            \n",
              "3              113803 53.10  S        F            \n",
              "4              373450  8.05  S        M            \n",
              "..                ...   ...      ...         ...   \n",
              "886            211536 13.00  S        M            \n",
              "887            112053 30.00  S        F            \n",
              "888        W./C. 6607 23.45  S        F            \n",
              "889            111369 30.00  C        M            \n",
              "890            370376  7.75  Q        M            \n",
              "\n",
              "    name_new                                           gender_new embarked_new  \n",
              "0                              braund, mr. owen harris    MALE     s            \n",
              "1    cumings, mrs. john bradley (florence briggs th...  FEMALE     c            \n",
              "2                               heikkinen, miss. laina  FEMALE     s            \n",
              "3         futrelle, mrs. jacques heath (lily may peel)  FEMALE     s            \n",
              "4                             allen, mr. william henry    MALE     s            \n",
              "..                                                 ...        ...          ...  \n",
              "886                              montvila, rev. juozas    MALE     s            \n",
              "887                       graham, miss. margaret edith  FEMALE     s            \n",
              "888           johnston, miss. catherine helen \"carrie\"  FEMALE     s            \n",
              "889                              behr, mr. karl howell    MALE     c            \n",
              "890                                dooley, mr. patrick    MALE     q            \n",
              "\n",
              "[891 rows x 14 columns]"
            ]
          },
          "metadata": {
            "tags": []
          },
          "execution_count": 159
        }
      ]
    },
    {
      "cell_type": "markdown",
      "metadata": {
        "id": "LezGLFl21HcA",
        "colab_type": "text"
      },
      "source": [
        "Since 1 variable had less than 10% of missing values, only 2 variables having more than 10% of missing values were dropped."
      ]
    },
    {
      "cell_type": "markdown",
      "metadata": {
        "id": "vrxrvIbD1HcA",
        "colab_type": "text"
      },
      "source": [
        "# Dropping observations with any Missing Value"
      ]
    },
    {
      "cell_type": "code",
      "metadata": {
        "id": "8b3Ooew61HcA",
        "colab_type": "code",
        "colab": {
          "base_uri": "https://localhost:8080/",
          "height": 33
        },
        "outputId": "4b649ff5-bcdb-4714-a835-90eadf645f0c"
      },
      "source": [
        "print('Dimension of Titanic :', titanic.shape)"
      ],
      "execution_count": 160,
      "outputs": [
        {
          "output_type": "stream",
          "text": [
            "Dimension of Titanic : (891, 17)\n"
          ],
          "name": "stdout"
        }
      ]
    },
    {
      "cell_type": "code",
      "metadata": {
        "id": "7dCaS6wR1HcD",
        "colab_type": "code",
        "colab": {
          "base_uri": "https://localhost:8080/",
          "height": 943
        },
        "outputId": "82b7c594-c1f6-4f14-d230-af9407d45025"
      },
      "source": [
        "titanic.dropna(axis = 'rows')"
      ],
      "execution_count": 161,
      "outputs": [
        {
          "output_type": "execute_result",
          "data": {
            "text/html": [
              "<div>\n",
              "<style scoped>\n",
              "    .dataframe tbody tr th:only-of-type {\n",
              "        vertical-align: middle;\n",
              "    }\n",
              "\n",
              "    .dataframe tbody tr th {\n",
              "        vertical-align: top;\n",
              "    }\n",
              "\n",
              "    .dataframe thead th {\n",
              "        text-align: right;\n",
              "    }\n",
              "</style>\n",
              "<table border=\"1\" class=\"dataframe\">\n",
              "  <thead>\n",
              "    <tr style=\"text-align: left;\">\n",
              "      <th></th>\n",
              "      <th>passenger_id</th>\n",
              "      <th>survived</th>\n",
              "      <th>class</th>\n",
              "      <th>name</th>\n",
              "      <th>gender</th>\n",
              "      <th>age</th>\n",
              "      <th>sib_sp</th>\n",
              "      <th>parch</th>\n",
              "      <th>ticket</th>\n",
              "      <th>fare</th>\n",
              "      <th>cabin</th>\n",
              "      <th>embarked</th>\n",
              "      <th>gender_code</th>\n",
              "      <th>name_new</th>\n",
              "      <th>gender_new</th>\n",
              "      <th>embarked_new</th>\n",
              "      <th>age_group</th>\n",
              "    </tr>\n",
              "  </thead>\n",
              "  <tbody>\n",
              "    <tr>\n",
              "      <th>1</th>\n",
              "      <td>2</td>\n",
              "      <td>1</td>\n",
              "      <td>1</td>\n",
              "      <td>Cumings, Mrs. John Bradley (Florence Briggs Th...</td>\n",
              "      <td>female</td>\n",
              "      <td>38.00</td>\n",
              "      <td>1</td>\n",
              "      <td>0</td>\n",
              "      <td>PC 17599</td>\n",
              "      <td>71.28</td>\n",
              "      <td>C85</td>\n",
              "      <td>C</td>\n",
              "      <td>F</td>\n",
              "      <td>cumings, mrs. john bradley (florence briggs th...</td>\n",
              "      <td>FEMALE</td>\n",
              "      <td>c</td>\n",
              "      <td>adult</td>\n",
              "    </tr>\n",
              "    <tr>\n",
              "      <th>3</th>\n",
              "      <td>4</td>\n",
              "      <td>1</td>\n",
              "      <td>1</td>\n",
              "      <td>Futrelle, Mrs. Jacques Heath (Lily May Peel)</td>\n",
              "      <td>female</td>\n",
              "      <td>35.00</td>\n",
              "      <td>1</td>\n",
              "      <td>0</td>\n",
              "      <td>113803</td>\n",
              "      <td>53.10</td>\n",
              "      <td>C123</td>\n",
              "      <td>S</td>\n",
              "      <td>F</td>\n",
              "      <td>futrelle, mrs. jacques heath (lily may peel)</td>\n",
              "      <td>FEMALE</td>\n",
              "      <td>s</td>\n",
              "      <td>adult</td>\n",
              "    </tr>\n",
              "    <tr>\n",
              "      <th>6</th>\n",
              "      <td>7</td>\n",
              "      <td>0</td>\n",
              "      <td>1</td>\n",
              "      <td>McCarthy, Mr. Timothy J</td>\n",
              "      <td>male</td>\n",
              "      <td>54.00</td>\n",
              "      <td>0</td>\n",
              "      <td>0</td>\n",
              "      <td>17463</td>\n",
              "      <td>51.86</td>\n",
              "      <td>E46</td>\n",
              "      <td>S</td>\n",
              "      <td>M</td>\n",
              "      <td>mccarthy, mr. timothy j</td>\n",
              "      <td>MALE</td>\n",
              "      <td>s</td>\n",
              "      <td>adult</td>\n",
              "    </tr>\n",
              "    <tr>\n",
              "      <th>10</th>\n",
              "      <td>11</td>\n",
              "      <td>1</td>\n",
              "      <td>3</td>\n",
              "      <td>Sandstrom, Miss. Marguerite Rut</td>\n",
              "      <td>female</td>\n",
              "      <td>4.00</td>\n",
              "      <td>1</td>\n",
              "      <td>1</td>\n",
              "      <td>PP 9549</td>\n",
              "      <td>16.70</td>\n",
              "      <td>G6</td>\n",
              "      <td>S</td>\n",
              "      <td>F</td>\n",
              "      <td>sandstrom, miss. marguerite rut</td>\n",
              "      <td>FEMALE</td>\n",
              "      <td>s</td>\n",
              "      <td>child</td>\n",
              "    </tr>\n",
              "    <tr>\n",
              "      <th>11</th>\n",
              "      <td>12</td>\n",
              "      <td>1</td>\n",
              "      <td>1</td>\n",
              "      <td>Bonnell, Miss. Elizabeth</td>\n",
              "      <td>female</td>\n",
              "      <td>58.00</td>\n",
              "      <td>0</td>\n",
              "      <td>0</td>\n",
              "      <td>113783</td>\n",
              "      <td>26.55</td>\n",
              "      <td>C103</td>\n",
              "      <td>S</td>\n",
              "      <td>F</td>\n",
              "      <td>bonnell, miss. elizabeth</td>\n",
              "      <td>FEMALE</td>\n",
              "      <td>s</td>\n",
              "      <td>adult</td>\n",
              "    </tr>\n",
              "    <tr>\n",
              "      <th>...</th>\n",
              "      <td>...</td>\n",
              "      <td>...</td>\n",
              "      <td>...</td>\n",
              "      <td>...</td>\n",
              "      <td>...</td>\n",
              "      <td>...</td>\n",
              "      <td>...</td>\n",
              "      <td>...</td>\n",
              "      <td>...</td>\n",
              "      <td>...</td>\n",
              "      <td>...</td>\n",
              "      <td>...</td>\n",
              "      <td>...</td>\n",
              "      <td>...</td>\n",
              "      <td>...</td>\n",
              "      <td>...</td>\n",
              "      <td>...</td>\n",
              "    </tr>\n",
              "    <tr>\n",
              "      <th>871</th>\n",
              "      <td>872</td>\n",
              "      <td>1</td>\n",
              "      <td>1</td>\n",
              "      <td>Beckwith, Mrs. Richard Leonard (Sallie Monypeny)</td>\n",
              "      <td>female</td>\n",
              "      <td>47.00</td>\n",
              "      <td>1</td>\n",
              "      <td>1</td>\n",
              "      <td>11751</td>\n",
              "      <td>52.55</td>\n",
              "      <td>D35</td>\n",
              "      <td>S</td>\n",
              "      <td>F</td>\n",
              "      <td>beckwith, mrs. richard leonard (sallie monypeny)</td>\n",
              "      <td>FEMALE</td>\n",
              "      <td>s</td>\n",
              "      <td>adult</td>\n",
              "    </tr>\n",
              "    <tr>\n",
              "      <th>872</th>\n",
              "      <td>873</td>\n",
              "      <td>0</td>\n",
              "      <td>1</td>\n",
              "      <td>Carlsson, Mr. Frans Olof</td>\n",
              "      <td>male</td>\n",
              "      <td>33.00</td>\n",
              "      <td>0</td>\n",
              "      <td>0</td>\n",
              "      <td>695</td>\n",
              "      <td>5.00</td>\n",
              "      <td>B51 B53 B55</td>\n",
              "      <td>S</td>\n",
              "      <td>M</td>\n",
              "      <td>carlsson, mr. frans olof</td>\n",
              "      <td>MALE</td>\n",
              "      <td>s</td>\n",
              "      <td>adult</td>\n",
              "    </tr>\n",
              "    <tr>\n",
              "      <th>879</th>\n",
              "      <td>880</td>\n",
              "      <td>1</td>\n",
              "      <td>1</td>\n",
              "      <td>Potter, Mrs. Thomas Jr (Lily Alexenia Wilson)</td>\n",
              "      <td>female</td>\n",
              "      <td>56.00</td>\n",
              "      <td>0</td>\n",
              "      <td>1</td>\n",
              "      <td>11767</td>\n",
              "      <td>83.16</td>\n",
              "      <td>C50</td>\n",
              "      <td>C</td>\n",
              "      <td>F</td>\n",
              "      <td>potter, mrs. thomas jr (lily alexenia wilson)</td>\n",
              "      <td>FEMALE</td>\n",
              "      <td>c</td>\n",
              "      <td>adult</td>\n",
              "    </tr>\n",
              "    <tr>\n",
              "      <th>887</th>\n",
              "      <td>888</td>\n",
              "      <td>1</td>\n",
              "      <td>1</td>\n",
              "      <td>Graham, Miss. Margaret Edith</td>\n",
              "      <td>female</td>\n",
              "      <td>19.00</td>\n",
              "      <td>0</td>\n",
              "      <td>0</td>\n",
              "      <td>112053</td>\n",
              "      <td>30.00</td>\n",
              "      <td>B42</td>\n",
              "      <td>S</td>\n",
              "      <td>F</td>\n",
              "      <td>graham, miss. margaret edith</td>\n",
              "      <td>FEMALE</td>\n",
              "      <td>s</td>\n",
              "      <td>adult</td>\n",
              "    </tr>\n",
              "    <tr>\n",
              "      <th>889</th>\n",
              "      <td>890</td>\n",
              "      <td>1</td>\n",
              "      <td>1</td>\n",
              "      <td>Behr, Mr. Karl Howell</td>\n",
              "      <td>male</td>\n",
              "      <td>26.00</td>\n",
              "      <td>0</td>\n",
              "      <td>0</td>\n",
              "      <td>111369</td>\n",
              "      <td>30.00</td>\n",
              "      <td>C148</td>\n",
              "      <td>C</td>\n",
              "      <td>M</td>\n",
              "      <td>behr, mr. karl howell</td>\n",
              "      <td>MALE</td>\n",
              "      <td>c</td>\n",
              "      <td>adult</td>\n",
              "    </tr>\n",
              "  </tbody>\n",
              "</table>\n",
              "<p>183 rows × 17 columns</p>\n",
              "</div>"
            ],
            "text/plain": [
              "     passenger_id  survived  class  \\\n",
              "1      2           1         1       \n",
              "3      4           1         1       \n",
              "6      7           0         1       \n",
              "10    11           1         3       \n",
              "11    12           1         1       \n",
              "..            ...       ...    ...   \n",
              "871  872           1         1       \n",
              "872  873           0         1       \n",
              "879  880           1         1       \n",
              "887  888           1         1       \n",
              "889  890           1         1       \n",
              "\n",
              "    name                                               gender   age   sib_sp  \\\n",
              "1    Cumings, Mrs. John Bradley (Florence Briggs Th...  female 38.00  1        \n",
              "3         Futrelle, Mrs. Jacques Heath (Lily May Peel)  female 35.00  1        \n",
              "6                              McCarthy, Mr. Timothy J    male 54.00  0        \n",
              "10                     Sandstrom, Miss. Marguerite Rut  female  4.00  1        \n",
              "11                            Bonnell, Miss. Elizabeth  female 58.00  0        \n",
              "..                                                 ...     ...   ...     ...   \n",
              "871   Beckwith, Mrs. Richard Leonard (Sallie Monypeny)  female 47.00  1        \n",
              "872                           Carlsson, Mr. Frans Olof    male 33.00  0        \n",
              "879      Potter, Mrs. Thomas Jr (Lily Alexenia Wilson)  female 56.00  0        \n",
              "887                       Graham, Miss. Margaret Edith  female 19.00  0        \n",
              "889                              Behr, Mr. Karl Howell    male 26.00  0        \n",
              "\n",
              "     parch ticket     fare cabin        embarked gender_code  \\\n",
              "1    0      PC 17599 71.28          C85  C        F            \n",
              "3    0        113803 53.10         C123  S        F            \n",
              "6    0         17463 51.86          E46  S        M            \n",
              "10   1       PP 9549 16.70           G6  S        F            \n",
              "11   0        113783 26.55         C103  S        F            \n",
              "..     ...       ...   ...          ...      ...         ...   \n",
              "871  1         11751 52.55          D35  S        F            \n",
              "872  0           695  5.00  B51 B53 B55  S        M            \n",
              "879  1         11767 83.16          C50  C        F            \n",
              "887  0        112053 30.00          B42  S        F            \n",
              "889  0        111369 30.00         C148  C        M            \n",
              "\n",
              "    name_new                                           gender_new  \\\n",
              "1    cumings, mrs. john bradley (florence briggs th...  FEMALE      \n",
              "3         futrelle, mrs. jacques heath (lily may peel)  FEMALE      \n",
              "6                              mccarthy, mr. timothy j    MALE      \n",
              "10                     sandstrom, miss. marguerite rut  FEMALE      \n",
              "11                            bonnell, miss. elizabeth  FEMALE      \n",
              "..                                                 ...        ...   \n",
              "871   beckwith, mrs. richard leonard (sallie monypeny)  FEMALE      \n",
              "872                           carlsson, mr. frans olof    MALE      \n",
              "879      potter, mrs. thomas jr (lily alexenia wilson)  FEMALE      \n",
              "887                       graham, miss. margaret edith  FEMALE      \n",
              "889                              behr, mr. karl howell    MALE      \n",
              "\n",
              "    embarked_new age_group  \n",
              "1    c            adult     \n",
              "3    s            adult     \n",
              "6    s            adult     \n",
              "10   s            child     \n",
              "11   s            adult     \n",
              "..           ...       ...  \n",
              "871  s            adult     \n",
              "872  s            adult     \n",
              "879  c            adult     \n",
              "887  s            adult     \n",
              "889  c            adult     \n",
              "\n",
              "[183 rows x 17 columns]"
            ]
          },
          "metadata": {
            "tags": []
          },
          "execution_count": 161
        }
      ]
    },
    {
      "cell_type": "markdown",
      "metadata": {
        "id": "KIOyXvhN1HcF",
        "colab_type": "text"
      },
      "source": [
        "Since only these 183 observations had no missing values for any variable, they are present in the resultant data."
      ]
    },
    {
      "cell_type": "markdown",
      "metadata": {
        "id": "Qg0uK_kG1HcF",
        "colab_type": "text"
      },
      "source": [
        "# Wide to Long Data"
      ]
    },
    {
      "cell_type": "code",
      "metadata": {
        "id": "-3u71ifU1HcF",
        "colab_type": "code",
        "colab": {
          "base_uri": "https://localhost:8080/",
          "height": 137
        },
        "outputId": "873ab66a-a849-4a12-d3ee-3e0fd512cd44"
      },
      "source": [
        "df = pd.DataFrame({'person':[1,2,3], 'clothes':[346,687,219], 'food':[3540,8740,6502], 'travel':[198,216,354]})\n",
        "df.head()"
      ],
      "execution_count": 162,
      "outputs": [
        {
          "output_type": "execute_result",
          "data": {
            "text/html": [
              "<div>\n",
              "<style scoped>\n",
              "    .dataframe tbody tr th:only-of-type {\n",
              "        vertical-align: middle;\n",
              "    }\n",
              "\n",
              "    .dataframe tbody tr th {\n",
              "        vertical-align: top;\n",
              "    }\n",
              "\n",
              "    .dataframe thead th {\n",
              "        text-align: right;\n",
              "    }\n",
              "</style>\n",
              "<table border=\"1\" class=\"dataframe\">\n",
              "  <thead>\n",
              "    <tr style=\"text-align: left;\">\n",
              "      <th></th>\n",
              "      <th>person</th>\n",
              "      <th>clothes</th>\n",
              "      <th>food</th>\n",
              "      <th>travel</th>\n",
              "    </tr>\n",
              "  </thead>\n",
              "  <tbody>\n",
              "    <tr>\n",
              "      <th>0</th>\n",
              "      <td>1</td>\n",
              "      <td>346</td>\n",
              "      <td>3540</td>\n",
              "      <td>198</td>\n",
              "    </tr>\n",
              "    <tr>\n",
              "      <th>1</th>\n",
              "      <td>2</td>\n",
              "      <td>687</td>\n",
              "      <td>8740</td>\n",
              "      <td>216</td>\n",
              "    </tr>\n",
              "    <tr>\n",
              "      <th>2</th>\n",
              "      <td>3</td>\n",
              "      <td>219</td>\n",
              "      <td>6502</td>\n",
              "      <td>354</td>\n",
              "    </tr>\n",
              "  </tbody>\n",
              "</table>\n",
              "</div>"
            ],
            "text/plain": [
              "   person  clothes  food  travel\n",
              "0  1       346      3540  198   \n",
              "1  2       687      8740  216   \n",
              "2  3       219      6502  354   "
            ]
          },
          "metadata": {
            "tags": []
          },
          "execution_count": 162
        }
      ]
    },
    {
      "cell_type": "code",
      "metadata": {
        "id": "xQ1f7gK31HcI",
        "colab_type": "code",
        "colab": {
          "base_uri": "https://localhost:8080/",
          "height": 317
        },
        "outputId": "d5a34d13-7084-4bff-e431-05b20f1859ef"
      },
      "source": [
        "df.melt(id_vars = 'person', var_name = 'expenditure', value_name = 'expense')"
      ],
      "execution_count": 163,
      "outputs": [
        {
          "output_type": "execute_result",
          "data": {
            "text/html": [
              "<div>\n",
              "<style scoped>\n",
              "    .dataframe tbody tr th:only-of-type {\n",
              "        vertical-align: middle;\n",
              "    }\n",
              "\n",
              "    .dataframe tbody tr th {\n",
              "        vertical-align: top;\n",
              "    }\n",
              "\n",
              "    .dataframe thead th {\n",
              "        text-align: right;\n",
              "    }\n",
              "</style>\n",
              "<table border=\"1\" class=\"dataframe\">\n",
              "  <thead>\n",
              "    <tr style=\"text-align: left;\">\n",
              "      <th></th>\n",
              "      <th>person</th>\n",
              "      <th>expenditure</th>\n",
              "      <th>expense</th>\n",
              "    </tr>\n",
              "  </thead>\n",
              "  <tbody>\n",
              "    <tr>\n",
              "      <th>0</th>\n",
              "      <td>1</td>\n",
              "      <td>clothes</td>\n",
              "      <td>346</td>\n",
              "    </tr>\n",
              "    <tr>\n",
              "      <th>1</th>\n",
              "      <td>2</td>\n",
              "      <td>clothes</td>\n",
              "      <td>687</td>\n",
              "    </tr>\n",
              "    <tr>\n",
              "      <th>2</th>\n",
              "      <td>3</td>\n",
              "      <td>clothes</td>\n",
              "      <td>219</td>\n",
              "    </tr>\n",
              "    <tr>\n",
              "      <th>3</th>\n",
              "      <td>1</td>\n",
              "      <td>food</td>\n",
              "      <td>3540</td>\n",
              "    </tr>\n",
              "    <tr>\n",
              "      <th>4</th>\n",
              "      <td>2</td>\n",
              "      <td>food</td>\n",
              "      <td>8740</td>\n",
              "    </tr>\n",
              "    <tr>\n",
              "      <th>5</th>\n",
              "      <td>3</td>\n",
              "      <td>food</td>\n",
              "      <td>6502</td>\n",
              "    </tr>\n",
              "    <tr>\n",
              "      <th>6</th>\n",
              "      <td>1</td>\n",
              "      <td>travel</td>\n",
              "      <td>198</td>\n",
              "    </tr>\n",
              "    <tr>\n",
              "      <th>7</th>\n",
              "      <td>2</td>\n",
              "      <td>travel</td>\n",
              "      <td>216</td>\n",
              "    </tr>\n",
              "    <tr>\n",
              "      <th>8</th>\n",
              "      <td>3</td>\n",
              "      <td>travel</td>\n",
              "      <td>354</td>\n",
              "    </tr>\n",
              "  </tbody>\n",
              "</table>\n",
              "</div>"
            ],
            "text/plain": [
              "   person expenditure  expense\n",
              "0  1       clothes      346   \n",
              "1  2       clothes      687   \n",
              "2  3       clothes      219   \n",
              "3  1          food     3540   \n",
              "4  2          food     8740   \n",
              "5  3          food     6502   \n",
              "6  1        travel      198   \n",
              "7  2        travel      216   \n",
              "8  3        travel      354   "
            ]
          },
          "metadata": {
            "tags": []
          },
          "execution_count": 163
        }
      ]
    },
    {
      "cell_type": "markdown",
      "metadata": {
        "id": "odYCrflZ1HcK",
        "colab_type": "text"
      },
      "source": [
        "# Counting words in a variable"
      ]
    },
    {
      "cell_type": "code",
      "metadata": {
        "id": "423HoaiE1HcK",
        "colab_type": "code",
        "colab": {
          "base_uri": "https://localhost:8080/",
          "height": 197
        },
        "outputId": "7fb22d96-4bf9-4be2-d524-d2c5ce393532"
      },
      "source": [
        "titanic['name_words'] = titanic['name'].str.count(' ') + 1\n",
        "titanic[['name','name_words']].head()"
      ],
      "execution_count": 164,
      "outputs": [
        {
          "output_type": "execute_result",
          "data": {
            "text/html": [
              "<div>\n",
              "<style scoped>\n",
              "    .dataframe tbody tr th:only-of-type {\n",
              "        vertical-align: middle;\n",
              "    }\n",
              "\n",
              "    .dataframe tbody tr th {\n",
              "        vertical-align: top;\n",
              "    }\n",
              "\n",
              "    .dataframe thead th {\n",
              "        text-align: right;\n",
              "    }\n",
              "</style>\n",
              "<table border=\"1\" class=\"dataframe\">\n",
              "  <thead>\n",
              "    <tr style=\"text-align: left;\">\n",
              "      <th></th>\n",
              "      <th>name</th>\n",
              "      <th>name_words</th>\n",
              "    </tr>\n",
              "  </thead>\n",
              "  <tbody>\n",
              "    <tr>\n",
              "      <th>0</th>\n",
              "      <td>Braund, Mr. Owen Harris</td>\n",
              "      <td>4</td>\n",
              "    </tr>\n",
              "    <tr>\n",
              "      <th>1</th>\n",
              "      <td>Cumings, Mrs. John Bradley (Florence Briggs Th...</td>\n",
              "      <td>7</td>\n",
              "    </tr>\n",
              "    <tr>\n",
              "      <th>2</th>\n",
              "      <td>Heikkinen, Miss. Laina</td>\n",
              "      <td>3</td>\n",
              "    </tr>\n",
              "    <tr>\n",
              "      <th>3</th>\n",
              "      <td>Futrelle, Mrs. Jacques Heath (Lily May Peel)</td>\n",
              "      <td>7</td>\n",
              "    </tr>\n",
              "    <tr>\n",
              "      <th>4</th>\n",
              "      <td>Allen, Mr. William Henry</td>\n",
              "      <td>4</td>\n",
              "    </tr>\n",
              "  </tbody>\n",
              "</table>\n",
              "</div>"
            ],
            "text/plain": [
              "  name                                                name_words\n",
              "0                            Braund, Mr. Owen Harris  4         \n",
              "1  Cumings, Mrs. John Bradley (Florence Briggs Th...  7         \n",
              "2                             Heikkinen, Miss. Laina  3         \n",
              "3       Futrelle, Mrs. Jacques Heath (Lily May Peel)  7         \n",
              "4                           Allen, Mr. William Henry  4         "
            ]
          },
          "metadata": {
            "tags": []
          },
          "execution_count": 164
        }
      ]
    },
    {
      "cell_type": "markdown",
      "metadata": {
        "id": "tSmdHgtb1HcM",
        "colab_type": "text"
      },
      "source": [
        "# Pivot Tables (Single Variable, Single Aggregate Function)"
      ]
    },
    {
      "cell_type": "code",
      "metadata": {
        "id": "PS7xPXKw1HcM",
        "colab_type": "code",
        "colab": {
          "base_uri": "https://localhost:8080/",
          "height": 167
        },
        "outputId": "06997e09-698a-441a-e30e-76b4e34c02b3"
      },
      "source": [
        "alcohol.pivot_table(columns = 'continent')"
      ],
      "execution_count": 165,
      "outputs": [
        {
          "output_type": "execute_result",
          "data": {
            "text/html": [
              "<div>\n",
              "<style scoped>\n",
              "    .dataframe tbody tr th:only-of-type {\n",
              "        vertical-align: middle;\n",
              "    }\n",
              "\n",
              "    .dataframe tbody tr th {\n",
              "        vertical-align: top;\n",
              "    }\n",
              "\n",
              "    .dataframe thead th {\n",
              "        text-align: right;\n",
              "    }\n",
              "</style>\n",
              "<table border=\"1\" class=\"dataframe\">\n",
              "  <thead>\n",
              "    <tr style=\"text-align: left;\">\n",
              "      <th>continent</th>\n",
              "      <th>AF</th>\n",
              "      <th>AS</th>\n",
              "      <th>EU</th>\n",
              "      <th>OC</th>\n",
              "      <th>SA</th>\n",
              "    </tr>\n",
              "  </thead>\n",
              "  <tbody>\n",
              "    <tr>\n",
              "      <th>beer_servings</th>\n",
              "      <td>61.47</td>\n",
              "      <td>37.05</td>\n",
              "      <td>193.78</td>\n",
              "      <td>89.69</td>\n",
              "      <td>175.08</td>\n",
              "    </tr>\n",
              "    <tr>\n",
              "      <th>spirit_servings</th>\n",
              "      <td>16.34</td>\n",
              "      <td>60.84</td>\n",
              "      <td>132.56</td>\n",
              "      <td>58.44</td>\n",
              "      <td>114.75</td>\n",
              "    </tr>\n",
              "    <tr>\n",
              "      <th>total_litres_of_pure_alcohol</th>\n",
              "      <td>3.01</td>\n",
              "      <td>2.17</td>\n",
              "      <td>8.62</td>\n",
              "      <td>3.38</td>\n",
              "      <td>6.31</td>\n",
              "    </tr>\n",
              "    <tr>\n",
              "      <th>wine_servings</th>\n",
              "      <td>16.26</td>\n",
              "      <td>9.07</td>\n",
              "      <td>142.22</td>\n",
              "      <td>35.62</td>\n",
              "      <td>62.42</td>\n",
              "    </tr>\n",
              "  </tbody>\n",
              "</table>\n",
              "</div>"
            ],
            "text/plain": [
              "continent                     AF    AS    EU     OC    SA   \n",
              "beer_servings                61.47 37.05 193.78 89.69 175.08\n",
              "spirit_servings              16.34 60.84 132.56 58.44 114.75\n",
              "total_litres_of_pure_alcohol  3.01  2.17   8.62  3.38   6.31\n",
              "wine_servings                16.26  9.07 142.22 35.62  62.42"
            ]
          },
          "metadata": {
            "tags": []
          },
          "execution_count": 165
        }
      ]
    },
    {
      "cell_type": "markdown",
      "metadata": {
        "id": "D6pdpoaX1HcN",
        "colab_type": "text"
      },
      "source": [
        "The default aggregate function of Pivot Tables is **Mean**"
      ]
    },
    {
      "cell_type": "code",
      "metadata": {
        "scrolled": true,
        "id": "YBw2MYyh1HcN",
        "colab_type": "code",
        "colab": {
          "base_uri": "https://localhost:8080/",
          "height": 167
        },
        "outputId": "3283fdb6-99fc-4b42-8dc3-4e1e45cd3f38"
      },
      "source": [
        "alcohol.pivot_table(columns = 'continent', aggfunc = 'mean')"
      ],
      "execution_count": 166,
      "outputs": [
        {
          "output_type": "execute_result",
          "data": {
            "text/html": [
              "<div>\n",
              "<style scoped>\n",
              "    .dataframe tbody tr th:only-of-type {\n",
              "        vertical-align: middle;\n",
              "    }\n",
              "\n",
              "    .dataframe tbody tr th {\n",
              "        vertical-align: top;\n",
              "    }\n",
              "\n",
              "    .dataframe thead th {\n",
              "        text-align: right;\n",
              "    }\n",
              "</style>\n",
              "<table border=\"1\" class=\"dataframe\">\n",
              "  <thead>\n",
              "    <tr style=\"text-align: left;\">\n",
              "      <th>continent</th>\n",
              "      <th>AF</th>\n",
              "      <th>AS</th>\n",
              "      <th>EU</th>\n",
              "      <th>OC</th>\n",
              "      <th>SA</th>\n",
              "    </tr>\n",
              "  </thead>\n",
              "  <tbody>\n",
              "    <tr>\n",
              "      <th>beer_servings</th>\n",
              "      <td>61.47</td>\n",
              "      <td>37.05</td>\n",
              "      <td>193.78</td>\n",
              "      <td>89.69</td>\n",
              "      <td>175.08</td>\n",
              "    </tr>\n",
              "    <tr>\n",
              "      <th>spirit_servings</th>\n",
              "      <td>16.34</td>\n",
              "      <td>60.84</td>\n",
              "      <td>132.56</td>\n",
              "      <td>58.44</td>\n",
              "      <td>114.75</td>\n",
              "    </tr>\n",
              "    <tr>\n",
              "      <th>total_litres_of_pure_alcohol</th>\n",
              "      <td>3.01</td>\n",
              "      <td>2.17</td>\n",
              "      <td>8.62</td>\n",
              "      <td>3.38</td>\n",
              "      <td>6.31</td>\n",
              "    </tr>\n",
              "    <tr>\n",
              "      <th>wine_servings</th>\n",
              "      <td>16.26</td>\n",
              "      <td>9.07</td>\n",
              "      <td>142.22</td>\n",
              "      <td>35.62</td>\n",
              "      <td>62.42</td>\n",
              "    </tr>\n",
              "  </tbody>\n",
              "</table>\n",
              "</div>"
            ],
            "text/plain": [
              "continent                     AF    AS    EU     OC    SA   \n",
              "beer_servings                61.47 37.05 193.78 89.69 175.08\n",
              "spirit_servings              16.34 60.84 132.56 58.44 114.75\n",
              "total_litres_of_pure_alcohol  3.01  2.17   8.62  3.38   6.31\n",
              "wine_servings                16.26  9.07 142.22 35.62  62.42"
            ]
          },
          "metadata": {
            "tags": []
          },
          "execution_count": 166
        }
      ]
    },
    {
      "cell_type": "code",
      "metadata": {
        "id": "cC7O6YuZ1HcO",
        "colab_type": "code",
        "colab": {
          "base_uri": "https://localhost:8080/",
          "height": 227
        },
        "outputId": "c960d166-4c6d-4027-f6c9-be8e0b840ad6"
      },
      "source": [
        "alcohol.pivot_table(index = 'continent', aggfunc = 'sum')"
      ],
      "execution_count": 167,
      "outputs": [
        {
          "output_type": "execute_result",
          "data": {
            "text/html": [
              "<div>\n",
              "<style scoped>\n",
              "    .dataframe tbody tr th:only-of-type {\n",
              "        vertical-align: middle;\n",
              "    }\n",
              "\n",
              "    .dataframe tbody tr th {\n",
              "        vertical-align: top;\n",
              "    }\n",
              "\n",
              "    .dataframe thead th {\n",
              "        text-align: right;\n",
              "    }\n",
              "</style>\n",
              "<table border=\"1\" class=\"dataframe\">\n",
              "  <thead>\n",
              "    <tr style=\"text-align: left;\">\n",
              "      <th></th>\n",
              "      <th>beer_servings</th>\n",
              "      <th>spirit_servings</th>\n",
              "      <th>total_litres_of_pure_alcohol</th>\n",
              "      <th>wine_servings</th>\n",
              "    </tr>\n",
              "    <tr>\n",
              "      <th>continent</th>\n",
              "      <th></th>\n",
              "      <th></th>\n",
              "      <th></th>\n",
              "      <th></th>\n",
              "    </tr>\n",
              "  </thead>\n",
              "  <tbody>\n",
              "    <tr>\n",
              "      <th>AF</th>\n",
              "      <td>3,258.00</td>\n",
              "      <td>866</td>\n",
              "      <td>159.40</td>\n",
              "      <td>862</td>\n",
              "    </tr>\n",
              "    <tr>\n",
              "      <th>AS</th>\n",
              "      <td>1,630.00</td>\n",
              "      <td>2677</td>\n",
              "      <td>95.50</td>\n",
              "      <td>399</td>\n",
              "    </tr>\n",
              "    <tr>\n",
              "      <th>EU</th>\n",
              "      <td>8,720.00</td>\n",
              "      <td>5965</td>\n",
              "      <td>387.80</td>\n",
              "      <td>6400</td>\n",
              "    </tr>\n",
              "    <tr>\n",
              "      <th>OC</th>\n",
              "      <td>1,435.00</td>\n",
              "      <td>935</td>\n",
              "      <td>54.10</td>\n",
              "      <td>570</td>\n",
              "    </tr>\n",
              "    <tr>\n",
              "      <th>SA</th>\n",
              "      <td>2,101.00</td>\n",
              "      <td>1377</td>\n",
              "      <td>75.70</td>\n",
              "      <td>749</td>\n",
              "    </tr>\n",
              "  </tbody>\n",
              "</table>\n",
              "</div>"
            ],
            "text/plain": [
              "           beer_servings  spirit_servings  total_litres_of_pure_alcohol  \\\n",
              "continent                                                                 \n",
              "AF        3,258.00         866            159.40                          \n",
              "AS        1,630.00        2677             95.50                          \n",
              "EU        8,720.00        5965            387.80                          \n",
              "OC        1,435.00         935             54.10                          \n",
              "SA        2,101.00        1377             75.70                          \n",
              "\n",
              "           wine_servings  \n",
              "continent                 \n",
              "AF          862           \n",
              "AS          399           \n",
              "EU         6400           \n",
              "OC          570           \n",
              "SA          749           "
            ]
          },
          "metadata": {
            "tags": []
          },
          "execution_count": 167
        }
      ]
    },
    {
      "cell_type": "code",
      "metadata": {
        "id": "oikCDtzM1HcQ",
        "colab_type": "code",
        "colab": {
          "base_uri": "https://localhost:8080/",
          "height": 197
        },
        "outputId": "f185d6b5-45df-4a4b-add1-25b56c021164"
      },
      "source": [
        "alcohol.pivot_table(index = 'continent', aggfunc = 'sum').reset_index()"
      ],
      "execution_count": 168,
      "outputs": [
        {
          "output_type": "execute_result",
          "data": {
            "text/html": [
              "<div>\n",
              "<style scoped>\n",
              "    .dataframe tbody tr th:only-of-type {\n",
              "        vertical-align: middle;\n",
              "    }\n",
              "\n",
              "    .dataframe tbody tr th {\n",
              "        vertical-align: top;\n",
              "    }\n",
              "\n",
              "    .dataframe thead th {\n",
              "        text-align: right;\n",
              "    }\n",
              "</style>\n",
              "<table border=\"1\" class=\"dataframe\">\n",
              "  <thead>\n",
              "    <tr style=\"text-align: left;\">\n",
              "      <th></th>\n",
              "      <th>continent</th>\n",
              "      <th>beer_servings</th>\n",
              "      <th>spirit_servings</th>\n",
              "      <th>total_litres_of_pure_alcohol</th>\n",
              "      <th>wine_servings</th>\n",
              "    </tr>\n",
              "  </thead>\n",
              "  <tbody>\n",
              "    <tr>\n",
              "      <th>0</th>\n",
              "      <td>AF</td>\n",
              "      <td>3,258.00</td>\n",
              "      <td>866</td>\n",
              "      <td>159.40</td>\n",
              "      <td>862</td>\n",
              "    </tr>\n",
              "    <tr>\n",
              "      <th>1</th>\n",
              "      <td>AS</td>\n",
              "      <td>1,630.00</td>\n",
              "      <td>2677</td>\n",
              "      <td>95.50</td>\n",
              "      <td>399</td>\n",
              "    </tr>\n",
              "    <tr>\n",
              "      <th>2</th>\n",
              "      <td>EU</td>\n",
              "      <td>8,720.00</td>\n",
              "      <td>5965</td>\n",
              "      <td>387.80</td>\n",
              "      <td>6400</td>\n",
              "    </tr>\n",
              "    <tr>\n",
              "      <th>3</th>\n",
              "      <td>OC</td>\n",
              "      <td>1,435.00</td>\n",
              "      <td>935</td>\n",
              "      <td>54.10</td>\n",
              "      <td>570</td>\n",
              "    </tr>\n",
              "    <tr>\n",
              "      <th>4</th>\n",
              "      <td>SA</td>\n",
              "      <td>2,101.00</td>\n",
              "      <td>1377</td>\n",
              "      <td>75.70</td>\n",
              "      <td>749</td>\n",
              "    </tr>\n",
              "  </tbody>\n",
              "</table>\n",
              "</div>"
            ],
            "text/plain": [
              "  continent  beer_servings  spirit_servings  total_litres_of_pure_alcohol  \\\n",
              "0  AF       3,258.00         866            159.40                          \n",
              "1  AS       1,630.00        2677             95.50                          \n",
              "2  EU       8,720.00        5965            387.80                          \n",
              "3  OC       1,435.00         935             54.10                          \n",
              "4  SA       2,101.00        1377             75.70                          \n",
              "\n",
              "   wine_servings  \n",
              "0   862           \n",
              "1   399           \n",
              "2  6400           \n",
              "3   570           \n",
              "4   749           "
            ]
          },
          "metadata": {
            "tags": []
          },
          "execution_count": 168
        }
      ]
    },
    {
      "cell_type": "markdown",
      "metadata": {
        "id": "pqnDf39G1HcR",
        "colab_type": "text"
      },
      "source": [
        "# Pivot Tables (Single Variable, Single Aggregate Function) with Margins"
      ]
    },
    {
      "cell_type": "code",
      "metadata": {
        "scrolled": true,
        "id": "KqlcuDyM1HcS",
        "colab_type": "code",
        "colab": {
          "base_uri": "https://localhost:8080/",
          "height": 257
        },
        "outputId": "485a7108-3db3-4d97-c5f9-628b925f3294"
      },
      "source": [
        "alcohol.pivot_table(index = 'continent', aggfunc = 'sum', margins = True, margins_name = 'Total')"
      ],
      "execution_count": 169,
      "outputs": [
        {
          "output_type": "execute_result",
          "data": {
            "text/html": [
              "<div>\n",
              "<style scoped>\n",
              "    .dataframe tbody tr th:only-of-type {\n",
              "        vertical-align: middle;\n",
              "    }\n",
              "\n",
              "    .dataframe tbody tr th {\n",
              "        vertical-align: top;\n",
              "    }\n",
              "\n",
              "    .dataframe thead th {\n",
              "        text-align: right;\n",
              "    }\n",
              "</style>\n",
              "<table border=\"1\" class=\"dataframe\">\n",
              "  <thead>\n",
              "    <tr style=\"text-align: left;\">\n",
              "      <th></th>\n",
              "      <th>beer_servings</th>\n",
              "      <th>spirit_servings</th>\n",
              "      <th>total_litres_of_pure_alcohol</th>\n",
              "      <th>wine_servings</th>\n",
              "    </tr>\n",
              "    <tr>\n",
              "      <th>continent</th>\n",
              "      <th></th>\n",
              "      <th></th>\n",
              "      <th></th>\n",
              "      <th></th>\n",
              "    </tr>\n",
              "  </thead>\n",
              "  <tbody>\n",
              "    <tr>\n",
              "      <th>AF</th>\n",
              "      <td>3,258.00</td>\n",
              "      <td>866</td>\n",
              "      <td>159.40</td>\n",
              "      <td>862</td>\n",
              "    </tr>\n",
              "    <tr>\n",
              "      <th>AS</th>\n",
              "      <td>1,630.00</td>\n",
              "      <td>2677</td>\n",
              "      <td>95.50</td>\n",
              "      <td>399</td>\n",
              "    </tr>\n",
              "    <tr>\n",
              "      <th>EU</th>\n",
              "      <td>8,720.00</td>\n",
              "      <td>5965</td>\n",
              "      <td>387.80</td>\n",
              "      <td>6400</td>\n",
              "    </tr>\n",
              "    <tr>\n",
              "      <th>OC</th>\n",
              "      <td>1,435.00</td>\n",
              "      <td>935</td>\n",
              "      <td>54.10</td>\n",
              "      <td>570</td>\n",
              "    </tr>\n",
              "    <tr>\n",
              "      <th>SA</th>\n",
              "      <td>2,101.00</td>\n",
              "      <td>1377</td>\n",
              "      <td>75.70</td>\n",
              "      <td>749</td>\n",
              "    </tr>\n",
              "    <tr>\n",
              "      <th>Total</th>\n",
              "      <td>17,144.00</td>\n",
              "      <td>11820</td>\n",
              "      <td>772.50</td>\n",
              "      <td>8980</td>\n",
              "    </tr>\n",
              "  </tbody>\n",
              "</table>\n",
              "</div>"
            ],
            "text/plain": [
              "           beer_servings  spirit_servings  total_litres_of_pure_alcohol  \\\n",
              "continent                                                                 \n",
              "AF         3,258.00         866           159.40                          \n",
              "AS         1,630.00        2677            95.50                          \n",
              "EU         8,720.00        5965           387.80                          \n",
              "OC         1,435.00         935            54.10                          \n",
              "SA         2,101.00        1377            75.70                          \n",
              "Total     17,144.00       11820           772.50                          \n",
              "\n",
              "           wine_servings  \n",
              "continent                 \n",
              "AF          862           \n",
              "AS          399           \n",
              "EU         6400           \n",
              "OC          570           \n",
              "SA          749           \n",
              "Total      8980           "
            ]
          },
          "metadata": {
            "tags": []
          },
          "execution_count": 169
        }
      ]
    },
    {
      "cell_type": "markdown",
      "metadata": {
        "id": "IVIHEG2X1HcT",
        "colab_type": "text"
      },
      "source": [
        "# Pivot Tables (Single Variable, Multiple Aggregate Functions)"
      ]
    },
    {
      "cell_type": "code",
      "metadata": {
        "id": "hRCm5D_M1HcU",
        "colab_type": "code",
        "colab": {
          "base_uri": "https://localhost:8080/",
          "height": 197
        },
        "outputId": "05574495-bf91-4030-e44d-910f38eab7f8"
      },
      "source": [
        "alcohol.pivot_table(columns = 'continent', aggfunc = ['mean','sum'])"
      ],
      "execution_count": 170,
      "outputs": [
        {
          "output_type": "execute_result",
          "data": {
            "text/html": [
              "<div>\n",
              "<style scoped>\n",
              "    .dataframe tbody tr th:only-of-type {\n",
              "        vertical-align: middle;\n",
              "    }\n",
              "\n",
              "    .dataframe tbody tr th {\n",
              "        vertical-align: top;\n",
              "    }\n",
              "\n",
              "    .dataframe thead tr th {\n",
              "        text-align: left;\n",
              "    }\n",
              "</style>\n",
              "<table border=\"1\" class=\"dataframe\">\n",
              "  <thead>\n",
              "    <tr>\n",
              "      <th></th>\n",
              "      <th colspan=\"5\" halign=\"left\">mean</th>\n",
              "      <th colspan=\"5\" halign=\"left\">sum</th>\n",
              "    </tr>\n",
              "    <tr>\n",
              "      <th>continent</th>\n",
              "      <th>AF</th>\n",
              "      <th>AS</th>\n",
              "      <th>EU</th>\n",
              "      <th>OC</th>\n",
              "      <th>SA</th>\n",
              "      <th>AF</th>\n",
              "      <th>AS</th>\n",
              "      <th>EU</th>\n",
              "      <th>OC</th>\n",
              "      <th>SA</th>\n",
              "    </tr>\n",
              "  </thead>\n",
              "  <tbody>\n",
              "    <tr>\n",
              "      <th>beer_servings</th>\n",
              "      <td>61.47</td>\n",
              "      <td>37.05</td>\n",
              "      <td>193.78</td>\n",
              "      <td>89.69</td>\n",
              "      <td>175.08</td>\n",
              "      <td>3,258.00</td>\n",
              "      <td>1,630.00</td>\n",
              "      <td>8,720.00</td>\n",
              "      <td>1,435.00</td>\n",
              "      <td>2,101.00</td>\n",
              "    </tr>\n",
              "    <tr>\n",
              "      <th>spirit_servings</th>\n",
              "      <td>16.34</td>\n",
              "      <td>60.84</td>\n",
              "      <td>132.56</td>\n",
              "      <td>58.44</td>\n",
              "      <td>114.75</td>\n",
              "      <td>866.00</td>\n",
              "      <td>2,677.00</td>\n",
              "      <td>5,965.00</td>\n",
              "      <td>935.00</td>\n",
              "      <td>1,377.00</td>\n",
              "    </tr>\n",
              "    <tr>\n",
              "      <th>total_litres_of_pure_alcohol</th>\n",
              "      <td>3.01</td>\n",
              "      <td>2.17</td>\n",
              "      <td>8.62</td>\n",
              "      <td>3.38</td>\n",
              "      <td>6.31</td>\n",
              "      <td>159.40</td>\n",
              "      <td>95.50</td>\n",
              "      <td>387.80</td>\n",
              "      <td>54.10</td>\n",
              "      <td>75.70</td>\n",
              "    </tr>\n",
              "    <tr>\n",
              "      <th>wine_servings</th>\n",
              "      <td>16.26</td>\n",
              "      <td>9.07</td>\n",
              "      <td>142.22</td>\n",
              "      <td>35.62</td>\n",
              "      <td>62.42</td>\n",
              "      <td>862.00</td>\n",
              "      <td>399.00</td>\n",
              "      <td>6,400.00</td>\n",
              "      <td>570.00</td>\n",
              "      <td>749.00</td>\n",
              "    </tr>\n",
              "  </tbody>\n",
              "</table>\n",
              "</div>"
            ],
            "text/plain": [
              "                             mean                            sum       \\\n",
              "continent                    AF    AS    EU     OC    SA     AF         \n",
              "beer_servings                61.47 37.05 193.78 89.69 175.08 3,258.00   \n",
              "spirit_servings              16.34 60.84 132.56 58.44 114.75   866.00   \n",
              "total_litres_of_pure_alcohol  3.01  2.17   8.62  3.38   6.31   159.40   \n",
              "wine_servings                16.26  9.07 142.22 35.62  62.42   862.00   \n",
              "\n",
              "                                                                  \n",
              "continent                    AS       EU       OC       SA        \n",
              "beer_servings                1,630.00 8,720.00 1,435.00 2,101.00  \n",
              "spirit_servings              2,677.00 5,965.00   935.00 1,377.00  \n",
              "total_litres_of_pure_alcohol    95.50   387.80    54.10    75.70  \n",
              "wine_servings                  399.00 6,400.00   570.00   749.00  "
            ]
          },
          "metadata": {
            "tags": []
          },
          "execution_count": 170
        }
      ]
    },
    {
      "cell_type": "markdown",
      "metadata": {
        "id": "jZzkjtlY1HcX",
        "colab_type": "text"
      },
      "source": [
        "# Group By (Single Variable, Single Aggregate Function)"
      ]
    },
    {
      "cell_type": "code",
      "metadata": {
        "id": "NmFttf0W1HcY",
        "colab_type": "code",
        "colab": {
          "base_uri": "https://localhost:8080/",
          "height": 227
        },
        "outputId": "73a8a642-5201-44a8-c5c2-051ee3ba5cf4"
      },
      "source": [
        "alcohol.groupby(by = 'continent').agg({'beer_servings':'mean'})"
      ],
      "execution_count": 171,
      "outputs": [
        {
          "output_type": "execute_result",
          "data": {
            "text/html": [
              "<div>\n",
              "<style scoped>\n",
              "    .dataframe tbody tr th:only-of-type {\n",
              "        vertical-align: middle;\n",
              "    }\n",
              "\n",
              "    .dataframe tbody tr th {\n",
              "        vertical-align: top;\n",
              "    }\n",
              "\n",
              "    .dataframe thead th {\n",
              "        text-align: right;\n",
              "    }\n",
              "</style>\n",
              "<table border=\"1\" class=\"dataframe\">\n",
              "  <thead>\n",
              "    <tr style=\"text-align: left;\">\n",
              "      <th></th>\n",
              "      <th>beer_servings</th>\n",
              "    </tr>\n",
              "    <tr>\n",
              "      <th>continent</th>\n",
              "      <th></th>\n",
              "    </tr>\n",
              "  </thead>\n",
              "  <tbody>\n",
              "    <tr>\n",
              "      <th>AF</th>\n",
              "      <td>61.47</td>\n",
              "    </tr>\n",
              "    <tr>\n",
              "      <th>AS</th>\n",
              "      <td>37.05</td>\n",
              "    </tr>\n",
              "    <tr>\n",
              "      <th>EU</th>\n",
              "      <td>193.78</td>\n",
              "    </tr>\n",
              "    <tr>\n",
              "      <th>OC</th>\n",
              "      <td>89.69</td>\n",
              "    </tr>\n",
              "    <tr>\n",
              "      <th>SA</th>\n",
              "      <td>175.08</td>\n",
              "    </tr>\n",
              "  </tbody>\n",
              "</table>\n",
              "</div>"
            ],
            "text/plain": [
              "           beer_servings\n",
              "continent               \n",
              "AF         61.47        \n",
              "AS         37.05        \n",
              "EU        193.78        \n",
              "OC         89.69        \n",
              "SA        175.08        "
            ]
          },
          "metadata": {
            "tags": []
          },
          "execution_count": 171
        }
      ]
    },
    {
      "cell_type": "markdown",
      "metadata": {
        "id": "WvYxP13q1Hca",
        "colab_type": "text"
      },
      "source": [
        "This above groupby command creats Multi-level Index. Also, the variable names created are uninformative."
      ]
    },
    {
      "cell_type": "markdown",
      "metadata": {
        "id": "K70x6Yg91Hcb",
        "colab_type": "text"
      },
      "source": [
        "# Group By (Single Variable, Single Aggregate Function) with Informative Names"
      ]
    },
    {
      "cell_type": "code",
      "metadata": {
        "scrolled": true,
        "id": "1r5OYLpL1Hcc",
        "colab_type": "code",
        "colab": {
          "base_uri": "https://localhost:8080/",
          "height": 227
        },
        "outputId": "942358a7-5565-4a05-83e3-1c4f21589290"
      },
      "source": [
        "alcohol.groupby(by = 'continent').beer_servings.agg(avg_beer_serving = 'mean')"
      ],
      "execution_count": 172,
      "outputs": [
        {
          "output_type": "execute_result",
          "data": {
            "text/html": [
              "<div>\n",
              "<style scoped>\n",
              "    .dataframe tbody tr th:only-of-type {\n",
              "        vertical-align: middle;\n",
              "    }\n",
              "\n",
              "    .dataframe tbody tr th {\n",
              "        vertical-align: top;\n",
              "    }\n",
              "\n",
              "    .dataframe thead th {\n",
              "        text-align: right;\n",
              "    }\n",
              "</style>\n",
              "<table border=\"1\" class=\"dataframe\">\n",
              "  <thead>\n",
              "    <tr style=\"text-align: left;\">\n",
              "      <th></th>\n",
              "      <th>avg_beer_serving</th>\n",
              "    </tr>\n",
              "    <tr>\n",
              "      <th>continent</th>\n",
              "      <th></th>\n",
              "    </tr>\n",
              "  </thead>\n",
              "  <tbody>\n",
              "    <tr>\n",
              "      <th>AF</th>\n",
              "      <td>61.47</td>\n",
              "    </tr>\n",
              "    <tr>\n",
              "      <th>AS</th>\n",
              "      <td>37.05</td>\n",
              "    </tr>\n",
              "    <tr>\n",
              "      <th>EU</th>\n",
              "      <td>193.78</td>\n",
              "    </tr>\n",
              "    <tr>\n",
              "      <th>OC</th>\n",
              "      <td>89.69</td>\n",
              "    </tr>\n",
              "    <tr>\n",
              "      <th>SA</th>\n",
              "      <td>175.08</td>\n",
              "    </tr>\n",
              "  </tbody>\n",
              "</table>\n",
              "</div>"
            ],
            "text/plain": [
              "           avg_beer_serving\n",
              "continent                  \n",
              "AF         61.47           \n",
              "AS         37.05           \n",
              "EU        193.78           \n",
              "OC         89.69           \n",
              "SA        175.08           "
            ]
          },
          "metadata": {
            "tags": []
          },
          "execution_count": 172
        }
      ]
    },
    {
      "cell_type": "markdown",
      "metadata": {
        "id": "fnlZSwcM1Hce",
        "colab_type": "text"
      },
      "source": [
        "To avoid the Muli-level Index, one can use the Index Resetting command."
      ]
    },
    {
      "cell_type": "code",
      "metadata": {
        "id": "LnRd8cug1Hcf",
        "colab_type": "code",
        "colab": {
          "base_uri": "https://localhost:8080/",
          "height": 197
        },
        "outputId": "69d6a53c-2507-4ceb-8668-16ddd8d18ac9"
      },
      "source": [
        "alcohol.groupby(by = 'continent').beer_servings.agg(avg_beer_serving = 'mean').reset_index()"
      ],
      "execution_count": 173,
      "outputs": [
        {
          "output_type": "execute_result",
          "data": {
            "text/html": [
              "<div>\n",
              "<style scoped>\n",
              "    .dataframe tbody tr th:only-of-type {\n",
              "        vertical-align: middle;\n",
              "    }\n",
              "\n",
              "    .dataframe tbody tr th {\n",
              "        vertical-align: top;\n",
              "    }\n",
              "\n",
              "    .dataframe thead th {\n",
              "        text-align: right;\n",
              "    }\n",
              "</style>\n",
              "<table border=\"1\" class=\"dataframe\">\n",
              "  <thead>\n",
              "    <tr style=\"text-align: left;\">\n",
              "      <th></th>\n",
              "      <th>continent</th>\n",
              "      <th>avg_beer_serving</th>\n",
              "    </tr>\n",
              "  </thead>\n",
              "  <tbody>\n",
              "    <tr>\n",
              "      <th>0</th>\n",
              "      <td>AF</td>\n",
              "      <td>61.47</td>\n",
              "    </tr>\n",
              "    <tr>\n",
              "      <th>1</th>\n",
              "      <td>AS</td>\n",
              "      <td>37.05</td>\n",
              "    </tr>\n",
              "    <tr>\n",
              "      <th>2</th>\n",
              "      <td>EU</td>\n",
              "      <td>193.78</td>\n",
              "    </tr>\n",
              "    <tr>\n",
              "      <th>3</th>\n",
              "      <td>OC</td>\n",
              "      <td>89.69</td>\n",
              "    </tr>\n",
              "    <tr>\n",
              "      <th>4</th>\n",
              "      <td>SA</td>\n",
              "      <td>175.08</td>\n",
              "    </tr>\n",
              "  </tbody>\n",
              "</table>\n",
              "</div>"
            ],
            "text/plain": [
              "  continent  avg_beer_serving\n",
              "0  AF        61.47           \n",
              "1  AS        37.05           \n",
              "2  EU       193.78           \n",
              "3  OC        89.69           \n",
              "4  SA       175.08           "
            ]
          },
          "metadata": {
            "tags": []
          },
          "execution_count": 173
        }
      ]
    },
    {
      "cell_type": "markdown",
      "metadata": {
        "id": "u5dEK6Tq1Hci",
        "colab_type": "text"
      },
      "source": [
        "# Group By (Single Variables, Multiple Aggregate Function)"
      ]
    },
    {
      "cell_type": "code",
      "metadata": {
        "scrolled": true,
        "id": "cc3o9zAx1Hci",
        "colab_type": "code",
        "colab": {
          "base_uri": "https://localhost:8080/",
          "height": 257
        },
        "outputId": "17bcc1a7-812f-4a7d-e921-803e1922dcd7"
      },
      "source": [
        "alcohol.groupby(by = 'continent').agg({'beer_servings':['sum','mean']})"
      ],
      "execution_count": 174,
      "outputs": [
        {
          "output_type": "execute_result",
          "data": {
            "text/html": [
              "<div>\n",
              "<style scoped>\n",
              "    .dataframe tbody tr th:only-of-type {\n",
              "        vertical-align: middle;\n",
              "    }\n",
              "\n",
              "    .dataframe tbody tr th {\n",
              "        vertical-align: top;\n",
              "    }\n",
              "\n",
              "    .dataframe thead tr th {\n",
              "        text-align: left;\n",
              "    }\n",
              "\n",
              "    .dataframe thead tr:last-of-type th {\n",
              "        text-align: right;\n",
              "    }\n",
              "</style>\n",
              "<table border=\"1\" class=\"dataframe\">\n",
              "  <thead>\n",
              "    <tr>\n",
              "      <th></th>\n",
              "      <th colspan=\"2\" halign=\"left\">beer_servings</th>\n",
              "    </tr>\n",
              "    <tr>\n",
              "      <th></th>\n",
              "      <th>sum</th>\n",
              "      <th>mean</th>\n",
              "    </tr>\n",
              "    <tr>\n",
              "      <th>continent</th>\n",
              "      <th></th>\n",
              "      <th></th>\n",
              "    </tr>\n",
              "  </thead>\n",
              "  <tbody>\n",
              "    <tr>\n",
              "      <th>AF</th>\n",
              "      <td>3,258.00</td>\n",
              "      <td>61.47</td>\n",
              "    </tr>\n",
              "    <tr>\n",
              "      <th>AS</th>\n",
              "      <td>1,630.00</td>\n",
              "      <td>37.05</td>\n",
              "    </tr>\n",
              "    <tr>\n",
              "      <th>EU</th>\n",
              "      <td>8,720.00</td>\n",
              "      <td>193.78</td>\n",
              "    </tr>\n",
              "    <tr>\n",
              "      <th>OC</th>\n",
              "      <td>1,435.00</td>\n",
              "      <td>89.69</td>\n",
              "    </tr>\n",
              "    <tr>\n",
              "      <th>SA</th>\n",
              "      <td>2,101.00</td>\n",
              "      <td>175.08</td>\n",
              "    </tr>\n",
              "  </tbody>\n",
              "</table>\n",
              "</div>"
            ],
            "text/plain": [
              "          beer_servings       \n",
              "          sum           mean  \n",
              "continent                     \n",
              "AF        3,258.00       61.47\n",
              "AS        1,630.00       37.05\n",
              "EU        8,720.00      193.78\n",
              "OC        1,435.00       89.69\n",
              "SA        2,101.00      175.08"
            ]
          },
          "metadata": {
            "tags": []
          },
          "execution_count": 174
        }
      ]
    },
    {
      "cell_type": "code",
      "metadata": {
        "id": "_waX7IA61Hcj",
        "colab_type": "code",
        "colab": {
          "base_uri": "https://localhost:8080/",
          "height": 227
        },
        "outputId": "d1e1b451-2811-4cb7-d0eb-9b75f1a2d981"
      },
      "source": [
        "alcohol.groupby(by = 'continent').agg({'beer_servings':['sum','mean']}).reset_index()"
      ],
      "execution_count": 175,
      "outputs": [
        {
          "output_type": "execute_result",
          "data": {
            "text/html": [
              "<div>\n",
              "<style scoped>\n",
              "    .dataframe tbody tr th:only-of-type {\n",
              "        vertical-align: middle;\n",
              "    }\n",
              "\n",
              "    .dataframe tbody tr th {\n",
              "        vertical-align: top;\n",
              "    }\n",
              "\n",
              "    .dataframe thead tr th {\n",
              "        text-align: left;\n",
              "    }\n",
              "</style>\n",
              "<table border=\"1\" class=\"dataframe\">\n",
              "  <thead>\n",
              "    <tr>\n",
              "      <th></th>\n",
              "      <th>continent</th>\n",
              "      <th colspan=\"2\" halign=\"left\">beer_servings</th>\n",
              "    </tr>\n",
              "    <tr>\n",
              "      <th></th>\n",
              "      <th></th>\n",
              "      <th>sum</th>\n",
              "      <th>mean</th>\n",
              "    </tr>\n",
              "  </thead>\n",
              "  <tbody>\n",
              "    <tr>\n",
              "      <th>0</th>\n",
              "      <td>AF</td>\n",
              "      <td>3,258.00</td>\n",
              "      <td>61.47</td>\n",
              "    </tr>\n",
              "    <tr>\n",
              "      <th>1</th>\n",
              "      <td>AS</td>\n",
              "      <td>1,630.00</td>\n",
              "      <td>37.05</td>\n",
              "    </tr>\n",
              "    <tr>\n",
              "      <th>2</th>\n",
              "      <td>EU</td>\n",
              "      <td>8,720.00</td>\n",
              "      <td>193.78</td>\n",
              "    </tr>\n",
              "    <tr>\n",
              "      <th>3</th>\n",
              "      <td>OC</td>\n",
              "      <td>1,435.00</td>\n",
              "      <td>89.69</td>\n",
              "    </tr>\n",
              "    <tr>\n",
              "      <th>4</th>\n",
              "      <td>SA</td>\n",
              "      <td>2,101.00</td>\n",
              "      <td>175.08</td>\n",
              "    </tr>\n",
              "  </tbody>\n",
              "</table>\n",
              "</div>"
            ],
            "text/plain": [
              "  continent beer_servings       \n",
              "            sum           mean  \n",
              "0  AF       3,258.00       61.47\n",
              "1  AS       1,630.00       37.05\n",
              "2  EU       8,720.00      193.78\n",
              "3  OC       1,435.00       89.69\n",
              "4  SA       2,101.00      175.08"
            ]
          },
          "metadata": {
            "tags": []
          },
          "execution_count": 175
        }
      ]
    },
    {
      "cell_type": "markdown",
      "metadata": {
        "id": "ZJz2XBrY1Hcl",
        "colab_type": "text"
      },
      "source": [
        "For Multiple Aggregate Function Group By command, Index Resetting command cannot handle Multi-level Indexing."
      ]
    },
    {
      "cell_type": "markdown",
      "metadata": {
        "id": "92B0GV8P1Hcl",
        "colab_type": "text"
      },
      "source": [
        "# Group By (Single Variable, Multiple Aggregate Function) with Informative Names"
      ]
    },
    {
      "cell_type": "code",
      "metadata": {
        "id": "77O75WQW1Hcl",
        "colab_type": "code",
        "colab": {
          "base_uri": "https://localhost:8080/",
          "height": 227
        },
        "outputId": "1cdee31b-3c8c-4d4b-943a-7e9a7a39aefb"
      },
      "source": [
        "alcohol.groupby(by = 'continent').beer_servings.agg(total_servings = 'sum', avg_servings = 'mean')"
      ],
      "execution_count": 176,
      "outputs": [
        {
          "output_type": "execute_result",
          "data": {
            "text/html": [
              "<div>\n",
              "<style scoped>\n",
              "    .dataframe tbody tr th:only-of-type {\n",
              "        vertical-align: middle;\n",
              "    }\n",
              "\n",
              "    .dataframe tbody tr th {\n",
              "        vertical-align: top;\n",
              "    }\n",
              "\n",
              "    .dataframe thead th {\n",
              "        text-align: right;\n",
              "    }\n",
              "</style>\n",
              "<table border=\"1\" class=\"dataframe\">\n",
              "  <thead>\n",
              "    <tr style=\"text-align: left;\">\n",
              "      <th></th>\n",
              "      <th>total_servings</th>\n",
              "      <th>avg_servings</th>\n",
              "    </tr>\n",
              "    <tr>\n",
              "      <th>continent</th>\n",
              "      <th></th>\n",
              "      <th></th>\n",
              "    </tr>\n",
              "  </thead>\n",
              "  <tbody>\n",
              "    <tr>\n",
              "      <th>AF</th>\n",
              "      <td>3,258.00</td>\n",
              "      <td>61.47</td>\n",
              "    </tr>\n",
              "    <tr>\n",
              "      <th>AS</th>\n",
              "      <td>1,630.00</td>\n",
              "      <td>37.05</td>\n",
              "    </tr>\n",
              "    <tr>\n",
              "      <th>EU</th>\n",
              "      <td>8,720.00</td>\n",
              "      <td>193.78</td>\n",
              "    </tr>\n",
              "    <tr>\n",
              "      <th>OC</th>\n",
              "      <td>1,435.00</td>\n",
              "      <td>89.69</td>\n",
              "    </tr>\n",
              "    <tr>\n",
              "      <th>SA</th>\n",
              "      <td>2,101.00</td>\n",
              "      <td>175.08</td>\n",
              "    </tr>\n",
              "  </tbody>\n",
              "</table>\n",
              "</div>"
            ],
            "text/plain": [
              "           total_servings  avg_servings\n",
              "continent                              \n",
              "AF        3,258.00         61.47       \n",
              "AS        1,630.00         37.05       \n",
              "EU        8,720.00        193.78       \n",
              "OC        1,435.00         89.69       \n",
              "SA        2,101.00        175.08       "
            ]
          },
          "metadata": {
            "tags": []
          },
          "execution_count": 176
        }
      ]
    },
    {
      "cell_type": "code",
      "metadata": {
        "id": "9DC5vXMl1Hcm",
        "colab_type": "code",
        "colab": {
          "base_uri": "https://localhost:8080/",
          "height": 197
        },
        "outputId": "827b90fb-78b4-4f8e-ddfc-8810a967405e"
      },
      "source": [
        "alcohol.groupby(by = 'continent').beer_servings.agg(total_servings = 'sum', avg_servings = 'mean').reset_index()"
      ],
      "execution_count": 177,
      "outputs": [
        {
          "output_type": "execute_result",
          "data": {
            "text/html": [
              "<div>\n",
              "<style scoped>\n",
              "    .dataframe tbody tr th:only-of-type {\n",
              "        vertical-align: middle;\n",
              "    }\n",
              "\n",
              "    .dataframe tbody tr th {\n",
              "        vertical-align: top;\n",
              "    }\n",
              "\n",
              "    .dataframe thead th {\n",
              "        text-align: right;\n",
              "    }\n",
              "</style>\n",
              "<table border=\"1\" class=\"dataframe\">\n",
              "  <thead>\n",
              "    <tr style=\"text-align: left;\">\n",
              "      <th></th>\n",
              "      <th>continent</th>\n",
              "      <th>total_servings</th>\n",
              "      <th>avg_servings</th>\n",
              "    </tr>\n",
              "  </thead>\n",
              "  <tbody>\n",
              "    <tr>\n",
              "      <th>0</th>\n",
              "      <td>AF</td>\n",
              "      <td>3,258.00</td>\n",
              "      <td>61.47</td>\n",
              "    </tr>\n",
              "    <tr>\n",
              "      <th>1</th>\n",
              "      <td>AS</td>\n",
              "      <td>1,630.00</td>\n",
              "      <td>37.05</td>\n",
              "    </tr>\n",
              "    <tr>\n",
              "      <th>2</th>\n",
              "      <td>EU</td>\n",
              "      <td>8,720.00</td>\n",
              "      <td>193.78</td>\n",
              "    </tr>\n",
              "    <tr>\n",
              "      <th>3</th>\n",
              "      <td>OC</td>\n",
              "      <td>1,435.00</td>\n",
              "      <td>89.69</td>\n",
              "    </tr>\n",
              "    <tr>\n",
              "      <th>4</th>\n",
              "      <td>SA</td>\n",
              "      <td>2,101.00</td>\n",
              "      <td>175.08</td>\n",
              "    </tr>\n",
              "  </tbody>\n",
              "</table>\n",
              "</div>"
            ],
            "text/plain": [
              "  continent  total_servings  avg_servings\n",
              "0  AF       3,258.00         61.47       \n",
              "1  AS       1,630.00         37.05       \n",
              "2  EU       8,720.00        193.78       \n",
              "3  OC       1,435.00         89.69       \n",
              "4  SA       2,101.00        175.08       "
            ]
          },
          "metadata": {
            "tags": []
          },
          "execution_count": 177
        }
      ]
    },
    {
      "cell_type": "markdown",
      "metadata": {
        "id": "JxSvbSYk1Hco",
        "colab_type": "text"
      },
      "source": [
        "Since, the names of the variables after aggregation was specified, Index Resetting command could handle Multi-level Index."
      ]
    },
    {
      "cell_type": "markdown",
      "metadata": {
        "id": "_PcFbxGf1Hco",
        "colab_type": "text"
      },
      "source": [
        "# Making Date from different variables"
      ]
    },
    {
      "cell_type": "code",
      "metadata": {
        "id": "JdHEEZQt1Hco",
        "colab_type": "code",
        "colab": {
          "base_uri": "https://localhost:8080/",
          "height": 107
        },
        "outputId": "5b2ed9ec-62cb-4d13-c021-dc86dec520bf"
      },
      "source": [
        "time = pd.DataFrame([[25,12,2019],[28,11,2019]], columns = ['day','month','year'])\n",
        "time"
      ],
      "execution_count": 178,
      "outputs": [
        {
          "output_type": "execute_result",
          "data": {
            "text/html": [
              "<div>\n",
              "<style scoped>\n",
              "    .dataframe tbody tr th:only-of-type {\n",
              "        vertical-align: middle;\n",
              "    }\n",
              "\n",
              "    .dataframe tbody tr th {\n",
              "        vertical-align: top;\n",
              "    }\n",
              "\n",
              "    .dataframe thead th {\n",
              "        text-align: right;\n",
              "    }\n",
              "</style>\n",
              "<table border=\"1\" class=\"dataframe\">\n",
              "  <thead>\n",
              "    <tr style=\"text-align: left;\">\n",
              "      <th></th>\n",
              "      <th>day</th>\n",
              "      <th>month</th>\n",
              "      <th>year</th>\n",
              "    </tr>\n",
              "  </thead>\n",
              "  <tbody>\n",
              "    <tr>\n",
              "      <th>0</th>\n",
              "      <td>25</td>\n",
              "      <td>12</td>\n",
              "      <td>2019</td>\n",
              "    </tr>\n",
              "    <tr>\n",
              "      <th>1</th>\n",
              "      <td>28</td>\n",
              "      <td>11</td>\n",
              "      <td>2019</td>\n",
              "    </tr>\n",
              "  </tbody>\n",
              "</table>\n",
              "</div>"
            ],
            "text/plain": [
              "   day  month  year\n",
              "0  25   12     2019\n",
              "1  28   11     2019"
            ]
          },
          "metadata": {
            "tags": []
          },
          "execution_count": 178
        }
      ]
    },
    {
      "cell_type": "code",
      "metadata": {
        "id": "BWD6B0cG1Hcq",
        "colab_type": "code",
        "colab": {
          "base_uri": "https://localhost:8080/",
          "height": 107
        },
        "outputId": "5b98a980-a7c3-48ca-d3a7-a50896722dcd"
      },
      "source": [
        "time['date'] = pd.to_datetime(time[['day','month','year']])\n",
        "time"
      ],
      "execution_count": 179,
      "outputs": [
        {
          "output_type": "execute_result",
          "data": {
            "text/html": [
              "<div>\n",
              "<style scoped>\n",
              "    .dataframe tbody tr th:only-of-type {\n",
              "        vertical-align: middle;\n",
              "    }\n",
              "\n",
              "    .dataframe tbody tr th {\n",
              "        vertical-align: top;\n",
              "    }\n",
              "\n",
              "    .dataframe thead th {\n",
              "        text-align: right;\n",
              "    }\n",
              "</style>\n",
              "<table border=\"1\" class=\"dataframe\">\n",
              "  <thead>\n",
              "    <tr style=\"text-align: left;\">\n",
              "      <th></th>\n",
              "      <th>day</th>\n",
              "      <th>month</th>\n",
              "      <th>year</th>\n",
              "      <th>date</th>\n",
              "    </tr>\n",
              "  </thead>\n",
              "  <tbody>\n",
              "    <tr>\n",
              "      <th>0</th>\n",
              "      <td>25</td>\n",
              "      <td>12</td>\n",
              "      <td>2019</td>\n",
              "      <td>2019-12-25</td>\n",
              "    </tr>\n",
              "    <tr>\n",
              "      <th>1</th>\n",
              "      <td>28</td>\n",
              "      <td>11</td>\n",
              "      <td>2019</td>\n",
              "      <td>2019-11-28</td>\n",
              "    </tr>\n",
              "  </tbody>\n",
              "</table>\n",
              "</div>"
            ],
            "text/plain": [
              "   day  month  year date      \n",
              "0  25   12     2019 2019-12-25\n",
              "1  28   11     2019 2019-11-28"
            ]
          },
          "metadata": {
            "tags": []
          },
          "execution_count": 179
        }
      ]
    },
    {
      "cell_type": "markdown",
      "metadata": {
        "id": "pyQfz6mc1Hcr",
        "colab_type": "text"
      },
      "source": [
        "# Sharing Code with Link"
      ]
    },
    {
      "cell_type": "code",
      "metadata": {
        "id": "ZMQCHSw11Hcr",
        "colab_type": "code",
        "colab": {}
      },
      "source": [
        "# %pastebin 1 - 100"
      ],
      "execution_count": 180,
      "outputs": []
    },
    {
      "cell_type": "markdown",
      "metadata": {
        "id": "F02Qimr81Hcs",
        "colab_type": "text"
      },
      "source": [
        "<p> The above code will generate a sharable web link to share the codes from line number 1 to 100 </p>"
      ]
    },
    {
      "cell_type": "markdown",
      "metadata": {
        "id": "9Z_mVp9q1Hcs",
        "colab_type": "text"
      },
      "source": [
        "# Ignoring Warnings"
      ]
    },
    {
      "cell_type": "code",
      "metadata": {
        "id": "7G3nMest1Hct",
        "colab_type": "code",
        "colab": {}
      },
      "source": [
        "# import warning\n",
        "# warning.filterwanings('ignore')"
      ],
      "execution_count": 181,
      "outputs": []
    },
    {
      "cell_type": "markdown",
      "metadata": {
        "id": "RE6PrcZL1Hcu",
        "colab_type": "text"
      },
      "source": [
        "# Importing Large Data with Row Skipping"
      ]
    },
    {
      "cell_type": "code",
      "metadata": {
        "scrolled": true,
        "id": "nhqJ21ox1Hcu",
        "colab_type": "code",
        "colab": {
          "base_uri": "https://localhost:8080/",
          "height": 50
        },
        "outputId": "fc9ae4c5-f425-480e-9499-452f7f8dc0d2"
      },
      "source": [
        "olympics = pd.read_csv('http://bit.ly/olympics_120years')\n",
        "print('Dimension of Olympics :', olympics.shape)\n",
        "print('Memory Usage : %.2f MB' % (olympics.memory_usage(deep = True).sum()/(1024*1024)))"
      ],
      "execution_count": 188,
      "outputs": [
        {
          "output_type": "stream",
          "text": [
            "Dimension of Olympics : (271116, 13)\n",
            "Memory Usage : 141.30 MB\n"
          ],
          "name": "stdout"
        }
      ]
    },
    {
      "cell_type": "code",
      "metadata": {
        "scrolled": true,
        "id": "WBj_urH71Hcx",
        "colab_type": "code",
        "colab": {
          "base_uri": "https://localhost:8080/",
          "height": 50
        },
        "outputId": "44924a12-714a-42f0-aab6-6d135252339a"
      },
      "source": [
        "# Execution of this code will take time due to the use of lambda function \n",
        "olympics = pd.read_csv('http://bit.ly/olympics_120years',\n",
        "                       skiprows = lambda x: x > 0 and np.random.rand() > 0.01)\n",
        "\n",
        "print('Dimension of Olympics :', olympics.shape)\n",
        "print('Memory Usage : %.2f MB' % (olympics.memory_usage(deep = True).sum()/(1024*1024)))"
      ],
      "execution_count": 189,
      "outputs": [
        {
          "output_type": "stream",
          "text": [
            "Dimension of Olympics : (2726, 13)\n",
            "Memory Usage : 1.42 MB\n"
          ],
          "name": "stdout"
        }
      ]
    },
    {
      "cell_type": "markdown",
      "metadata": {
        "id": "HrZUwPOi1Hc0",
        "colab_type": "text"
      },
      "source": [
        "## How it works\n",
        "\n",
        "- skiprows accepts a function that is evaluated against the integer index\n",
        "- x > 0 ensures that the header row is not skipped\n",
        "- np.random.rand() > 0.01 returns True 99% of the times, thus skipping 99% of the data\n",
        "\n",
        "This method can be used to write code on a representative of a large data when struggling with data loading on slower processors"
      ]
    }
  ]
}